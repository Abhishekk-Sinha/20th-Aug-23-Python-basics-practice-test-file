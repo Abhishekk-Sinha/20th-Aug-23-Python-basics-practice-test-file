{
  "cells": [
    {
      "cell_type": "markdown",
      "metadata": {
        "id": "itoB7MQuhVhd"
      },
      "source": [
        "Ques. 1. Write a program to reverse a string."
      ]
    },
    {
      "cell_type": "code",
      "execution_count": null,
      "metadata": {
        "colab": {
          "base_uri": "https://localhost:8080/"
        },
        "id": "QufKXeSXhNv_",
        "outputId": "4aa32b9e-4cdf-40d2-f6cc-eb12ec278154"
      },
      "outputs": [
        {
          "output_type": "stream",
          "name": "stdout",
          "text": [
            "olleH \n"
          ]
        }
      ],
      "source": [
        "# Define function that takes an input_string as it's parameter.\n",
        "def reverse_string(input_string):\n",
        "\n",
        "# Initialize an empty string called reversed_string to store the reversed characters.\n",
        "  reversed_string = \" \"\n",
        "\n",
        "# Start loop that iterates through each character in the input_string\n",
        "  for char in input_string:\n",
        "\n",
        "    # Concatenate the current character with the existing reversed_string.\n",
        "    # This effectively adds the current character to the beginning of the reversed string.\n",
        "    reversed_string = char + reversed_string\n",
        "\n",
        "# After the loop is done, return the reversed_string as the output of the function.\n",
        "  return reversed_string\n",
        "\n",
        "#Driver Code\n",
        "input_string = \"Hello\"\n",
        "output_string = reverse_string(input_string)\n",
        "print(output_string)"
      ]
    },
    {
      "cell_type": "code",
      "execution_count": null,
      "metadata": {
        "colab": {
          "base_uri": "https://localhost:8080/"
        },
        "id": "pvgecQrJpjw8",
        "outputId": "74a85f0b-d9f2-4c30-a09c-6800e8a0d3c9"
      },
      "outputs": [
        {
          "name": "stdout",
          "output_type": "stream",
          "text": [
            "olleH\n"
          ]
        }
      ],
      "source": [
        "def reverse_string(input_string):\n",
        "  return input_string[::-1]\n",
        "input_string = \"Hello\"\n",
        "reversed_string = reverse_string(input_string)\n",
        "print(reversed_string)"
      ]
    },
    {
      "cell_type": "markdown",
      "metadata": {
        "id": "MKTNFEDxm-21"
      },
      "source": [
        "2. Check if a string is a palindrome.\n"
      ]
    },
    {
      "cell_type": "code",
      "execution_count": null,
      "metadata": {
        "colab": {
          "base_uri": "https://localhost:8080/"
        },
        "id": "5hjuGFeum84T",
        "outputId": "c3a38984-7e3d-4d95-8ce7-734cbb4f665d"
      },
      "outputs": [
        {
          "name": "stdout",
          "output_type": "stream",
          "text": [
            "Enter the input : boy\n",
            "False\n"
          ]
        }
      ],
      "source": [
        "def palindrome(s):\n",
        "  s = s.lower()\n",
        "  s = ''.join(e for e in s if e.isalnum())\n",
        "  return s == s[::-1]\n",
        "\n",
        "s = input(\"Enter the input : \")\n",
        "output = palindrome(s)\n",
        "print(output)\n"
      ]
    },
    {
      "cell_type": "markdown",
      "metadata": {
        "id": "NbWjMif0ummT"
      },
      "source": [
        "\n",
        "3. Convert a string to uppercase."
      ]
    },
    {
      "cell_type": "code",
      "execution_count": null,
      "metadata": {
        "colab": {
          "base_uri": "https://localhost:8080/"
        },
        "id": "mWTQRCgIrRdp",
        "outputId": "5ea3a223-fcf9-4be6-9cf1-33d7f8098b71"
      },
      "outputs": [
        {
          "name": "stdout",
          "output_type": "stream",
          "text": [
            "enter a string : abhi\n",
            "uppercase string ABHI\n"
          ]
        }
      ],
      "source": [
        "# Get input from the user\n",
        "input_string = input(\"enter a string : \")\n",
        "\n",
        "# Convert the string to uppercase\n",
        "uppercase_string = input_string.upper()\n",
        "\n",
        "# Print the uppercase string\n",
        "print(\"uppercase string\", uppercase_string)"
      ]
    },
    {
      "cell_type": "markdown",
      "metadata": {
        "id": "yR7dKG9GvFp-"
      },
      "source": [
        "4. Convert a string to lowercase."
      ]
    },
    {
      "cell_type": "code",
      "execution_count": null,
      "metadata": {
        "colab": {
          "base_uri": "https://localhost:8080/"
        },
        "id": "xS8WmHm5vDBI",
        "outputId": "3814f881-fd35-490e-95e7-361c778b00b1"
      },
      "outputs": [
        {
          "name": "stdout",
          "output_type": "stream",
          "text": [
            "enter a string : ABHIU\n",
            "lowercase string abhiu\n"
          ]
        }
      ],
      "source": [
        "#  Get input from the user\n",
        "input_string = input(\"enter a string : \")\n",
        "\n",
        "# Convert the string to lowercase using the lower() method\n",
        "lowercase_string = input_string.lower()\n",
        "\n",
        "# Print the lowercase string\n",
        "print(\"lowercase string\", lowercase_string)"
      ]
    },
    {
      "cell_type": "markdown",
      "metadata": {
        "id": "jMpU-TSnvfka"
      },
      "source": [
        "5. Count the number of vowels in a string."
      ]
    },
    {
      "cell_type": "code",
      "execution_count": null,
      "metadata": {
        "colab": {
          "base_uri": "https://localhost:8080/"
        },
        "id": "mKyy43meva9N",
        "outputId": "315f17bd-4db0-4a4e-bbe0-22c777f5128e"
      },
      "outputs": [
        {
          "name": "stdout",
          "output_type": "stream",
          "text": [
            "Number of vowels : 4\n"
          ]
        }
      ],
      "source": [
        "def count_vowels(string):\n",
        "\n",
        "  # Initialize a variable to keep track of the vowel count\n",
        "  vowel_count = 0\n",
        "\n",
        " # Convert the input string to lowercase to handle both upper and lowercase vowels\n",
        "  string = string.lower()\n",
        "\n",
        "# Define a set of vowels\n",
        "  vowels = set(\"a,e,i,o,u\")\n",
        "\n",
        "  # Iterate through each character in the string\n",
        "  for char in string:\n",
        "\n",
        "    # Check if the character is a vowel\n",
        "    if char in vowels:\n",
        "\n",
        "       # Increment the vowel count if the character is a vowel\n",
        "      vowel_count += 1\n",
        "\n",
        "      # Return the final vowel count\n",
        "  return vowel_count\n",
        "\n",
        "#Driver Code\n",
        "input_string = \"ABhi sinha\"\n",
        "result = count_vowels(input_string)\n",
        "print(\"Number of vowels :\", result)"
      ]
    },
    {
      "cell_type": "markdown",
      "metadata": {
        "id": "Cq1crKmizAyL"
      },
      "source": [
        "6. Count the number of consonants in a string\n"
      ]
    },
    {
      "cell_type": "code",
      "execution_count": null,
      "metadata": {
        "colab": {
          "base_uri": "https://localhost:8080/"
        },
        "id": "0Y5ZyYJvyMxb",
        "outputId": "8b9da8bd-e55a-457f-ace6-ee7b4c8e79b9"
      },
      "outputs": [
        {
          "name": "stdout",
          "output_type": "stream",
          "text": [
            "enter a string : abhisinha\n",
            "Num of cons. :  5\n"
          ]
        }
      ],
      "source": [
        "def count_cons(string):\n",
        "\n",
        "  # Initialize a variable to keep track of the count of consonants\n",
        "  cons_count = 0\n",
        "\n",
        "  # Define a set of consonant characters\n",
        "  string = string.lower()\n",
        "\n",
        "# Iterate through each character in the input string\n",
        "  for char in string:\n",
        "    # Check if the character is in the set of consonants\n",
        "    if char.isalpha() and char not in \"aeiou\":\n",
        "      # Increment the consonant count\n",
        "      cons_count += 1\n",
        "      # Return the final count of consonants\n",
        "  return cons_count\n",
        "\n",
        "# Driver Code\n",
        "input_string = input(\"enter a string : \")\n",
        "result = count_cons(input_string)\n",
        "print(\"Num of cons. : \", result)"
      ]
    },
    {
      "cell_type": "markdown",
      "metadata": {
        "id": "x9u7KcoJ0xzS"
      },
      "source": [
        "7. Remove all whitespaces from a string."
      ]
    },
    {
      "cell_type": "code",
      "execution_count": null,
      "metadata": {
        "colab": {
          "base_uri": "https://localhost:8080/"
        },
        "id": "wWUflgeB0KEm",
        "outputId": "e6cb9668-4471-4665-b625-58556055324e"
      },
      "outputs": [
        {
          "output_type": "stream",
          "name": "stdout",
          "text": [
            "Enter the input string Hello      World\n",
            " HelloWorld\n"
          ]
        }
      ],
      "source": [
        "def remove_whitespace(input_string):\n",
        "  # Initialize an empty string to store the result.\n",
        "  result = \" \"\n",
        "\n",
        "# Check if the character is a whitespace.\n",
        "  for char in input_string:\n",
        "    if char != \" \":\n",
        "\n",
        "      # If the character is not a whitespace, append it to the result string.\n",
        "      result += char\n",
        "\n",
        " # Return the result string with all whitespaces removed.\n",
        "  return result\n",
        "\n",
        "#Driver Code\n",
        "input_string = input(str(\"Enter the input string\"))\n",
        "output_string = remove_whitespace(input_string)\n",
        "print(output_string)"
      ]
    },
    {
      "cell_type": "markdown",
      "metadata": {
        "id": "xk8bTYak2Akw"
      },
      "source": [
        "8. Find the length of a string without using the len() function.\n",
        "\n"
      ]
    },
    {
      "cell_type": "code",
      "execution_count": null,
      "metadata": {
        "colab": {
          "base_uri": "https://localhost:8080/"
        },
        "id": "SLCAamzz1jjz",
        "outputId": "8768a200-79db-413a-d771-cb204ef4d9fa"
      },
      "outputs": [
        {
          "name": "stdout",
          "output_type": "stream",
          "text": [
            "enter the string : abhi\n",
            "4\n"
          ]
        }
      ],
      "source": [
        "def length(string):\n",
        "  #Initialize a variable to keep track of the count\n",
        "  count = 0\n",
        "\n",
        "# Iterate through each character in the string\n",
        "  for char in input_string:\n",
        "\n",
        "   # Increment the count variable by 1 for each character\n",
        "    count += 1\n",
        "\n",
        "    # Return the result string.\n",
        "  return count\n",
        "\n",
        "# Driver Code\n",
        "input_string =input(str(\"enter the string : \"))\n",
        "length_count = length(input_string)\n",
        "print(length_count)"
      ]
    },
    {
      "cell_type": "markdown",
      "metadata": {
        "id": "T2d6Cz0c43_U"
      },
      "source": [
        "9. Check if a string contains a specific word."
      ]
    },
    {
      "cell_type": "code",
      "execution_count": null,
      "metadata": {
        "colab": {
          "base_uri": "https://localhost:8080/"
        },
        "id": "vl0PfIAD3XAT",
        "outputId": "7dfd6b87-f76d-47e4-cbe1-bc9e5a326cd7"
      },
      "outputs": [
        {
          "name": "stdout",
          "output_type": "stream",
          "text": [
            "Enter a string : My name is Abhi sinha\n",
            "Enter the specific word to check for : sinha\n",
            "The string contains word 'sinha'.\n"
          ]
        }
      ],
      "source": [
        "# Input the string and the specific word\n",
        "input_string = input(\"Enter a string : \")\n",
        "specific_word = input(\"Enter the specific word to check for : \")\n",
        "\n",
        "# Check if the specific word is present in the string using the 'in' keyword\n",
        "if specific_word in input_string:\n",
        "  print(f\"The string contains word '{specific_word}'.\")\n",
        "else:\n",
        "  print(f\"The string does not contain the word '{specific_word}'.\")"
      ]
    },
    {
      "cell_type": "markdown",
      "metadata": {
        "id": "cAlWknkq6hU_"
      },
      "source": [
        "10. Replace a word in a string with another word.\n"
      ]
    },
    {
      "cell_type": "code",
      "execution_count": null,
      "metadata": {
        "colab": {
          "base_uri": "https://localhost:8080/"
        },
        "id": "4ZKsmui06mlP",
        "outputId": "f249f030-58b5-4fb7-8a1d-b32c83490070"
      },
      "outputs": [
        {
          "name": "stdout",
          "output_type": "stream",
          "text": [
            "Enter a sentence : Abhisinha\n",
            "Enter the word to be replaced: sinha\n",
            "Enter the new word: kumar\n",
            "Modified String:  Abhikumar\n"
          ]
        }
      ],
      "source": [
        "# Take input from the user\n",
        "input_string = input(\"Enter a sentence : \")\n",
        "\n",
        "# Accept the old word & new word\n",
        "old_word = input(\"Enter the word to be replaced: \")\n",
        "new_word = input(\"Enter the new word: \")\n",
        "\n",
        "#Replace the old word with the new word using string space\n",
        "modified_string = input_string.replace(old_word, new_word)\n",
        "# using print function to print the output\n",
        "print(\"Modified String: \", modified_string)"
      ]
    },
    {
      "cell_type": "markdown",
      "metadata": {
        "id": "JYCAquMl8qxc"
      },
      "source": []
    },
    {
      "cell_type": "markdown",
      "metadata": {
        "id": "7ayuss3I7ntv"
      },
      "source": [
        "11. Count the occurrences of a word in a string."
      ]
    },
    {
      "cell_type": "code",
      "execution_count": null,
      "metadata": {
        "colab": {
          "base_uri": "https://localhost:8080/"
        },
        "id": "abRuYaBh7b51",
        "outputId": "437f19ac-cc9b-432f-ecdf-e1c95a756d8f"
      },
      "outputs": [
        {
          "name": "stdout",
          "output_type": "stream",
          "text": [
            "Enter the sentence: this is my pen\n",
            "Enter the target word : pen\n",
            "1\n"
          ]
        }
      ],
      "source": [
        "def count_word_occurrences(input_string, target_word):\n",
        "\n",
        "  #Initialize a variable to keep track of the word count\n",
        "  word_count = 0\n",
        "\n",
        "  # Split the input string into a list of words\n",
        "  words = input_string.split()\n",
        "\n",
        "# Iterate through each word in the list\n",
        "  for word in words:\n",
        "\n",
        "    # Check if the current word matches the target word\n",
        "    if word == target_word:\n",
        "\n",
        "      # Increment the word count if the words match\n",
        "      word_count += 1\n",
        "  return word_count\n",
        "\n",
        "#Driver code\n",
        "input_string = input(str(\"Enter the sentence: \"))\n",
        "target_word = input(str(\"Enter the target word : \"))\n",
        "result = count_word_occurrences(input_string, target_word)\n",
        "print(result)"
      ]
    },
    {
      "cell_type": "markdown",
      "metadata": {
        "id": "xHIu6YxX9jOA"
      },
      "source": [
        "12. Find the first occurrence of a word in a string.\n",
        "\n"
      ]
    },
    {
      "cell_type": "code",
      "execution_count": null,
      "metadata": {
        "colab": {
          "base_uri": "https://localhost:8080/"
        },
        "id": "57cSZNZn9pf9",
        "outputId": "abe897e1-692a-465e-a943-704bb22be69a"
      },
      "outputs": [
        {
          "name": "stdout",
          "output_type": "stream",
          "text": [
            "Index of the 1st occurance :  11\n"
          ]
        }
      ],
      "source": [
        "# Find the index of the first occurrence of the word in the text.\n",
        "def find_first_occurrence(text, word):\n",
        "  index = text.find(word)\n",
        "\n",
        "  #Check if the index is -1, indicating that the word was not found.\n",
        "  if index == -1:\n",
        "    return None  # Return None if the word is not found.\n",
        "  return index # Return the index of the first occurrence of the word.\n",
        "\n",
        "# Driver code\n",
        "text = \"This is an example sentence. This sentence contains\"\n",
        "word = \"example\"\n",
        "result = find_first_occurrence(text, word)\n",
        "print(\"Index of the 1st occurance : \", result)"
      ]
    },
    {
      "cell_type": "markdown",
      "metadata": {
        "id": "BTost81TBbz5"
      },
      "source": [
        "13. Find the last occurrence of a word in a string."
      ]
    },
    {
      "cell_type": "code",
      "execution_count": null,
      "metadata": {
        "colab": {
          "base_uri": "https://localhost:8080/"
        },
        "id": "pzZusKWD9pjf",
        "outputId": "ae868d8c-8271-4fa1-a77b-0fcaa92ee74f"
      },
      "outputs": [
        {
          "name": "stdout",
          "output_type": "stream",
          "text": [
            "Index of the last occurance :  29\n"
          ]
        }
      ],
      "source": [
        "#Find the index of the last occurrence of the word in the text.\n",
        "def find_last_occurrence(text, word):\n",
        "  index = text.rfind(word)\n",
        "\n",
        " #Check if the index is -1, indicating that the word was not found.\n",
        "  if index == -1:\n",
        "    return None  # Return None if the word is not found\n",
        "  return index  # Return the index of the last occurrence of the word.\n",
        "\n",
        "#Driver Code\n",
        "text = \"This is an example sentence. This sentence contains\"\n",
        "word = \"This\"\n",
        "result = find_last_occurrence(text, word)\n",
        "print(\"Index of the last occurance : \", result)"
      ]
    },
    {
      "cell_type": "markdown",
      "metadata": {
        "id": "XyHlT8GeCfVK"
      },
      "source": [
        "14. Split a string into a list of words."
      ]
    },
    {
      "cell_type": "code",
      "execution_count": null,
      "metadata": {
        "colab": {
          "base_uri": "https://localhost:8080/"
        },
        "id": "-vrkYZjcB3ud",
        "outputId": "886c254d-3036-4369-e961-6b3a6d429e15"
      },
      "outputs": [
        {
          "name": "stdout",
          "output_type": "stream",
          "text": [
            "List of words :  ['This', 'is', 'an', 'example', 'sentence.']\n"
          ]
        }
      ],
      "source": [
        "def split_string_into_words(text):\n",
        "\n",
        "  #Use the split() method to split the text into a list of words.\n",
        "  word_list = text.split()\n",
        "  return word_list\n",
        "\n",
        "# Driver Code\n",
        "text = \"This is an example sentence.\"\n",
        "words = split_string_into_words(text)\n",
        "print(\"List of words : \", words)"
      ]
    },
    {
      "cell_type": "markdown",
      "metadata": {
        "id": "wSzvUrS9h85K"
      },
      "source": [
        "15. Join a list of words into a string."
      ]
    },
    {
      "cell_type": "code",
      "execution_count": null,
      "metadata": {
        "colab": {
          "base_uri": "https://localhost:8080/"
        },
        "id": "tFzLX2bCh4x7",
        "outputId": "ab18f86f-de96-4fcd-c5fb-a787fccf421c"
      },
      "outputs": [
        {
          "name": "stdout",
          "output_type": "stream",
          "text": [
            "This is an input\n"
          ]
        }
      ],
      "source": [
        "def join_word_into_string(word_list):\n",
        "    #Use the join() method to join the words in the list into a single string.\n",
        "  joined_string = ' '.join(word_list)\n",
        "  return joined_string\n",
        "\n",
        "# Driver Code\n",
        "words = [\"This\", \"is\", \"an\", \"input\"]\n",
        "text = join_word_into_string(words)\n",
        "print(text)"
      ]
    },
    {
      "cell_type": "markdown",
      "metadata": {
        "id": "_YP3lXi1nfuL"
      },
      "source": [
        "16. Convert a string where words are separated by spaces to one where words are separated by underscores."
      ]
    },
    {
      "cell_type": "code",
      "execution_count": null,
      "metadata": {
        "colab": {
          "base_uri": "https://localhost:8080/"
        },
        "id": "iRiCOX1LncmY",
        "outputId": "1ccf1418-41bf-4ebf-ae2e-7be32c7d0602"
      },
      "outputs": [
        {
          "name": "stdout",
          "output_type": "stream",
          "text": [
            "Enter the inputabhi Sinha\n",
            "Converted text: abhi_Sinha\n"
          ]
        }
      ],
      "source": [
        "def convert_to_underscore_separated(text):\n",
        "    # Step 1: Use the replace() method to replace spaces with underscores.\n",
        "    underscore_separated = text.replace(\" \", \"_\")\n",
        "\n",
        "    # Step 2: Return the converted string.\n",
        "    return underscore_separated\n",
        "\n",
        "#  Driver Code\n",
        "text = input(str(\"Enter the input\"))\n",
        "converted_text = convert_to_underscore_separated(text)\n",
        "print(\"Converted text:\", converted_text)"
      ]
    },
    {
      "cell_type": "markdown",
      "metadata": {
        "id": "OCFox6Bnn5ue"
      },
      "source": [
        "17. Check if a string starts with a specific word or phrase.\n"
      ]
    },
    {
      "cell_type": "code",
      "execution_count": null,
      "metadata": {
        "colab": {
          "base_uri": "https://localhost:8080/"
        },
        "id": "xPGR753In3Qp",
        "outputId": "9e297c73-9f82-4bb0-d22c-eb963b43c5a1"
      },
      "outputs": [
        {
          "name": "stdout",
          "output_type": "stream",
          "text": [
            "The text starts with the prefix.\n"
          ]
        }
      ],
      "source": [
        "def starts_with(text, prefix):\n",
        "\n",
        "  # Use the startswith() method to check if the text starts with the specified prefix.\n",
        "  is_start = text.startswith(prefix)\n",
        "  return is_start\n",
        "\n",
        "# Driver Code\n",
        "text = \"Hello, world!\"\n",
        "prefix = \"Hello\"\n",
        "result = starts_with(text, prefix)\n",
        "if result:\n",
        "  print(\"The text starts with the prefix.\")\n",
        "else:\n",
        "  print(\"The doesnot start with the prefix.\")"
      ]
    },
    {
      "cell_type": "markdown",
      "metadata": {
        "id": "mGzcC8b9qOGt"
      },
      "source": [
        "18. Check if a string ends with a specific word or phrase.\n"
      ]
    },
    {
      "cell_type": "code",
      "execution_count": null,
      "metadata": {
        "colab": {
          "base_uri": "https://localhost:8080/"
        },
        "id": "xRvrHb55qQ8F",
        "outputId": "df4639e8-0222-408f-913b-13fa4af67a82"
      },
      "outputs": [
        {
          "name": "stdout",
          "output_type": "stream",
          "text": [
            "The text ends with the suffix.\n"
          ]
        }
      ],
      "source": [
        "def ends_with(text, suffix):\n",
        "   # Use the endswith() method to check if the text ends with the specified suffix.\n",
        "  is_end = text.endswith(suffix)\n",
        "  return is_end\n",
        "# Driver code\n",
        "text = \"Hello, world!\"\n",
        "suffix = \"world!\"\n",
        "result = ends_with(text, suffix)\n",
        "if result:\n",
        "  print(\"The text ends with the suffix.\")\n",
        "else:\n",
        "  print(\"The text doesnot end with the suffix\")\n"
      ]
    },
    {
      "cell_type": "markdown",
      "metadata": {
        "id": "f3bS_CQXrFL4"
      },
      "source": [
        "19. Convert a string to title case (e.g., \"hello world\" to \"Hello World\").\n",
        "[ ]\n"
      ]
    },
    {
      "cell_type": "code",
      "execution_count": null,
      "metadata": {
        "colab": {
          "base_uri": "https://localhost:8080/"
        },
        "id": "P14r0KbyrH5_",
        "outputId": "40d633fc-702e-45b7-973d-ad35b59ca084"
      },
      "outputs": [
        {
          "name": "stdout",
          "output_type": "stream",
          "text": [
            "Title case : Hello World\n"
          ]
        }
      ],
      "source": [
        "def convert_to_string(text):\n",
        "\n",
        "  #  Use the title() method to convert the text to title case.\n",
        "  title_case = text.title()\n",
        "  return title_case #Return the converted text.\n",
        "\n",
        "#Driver code\n",
        "text = \"hello world\"\n",
        "result = convert_to_string(text)\n",
        "print(\"Title case :\", result)"
      ]
    },
    {
      "cell_type": "markdown",
      "metadata": {
        "id": "wh-o3qDjr-8O"
      },
      "source": [
        "20. Find the longest word in a string."
      ]
    },
    {
      "cell_type": "code",
      "execution_count": null,
      "metadata": {
        "colab": {
          "base_uri": "https://localhost:8080/"
        },
        "id": "btJrphoyr65y",
        "outputId": "ed12e7ce-2c7f-4c6e-8c3a-da774d75b45f"
      },
      "outputs": [
        {
          "name": "stdout",
          "output_type": "stream",
          "text": [
            "Enter the inputAbhisinha, is my name\n",
            "Abhisinha,\n"
          ]
        }
      ],
      "source": [
        "def longest_word(text):\n",
        "  # Use the split() method to split the text into a list of words.\n",
        "  words = text.split()\n",
        "\n",
        "  # Initialize variables to keep track of the longest word and its length.\n",
        "  longest_word = \"\"\n",
        "  max_length = 0\n",
        "\n",
        "#Iterate through the list of words.\n",
        "  for word in words:\n",
        "    # Check if the length of the current word is greater than the current max_length.\n",
        "    if len(word) > max_length:\n",
        "      max_length = len(word)\n",
        "      longest_word = word\n",
        "  return longest_word\n",
        "\n",
        "#Driver Code\n",
        "text = input(str(\"Enter the input :\"))\n",
        "result = longest_word(text)\n",
        "print(result)"
      ]
    },
    {
      "cell_type": "markdown",
      "metadata": {
        "id": "VMQOvQEdtpao"
      },
      "source": [
        "21. Find the shortest word in a string."
      ]
    },
    {
      "cell_type": "code",
      "execution_count": null,
      "metadata": {
        "colab": {
          "base_uri": "https://localhost:8080/"
        },
        "id": "x4SRrzUfsRN-",
        "outputId": "d5f4ff3d-47ff-460a-cb41-97e5c76b4c4c"
      },
      "outputs": [
        {
          "name": "stdout",
          "output_type": "stream",
          "text": [
            "Enter the input :THis is my pen\n",
            "Shortage Word:  is\n"
          ]
        }
      ],
      "source": [
        "def shortest_word(text)\n",
        "\n",
        " # Step 1: Use the split() method to split the text into a list of words.\n",
        "  words = text.split()\n",
        "\n",
        "#Initialize variables to keep track of the shortest word and its length.\n",
        "  shortest_word = None\n",
        "  min_length = float('inf')\n",
        "\n",
        "#Iterate through the list of words.\n",
        "  for word in words:\n",
        "\n",
        "    # Check if the length of the current word is smaller than the current min_length.\n",
        "    if len(word) < min_length:\n",
        "      min_length = len(word)\n",
        "      shortest_word = word\n",
        "  return shortest_word\n",
        "\n",
        "#Driver code\n",
        "text = input(str(\"Enter the input :\"))\n",
        "result = shortest_word(text)\n",
        "print(\"Shortage Word: \",result)"
      ]
    },
    {
      "cell_type": "markdown",
      "metadata": {
        "id": "jeKEhBQuwhBH"
      },
      "source": [
        "22. Reverse the order of words in a string."
      ]
    },
    {
      "cell_type": "code",
      "execution_count": null,
      "metadata": {
        "colab": {
          "base_uri": "https://localhost:8080/"
        },
        "id": "EOGgb6tfwGmd",
        "outputId": "d01b4eb0-534d-4f6c-de8e-ce80413570a6"
      },
      "outputs": [
        {
          "name": "stdout",
          "output_type": "stream",
          "text": [
            "Enter the input : this is my pen\n",
            "REverse Order :  pen my is this\n"
          ]
        }
      ],
      "source": [
        "def reverse_order(text):\n",
        "\n",
        "# Use the split() method to split the text into a list of words.\n",
        "  text = text.split()\n",
        "\n",
        "  reversed_word = text[::-1]\n",
        "  reversed_string = ' '.join(reversed_word)\n",
        "  return reversed_string\n",
        "\n",
        "#Driver code\n",
        "text = input(str(\"Enter the input : \"))\n",
        "result = reverse_order(text)\n",
        "print(\"REverse Order : \", result)"
      ]
    },
    {
      "cell_type": "markdown",
      "metadata": {
        "id": "UOBhgKkpzO-i"
      },
      "source": [
        "23. Check if a string is alphanumeric."
      ]
    },
    {
      "cell_type": "code",
      "execution_count": null,
      "metadata": {
        "colab": {
          "base_uri": "https://localhost:8080/"
        },
        "id": "So0LMlCxzRZO",
        "outputId": "c52b9f13-b441-4b1a-c692-7ef66af2466a"
      },
      "outputs": [
        {
          "name": "stdout",
          "output_type": "stream",
          "text": [
            "The string is alphanumeric\n"
          ]
        }
      ],
      "source": [
        "def alphanumeric(text):\n",
        "\n",
        "  # Use the isalnum() method to check if the string is alphanumeric.\n",
        "  return text.isalnum()\n",
        "\n",
        "#Driver code\n",
        "text = \"Hello123\"\n",
        "result = alphanumeric(text)\n",
        "if result:\n",
        "  print(\"The string is alphanumeric\")\n",
        "else:\n",
        "  print(\"The string is not alphanumeric\")"
      ]
    },
    {
      "cell_type": "markdown",
      "metadata": {
        "id": "bDPd_VJ0zyeg"
      },
      "source": [
        "24. Extract all digits from a string."
      ]
    },
    {
      "cell_type": "code",
      "execution_count": null,
      "metadata": {
        "colab": {
          "base_uri": "https://localhost:8080/"
        },
        "id": "21f2gutGz0aD",
        "outputId": "6cb47123-6ebc-4789-9e65-15bedc7ac56c"
      },
      "outputs": [
        {
          "name": "stdout",
          "output_type": "stream",
          "text": [
            " 123992\n"
          ]
        }
      ],
      "source": [
        "def extract_digits(text):\n",
        "\n",
        "   #  Initialize an empty string to store the extracted digits.\n",
        "  digits = \" \"\n",
        "\n",
        "# Check if the character is a digit using the isdigit() method.\n",
        "  for char in text:\n",
        "    if char.isdigit():\n",
        "      # Append the digit to the digits string.\n",
        "      digits += char\n",
        "  return digits\n",
        "\n",
        "#Driver code\n",
        "text = \"Hello123World992\"\n",
        "result = extract_digits(text)\n",
        "print(result)"
      ]
    },
    {
      "cell_type": "markdown",
      "metadata": {
        "id": "cDCQCW8n01Ll"
      },
      "source": [
        "25. Extract all alphabets from a string."
      ]
    },
    {
      "cell_type": "code",
      "execution_count": null,
      "metadata": {
        "colab": {
          "base_uri": "https://localhost:8080/"
        },
        "id": "gfYLp5rr0tWc",
        "outputId": "acb842bc-009e-4565-dc5b-0b1e4a8c508d"
      },
      "outputs": [
        {
          "name": "stdout",
          "output_type": "stream",
          "text": [
            "enter the input :Abhi123\n",
            " Abhi\n"
          ]
        }
      ],
      "source": [
        "def extract_alpha(text):\n",
        "  alpha = \" \"\n",
        "\n",
        "  for char in text:\n",
        "    if char.isalpha():\n",
        "      alpha += char\n",
        "  return alpha\n",
        "\n",
        "#Driver code\n",
        "text = input(str(\"enter the input :\"))\n",
        "result = extract_alpha(text)\n",
        "print(result)\n"
      ]
    },
    {
      "cell_type": "markdown",
      "metadata": {
        "id": "b7AYxGp514Qz"
      },
      "source": [
        "26. Count the number of uppercase letters in a string.\n",
        "[ ]\n"
      ]
    },
    {
      "cell_type": "code",
      "execution_count": null,
      "metadata": {
        "colab": {
          "base_uri": "https://localhost:8080/"
        },
        "id": "X1jGqYsJ1tLC",
        "outputId": "796b9d1f-6689-4a44-d139-d8db97ae8254"
      },
      "outputs": [
        {
          "name": "stdout",
          "output_type": "stream",
          "text": [
            "3\n"
          ]
        }
      ],
      "source": [
        "def count_uppercase(input_string):\n",
        "  uppercase_count = sum(1 for char in input_string if char.isupper())\n",
        "  return uppercase_count\n",
        "\n",
        "#Driver code\n",
        "input_string = \"HelloWorLd\"\n",
        "result = count_uppercase(input_string)\n",
        "print(result)"
      ]
    },
    {
      "cell_type": "markdown",
      "metadata": {
        "id": "dtk2CgQG3leW"
      },
      "source": [
        "27. Count the number of lowercase letters in a string."
      ]
    },
    {
      "cell_type": "code",
      "execution_count": null,
      "metadata": {
        "colab": {
          "base_uri": "https://localhost:8080/"
        },
        "id": "BYYDFQu53EXh",
        "outputId": "a27227b7-2b00-48e6-8bae-9b0c3496ddb4"
      },
      "outputs": [
        {
          "name": "stdout",
          "output_type": "stream",
          "text": [
            "8\n"
          ]
        }
      ],
      "source": [
        "def count_lowercase(input_string):\n",
        "  lowercase_count = sum(1 for char in input_string if char.islower())\n",
        "  return lowercase_count\n",
        "#Driver code\n",
        "input_string = \"HelloWorld\"\n",
        "result = count_lowercase(input_string)\n",
        "print(result)"
      ]
    },
    {
      "cell_type": "markdown",
      "metadata": {
        "id": "UYawPUxz4UTw"
      },
      "source": [
        "28. Swap the case of each character in a string."
      ]
    },
    {
      "cell_type": "code",
      "execution_count": null,
      "metadata": {
        "colab": {
          "base_uri": "https://localhost:8080/"
        },
        "id": "iGHsoo8g4Q7y",
        "outputId": "7a768768-1a67-4269-eeb0-384f14f8034e"
      },
      "outputs": [
        {
          "name": "stdout",
          "output_type": "stream",
          "text": [
            "hELLOworld\n"
          ]
        }
      ],
      "source": [
        "def swap_case(input_string):\n",
        "  swapped_string = input_string.swapcase()\n",
        "  return swapped_string\n",
        "\n",
        "#Driver code\n",
        "input_string = \"HelloWORLD\"\n",
        "result = swap_case(input_string)\n",
        "print(result)"
      ]
    },
    {
      "cell_type": "markdown",
      "metadata": {
        "id": "Qf7Wjg1i5ESO"
      },
      "source": [
        "29. Remove a specific word from a string."
      ]
    },
    {
      "cell_type": "code",
      "execution_count": null,
      "metadata": {
        "id": "g7b62ciG4caX"
      },
      "outputs": [],
      "source": [
        "def remove_word(input_string, word_remove):\n",
        "  modified_string = input_string.replace(word_remove)\n",
        "  filtered_word ="
      ]
    },
    {
      "cell_type": "markdown",
      "metadata": {
        "id": "nBVVEayK-pdA"
      },
      "source": [
        "30. Check if a string is a valid email address.\n"
      ]
    },
    {
      "cell_type": "code",
      "execution_count": null,
      "metadata": {
        "id": "EDYm2hH4-074"
      },
      "outputs": [],
      "source": [
        "import re\n",
        "\n",
        "def is_valid_email(email):\n",
        "  pattern = r'^[\\w\\.-]+@[\\w\\.-]+\\.\\w+$'\n",
        "  if re.match(pattern, email):\n",
        "    return True\n",
        "  else:\n",
        "    return False\n",
        "\n",
        "#Driver code\n",
        "email1 = \"abh@email.com\"\n",
        "email2 = \"Invalid-email\"\n",
        "result1 = is_valid_email(email1)\n",
        "result2 = is_valid_email(email2)"
      ]
    },
    {
      "cell_type": "code",
      "execution_count": null,
      "metadata": {
        "colab": {
          "base_uri": "https://localhost:8080/"
        },
        "id": "jrN4Xhz68pds",
        "outputId": "a2191b67-1d32-4dff-a7db-3f18d2db900c"
      },
      "outputs": [
        {
          "name": "stdout",
          "output_type": "stream",
          "text": [
            "True\n",
            "False\n"
          ]
        }
      ],
      "source": [
        "print(result1)\n",
        "print(result2)\n"
      ]
    },
    {
      "cell_type": "markdown",
      "metadata": {
        "id": "uhudeELJ9vxv"
      },
      "source": [
        "31. Extract the username from an email address string."
      ]
    },
    {
      "cell_type": "code",
      "execution_count": null,
      "metadata": {
        "colab": {
          "base_uri": "https://localhost:8080/"
        },
        "id": "tVq_q2MJ89BD",
        "outputId": "5dcc5281-5247-4d7a-d91a-2f03958ffd09"
      },
      "outputs": [
        {
          "name": "stdout",
          "output_type": "stream",
          "text": [
            "example\n"
          ]
        }
      ],
      "source": [
        "def extract_username(email):\n",
        "  username = email.split('@')[0]\n",
        "  return username\n",
        "\n",
        "#Driver code\n",
        "email = \"example@email.com\"\n",
        "result = extract_username(email)\n",
        "print(result)"
      ]
    },
    {
      "cell_type": "markdown",
      "metadata": {
        "id": "F-sVc5hI_ul_"
      },
      "source": [
        "32. Extract the domain name from an email address string.\n"
      ]
    },
    {
      "cell_type": "code",
      "execution_count": null,
      "metadata": {
        "colab": {
          "base_uri": "https://localhost:8080/"
        },
        "id": "EOH_5kiy_tob",
        "outputId": "1b4763fd-000e-42f1-e8dc-69726a2818e2"
      },
      "outputs": [
        {
          "name": "stdout",
          "output_type": "stream",
          "text": [
            "email.com\n"
          ]
        }
      ],
      "source": [
        "def extract_domain(email):\n",
        "  domain = email.split('@')[1] # Split the email address at \"@\" and take the second part\n",
        "\n",
        "  return domain\n",
        "\n",
        "#Driver code\n",
        "email = \"example@email.com\"\n",
        "result = extract_domain(email)\n",
        "print(result)"
      ]
    },
    {
      "cell_type": "markdown",
      "metadata": {
        "id": "PAvthEbyA5s4"
      },
      "source": [
        "33. Replace multiple spaces in a string with a single space.\n",
        "[ ]"
      ]
    },
    {
      "cell_type": "code",
      "execution_count": null,
      "metadata": {
        "colab": {
          "base_uri": "https://localhost:8080/"
        },
        "id": "C9ilI6IdA44x",
        "outputId": "4f92fc83-a24a-4203-bfe6-87db17ba1059"
      },
      "outputs": [
        {
          "name": "stdout",
          "output_type": "stream",
          "text": [
            "Enter the string : Hello         World      !!!!\n",
            "Hello World !!!!\n"
          ]
        }
      ],
      "source": [
        "def replace_space(input_string):\n",
        "  cleaned_string = ' '.join(input_string.split())\n",
        "  return cleaned_string\n",
        "\n",
        "#Driver code\n",
        "input_string = input(str(\"Enter the string : \"))\n",
        "result = replace_space(input_string)\n",
        "print(result)"
      ]
    },
    {
      "cell_type": "markdown",
      "metadata": {
        "id": "ynoxFtSfBqPE"
      },
      "source": [
        "34. Check if a string is a valid URL."
      ]
    },
    {
      "cell_type": "code",
      "execution_count": null,
      "metadata": {
        "colab": {
          "base_uri": "https://localhost:8080/"
        },
        "id": "nTwfk6vFBs00",
        "outputId": "dc5b6ffe-fff1-47c3-af20-d0be3e7f9d95"
      },
      "outputs": [
        {
          "name": "stdout",
          "output_type": "stream",
          "text": [
            "True\n",
            "False\n"
          ]
        }
      ],
      "source": [
        "from urllib.parse import urlparse\n",
        "\n",
        "def is_valid_url(url):\n",
        "  try:\n",
        "    result = urlparse(url)\n",
        "    return all([result.scheme, result.netloc])  # Check0 if both scheme and netloc are present\n",
        "  except ValueError:\n",
        "    return False\n",
        "\n",
        "#Driver code\n",
        "url1 = \"https://www.example.com\"\n",
        "url2 = \"invalid-url\"\n",
        "result1 = is_valid_url(url1)\n",
        "result2 = is_valid_url(url2)\n",
        "print(result1)\n",
        "print(result2)\n",
        "\n"
      ]
    },
    {
      "cell_type": "markdown",
      "metadata": {
        "id": "FNT9YjXnLV14"
      },
      "source": [
        "35. Extract the protocol (http or https) from a URL string.\n",
        "[ ]\n"
      ]
    },
    {
      "cell_type": "code",
      "execution_count": null,
      "metadata": {
        "colab": {
          "base_uri": "https://localhost:8080/"
        },
        "id": "RSieiHt_K8i7",
        "outputId": "9629f2ba-502f-4c21-cd30-e156beb9a03b"
      },
      "outputs": [
        {
          "name": "stdout",
          "output_type": "stream",
          "text": [
            "Protocol 1: https\n",
            "Protocol 2: http\n",
            "Protocol 3: ftp\n"
          ]
        }
      ],
      "source": [
        "def extract_protocol(url):\n",
        "  protocol_end = url.find(\"://\")\n",
        "\n",
        "  if protocol_end != -1:\n",
        "    protocol = url[:protocol_end]\n",
        "    return protocol\n",
        "  else:\n",
        "    return None\n",
        "\n",
        "#Driver code\n",
        "url1 = \"https://www.example.com\"\n",
        "url2 = \"http://google.com\"\n",
        "url3 = \"ftp://ftp.example.com\"\n",
        "\n",
        "# Extract protocols\n",
        "protocol1 = extract_protocol(url1)\n",
        "protocol2 = extract_protocol(url2)\n",
        "protocol3 = extract_protocol(url3)\n",
        "\n",
        "# Print extracted protocols\n",
        "print(\"Protocol 1:\", protocol1)\n",
        "print(\"Protocol 2:\", protocol2)\n",
        "print(\"Protocol 3:\", protocol3)"
      ]
    },
    {
      "cell_type": "markdown",
      "metadata": {
        "id": "9nUe0injNDCN"
      },
      "source": [
        "36. Find the frequency of each character in a string.\n"
      ]
    },
    {
      "cell_type": "code",
      "execution_count": null,
      "metadata": {
        "colab": {
          "base_uri": "https://localhost:8080/"
        },
        "id": "hfpp6RTBNIDt",
        "outputId": "aacae9b1-ddbb-41cd-c598-c04b3145cd24"
      },
      "outputs": [
        {
          "name": "stdout",
          "output_type": "stream",
          "text": [
            "Character : 'H', Frequency: 1\n",
            "Character : 'e', Frequency: 1\n",
            "Character : 'l', Frequency: 3\n",
            "Character : 'o', Frequency: 2\n",
            "Character : ' ', Frequency: 1\n",
            "Character : 'W', Frequency: 1\n",
            "Character : 'r', Frequency: 1\n",
            "Character : 'd', Frequency: 1\n"
          ]
        }
      ],
      "source": [
        "def character_frequency(input_string):\n",
        "  frequency = {}\n",
        "\n",
        "  for  char in input_string:\n",
        "    if char in frequency:\n",
        "      frequency[char] += 1\n",
        "    else:\n",
        "      frequency[char] = 1\n",
        "  return frequency\n",
        "\n",
        "#Driver code\n",
        "input_string = \"Hello World\"\n",
        "char_freq = character_frequency(input_string)\n",
        "\n",
        "# Print character frequencies\n",
        "for char, freq in char_freq.items():\n",
        "  print(f\"Character : '{char}', Frequency: {freq}\")\n"
      ]
    },
    {
      "cell_type": "markdown",
      "metadata": {
        "id": "gh_P_r1bP5t_"
      },
      "source": [
        "37. Remove all punctuation from a string."
      ]
    },
    {
      "cell_type": "code",
      "execution_count": null,
      "metadata": {
        "colab": {
          "base_uri": "https://localhost:8080/"
        },
        "id": "0w8VP2x3QhE_",
        "outputId": "41cf09d9-3c2e-4506-d1f6-974c3132d28f"
      },
      "outputs": [
        {
          "name": "stdout",
          "output_type": "stream",
          "text": [
            "!\"#$%&'()*+,-./:;<=>?@[\\]^_`{|}~\n"
          ]
        }
      ],
      "source": [
        "import string\n",
        "result = string.punctuation\n",
        "print(result)"
      ]
    },
    {
      "cell_type": "code",
      "execution_count": null,
      "metadata": {
        "colab": {
          "base_uri": "https://localhost:8080/"
        },
        "id": "W-ID43c6QD5H",
        "outputId": "9954d772-fd04-4753-edbf-540d19476a8d"
      },
      "outputs": [
        {
          "name": "stdout",
          "output_type": "stream",
          "text": [
            "Hello World Howre You\n"
          ]
        }
      ],
      "source": [
        "import string\n",
        "def remove_punctuation(input_string):\n",
        "  # Create a translation table to remove punctuation\n",
        "  translator = str.maketrans(\"\", \"\", string.punctuation)\n",
        "\n",
        "  # Use the translation table to remove punctuation from the input string\n",
        "  clean_string = input_string.translate(translator)\n",
        "  return clean_string\n",
        "\n",
        "#Driver code\n",
        "input_string = \"Hello, World! How're You??\"\n",
        "cleaned_string = remove_punctuation(input_string)\n",
        "print(cleaned_string)"
      ]
    },
    {
      "cell_type": "markdown",
      "metadata": {
        "id": "ViGtrXgvSx8Y"
      },
      "source": [
        "38. Check if a string contains only digits."
      ]
    },
    {
      "cell_type": "code",
      "execution_count": null,
      "metadata": {
        "colab": {
          "base_uri": "https://localhost:8080/"
        },
        "id": "5mym-9YZUUGY",
        "outputId": "5b06dc42-3521-4c1e-f99f-cdf529d06649"
      },
      "outputs": [
        {
          "name": "stdout",
          "output_type": "stream",
          "text": [
            " '12345' cotains only digits : True\n",
            " 'Abhi123' cotains only digits : False\n"
          ]
        }
      ],
      "source": [
        "def contains_digits(input_string):\n",
        "  return input_string.isdigit()\n",
        "\n",
        "\n",
        "#Driver code\n",
        "string1 = \"12345\"\n",
        "string2 = \"Abhi123\"\n",
        "\n",
        "#Check if strings contain only digits\n",
        "result1 = contains_digits(string1)\n",
        "result2 = contains_digits(string2)\n",
        "\n",
        "\n",
        "print(f\" '{string1}' cotains only digits :\", result1)\n",
        "print(f\" '{string2}' cotains only digits :\", result2)"
      ]
    },
    {
      "cell_type": "markdown",
      "metadata": {
        "id": "UeE2gFrlP9Zk"
      },
      "source": [
        "39. Check if a string contains only alphabets.\n"
      ]
    },
    {
      "cell_type": "code",
      "execution_count": null,
      "metadata": {
        "colab": {
          "base_uri": "https://localhost:8080/"
        },
        "id": "jW7rNHHDV68e",
        "outputId": "170716bd-3aa0-4b2d-f53c-6429b2ebf3b8"
      },
      "outputs": [
        {
          "name": "stdout",
          "output_type": "stream",
          "text": [
            " 'Hello' cotains only alphabetes : True\n",
            " 'Hello123' cotains only alphabetes: False\n"
          ]
        }
      ],
      "source": [
        "def contains_alphabets(input_string):\n",
        "  return input_string.isalpha()\n",
        "\n",
        "#Driver code\n",
        "string1  = \"Hello\"\n",
        "string2 = \"Hello123\"\n",
        "\n",
        "# Check if strings contain only alphabets\n",
        "result1 = contains_alphabets(string1)\n",
        "result2 = contains_alphabets(string2)\n",
        "\n",
        "# Print the results\n",
        "print(f\" '{string1}' cotains only alphabetes :\", result1)\n",
        "print(f\" '{string2}' cotains only alphabetes:\", result2)"
      ]
    },
    {
      "cell_type": "markdown",
      "metadata": {
        "id": "ga6mGFSWXE--"
      },
      "source": [
        "40. Convert a string to a list of characters"
      ]
    },
    {
      "cell_type": "code",
      "execution_count": null,
      "metadata": {
        "colab": {
          "base_uri": "https://localhost:8080/"
        },
        "id": "M2w33UcHWbQC",
        "outputId": "2524c65c-4021-493d-f075-5ff444c2f0a6"
      },
      "outputs": [
        {
          "name": "stdout",
          "output_type": "stream",
          "text": [
            "Hello, world!\n",
            "['H', 'e', 'l', 'l', 'o', ',', ' ', 'w', 'o', 'r', 'l', 'd', '!']\n"
          ]
        }
      ],
      "source": [
        "def string_list(input_string):\n",
        "  # Use list() constructor to convert the string to a list of characters\n",
        "  char_list = list(input_string)\n",
        "  return char_list\n",
        "\n",
        "#Driver code\n",
        "input_string = \"Hello, world!\"\n",
        "\n",
        "# Convert the string to a list of characters\n",
        "char_list = string_list(input_string)\n",
        "print(input_string)\n",
        "print(char_list)"
      ]
    },
    {
      "cell_type": "markdown",
      "metadata": {
        "id": "-5DZ3B7ZX1vL"
      },
      "source": [
        "41. Check if two strings are anagrams."
      ]
    },
    {
      "cell_type": "code",
      "execution_count": null,
      "metadata": {
        "colab": {
          "base_uri": "https://localhost:8080/"
        },
        "id": "TvAFWCRBXvwf",
        "outputId": "a0b7ec1f-9a2e-4d13-e4df-1e748639a9bd"
      },
      "outputs": [
        {
          "name": "stdout",
          "output_type": "stream",
          "text": [
            "Enter the String : listen\n",
            "Enter the String : silent\n",
            "The strings are anagrams.\n"
          ]
        }
      ],
      "source": [
        "def check_anagrams(s1, s2):\n",
        "   # Sort the characters in both strings and compare\n",
        "  if(sorted(s1) == sorted(s2)):\n",
        "    print(\"The strings are anagrams.\")\n",
        "  else:\n",
        "    print(\"The strings are not anagrams.\")\n",
        "\n",
        "#Driver code\n",
        "s1 = input(str(\"Enter the String : \"))\n",
        "s2 = input(str(\"Enter the String : \"))\n",
        "check_anagrams(s1, s2)\n"
      ]
    },
    {
      "cell_type": "markdown",
      "metadata": {
        "id": "CrLlOs55aiWa"
      },
      "source": [
        "42. Encode a string using a Caesar cipher."
      ]
    },
    {
      "cell_type": "code",
      "execution_count": null,
      "metadata": {
        "colab": {
          "base_uri": "https://localhost:8080/"
        },
        "id": "TA99M3sxZEjx",
        "outputId": "32e9c396-d896-4e2a-b763-386c2707f58f"
      },
      "outputs": [
        {
          "name": "stdout",
          "output_type": "stream",
          "text": [
            "Encoded text: ehoor, zruog!\n"
          ]
        }
      ],
      "source": []
    },
    {
      "cell_type": "markdown",
      "metadata": {
        "id": "hH-SC2HefnpE"
      },
      "source": [
        "43. Decode a Caesar cipher encoded string."
      ]
    },
    {
      "cell_type": "markdown",
      "metadata": {
        "id": "61lCbCjkdU3u"
      },
      "source": [
        "44. Find the most frequent word in a string."
      ]
    },
    {
      "cell_type": "code",
      "execution_count": null,
      "metadata": {
        "colab": {
          "base_uri": "https://localhost:8080/"
        },
        "id": "GB6sI6BndYXH",
        "outputId": "3cf23b74-1f0a-4ca5-c97f-9b9f8238657a"
      },
      "outputs": [
        {
          "name": "stdout",
          "output_type": "stream",
          "text": [
            "how\n"
          ]
        }
      ],
      "source": [
        "import re\n",
        "from collections import Counter\n",
        "\n",
        "def most_frequent_word(input_string):\n",
        "  clean_string = re.sub(r'[^\\w\\s]', '', input_string).lower()\n",
        "  words = clean_string.split()\n",
        "  word_counter = Counter(words)\n",
        "\n",
        "  most_common_word = word_counter.most_common(1)[0][0]\n",
        "  return most_common_word\n",
        "\n",
        "#Driver code\n",
        "input_string = \"Hello WOrld, how are you?, how is going on?\"\n",
        "most_common = most_frequent_word(input_string)\n",
        "print(most_common)"
      ]
    },
    {
      "cell_type": "code",
      "execution_count": null,
      "metadata": {
        "id": "43Gs2vPlgt_E"
      },
      "outputs": [],
      "source": []
    },
    {
      "cell_type": "markdown",
      "metadata": {
        "id": "7MBQZRPXgOPL"
      },
      "source": [
        "45. Find all unique words in a string."
      ]
    },
    {
      "cell_type": "markdown",
      "metadata": {
        "id": "EQGp8GN7g4yd"
      },
      "source": []
    },
    {
      "cell_type": "markdown",
      "metadata": {
        "id": "KlZudSxng5C7"
      },
      "source": [
        "46. Count the number of syllables in a string."
      ]
    },
    {
      "cell_type": "markdown",
      "metadata": {
        "id": "IdV0gOaDg5P3"
      },
      "source": [
        "47. Check if a string contains any special characters.\n"
      ]
    },
    {
      "cell_type": "markdown",
      "metadata": {
        "id": "IKYA66xLg0vf"
      },
      "source": [
        "48. Remove the nth word from a string."
      ]
    },
    {
      "cell_type": "markdown",
      "metadata": {
        "id": "jJsjdskVgwaM"
      },
      "source": [
        "49. Insert a word at the nth position in a string.\n"
      ]
    },
    {
      "cell_type": "code",
      "execution_count": null,
      "metadata": {
        "id": "XBGh3PVBgcz-"
      },
      "outputs": [],
      "source": []
    },
    {
      "cell_type": "code",
      "execution_count": null,
      "metadata": {
        "id": "8sV1nyiKgdO2"
      },
      "outputs": [],
      "source": []
    },
    {
      "cell_type": "markdown",
      "metadata": {
        "id": "Sr5RM9Olgs-T"
      },
      "source": [
        "50. Convert a CSV string to a list of lists."
      ]
    },
    {
      "cell_type": "markdown",
      "metadata": {
        "id": "YXLmXN8thEf8"
      },
      "source": [
        "List based practice problem :"
      ]
    },
    {
      "cell_type": "markdown",
      "metadata": {
        "id": "g0PVJJhwhObl"
      },
      "source": [
        "1. Create a list with integers from 1 to 10."
      ]
    },
    {
      "cell_type": "code",
      "execution_count": null,
      "metadata": {
        "colab": {
          "base_uri": "https://localhost:8080/"
        },
        "id": "Mwdk7kyuhRQI",
        "outputId": "2b43ddeb-3d17-4a42-fe7c-aeaa708f0aa9"
      },
      "outputs": [
        {
          "name": "stdout",
          "output_type": "stream",
          "text": [
            "[1, 2, 3, 4, 5, 6, 7, 8, 9, 10]\n"
          ]
        }
      ],
      "source": [
        "# Use a list comprehension to create a list of integers from 1 to 10\n",
        "my_list = [i for i in range(1, 11)]\n",
        "print(my_list)"
      ]
    },
    {
      "cell_type": "markdown",
      "metadata": {
        "id": "WDCw8ndsjtmI"
      },
      "source": [
        "2. Find the length of a list without using the len() function.\n"
      ]
    },
    {
      "cell_type": "code",
      "execution_count": null,
      "metadata": {
        "colab": {
          "background_save": true
        },
        "id": "pfevdYHmil9s",
        "outputId": "a14827f8-8b26-4684-d7ed-d1e424eea8ec"
      },
      "outputs": [
        {
          "ename": "NameError",
          "evalue": "name 'custom_len' is not defined",
          "output_type": "error",
          "traceback": [
            "\u001b[0;31m---------------------------------------------------------------------------\u001b[0m",
            "\u001b[0;31mNameError\u001b[0m                                 Traceback (most recent call last)",
            "\u001b[0;32m<ipython-input-2-37efd024c885>\u001b[0m in \u001b[0;36m<cell line: 8>\u001b[0;34m()\u001b[0m\n\u001b[1;32m      6\u001b[0m \u001b[0;34m\u001b[0m\u001b[0m\n\u001b[1;32m      7\u001b[0m \u001b[0mmy_list\u001b[0m \u001b[0;34m=\u001b[0m \u001b[0;34m[\u001b[0m\u001b[0;36m10\u001b[0m\u001b[0;34m,\u001b[0m \u001b[0;36m20\u001b[0m\u001b[0;34m,\u001b[0m \u001b[0;36m30\u001b[0m\u001b[0;34m,\u001b[0m \u001b[0;36m40\u001b[0m\u001b[0;34m,\u001b[0m \u001b[0;36m50\u001b[0m\u001b[0;34m]\u001b[0m\u001b[0;34m\u001b[0m\u001b[0;34m\u001b[0m\u001b[0m\n\u001b[0;32m----> 8\u001b[0;31m \u001b[0mlength\u001b[0m \u001b[0;34m=\u001b[0m \u001b[0mcustom_len\u001b[0m\u001b[0;34m(\u001b[0m\u001b[0mmy_list\u001b[0m\u001b[0;34m)\u001b[0m\u001b[0;34m\u001b[0m\u001b[0;34m\u001b[0m\u001b[0m\n\u001b[0m\u001b[1;32m      9\u001b[0m \u001b[0mprint\u001b[0m\u001b[0;34m(\u001b[0m\u001b[0;34m\"Length of the list:\"\u001b[0m\u001b[0;34m,\u001b[0m \u001b[0mlength\u001b[0m\u001b[0;34m)\u001b[0m\u001b[0;34m\u001b[0m\u001b[0;34m\u001b[0m\u001b[0m\n",
            "\u001b[0;31mNameError\u001b[0m: name 'custom_len' is not defined"
          ]
        }
      ],
      "source": [
        "def len_list(lst):\n",
        "  count = 0\n",
        "  for i in lst:\n",
        "    count += 1\n",
        "  return count\n",
        "\n",
        "#Driver code\n",
        "my_list = [10, 20, 30, 40, 50]\n",
        "length = custom_len(my_list)\n",
        "print(\"Length of the list:\", length)"
      ]
    },
    {
      "cell_type": "code",
      "execution_count": null,
      "metadata": {
        "id": "3X_n-AByXhTa"
      },
      "outputs": [],
      "source": []
    },
    {
      "cell_type": "markdown",
      "metadata": {
        "id": "gaGyXTSFXijq"
      },
      "source": [
        "3. Append an element to the end of a list.\n"
      ]
    },
    {
      "cell_type": "code",
      "execution_count": null,
      "metadata": {
        "colab": {
          "base_uri": "https://localhost:8080/"
        },
        "id": "mQFgruIbXpRM",
        "outputId": "a7862954-089d-40f8-dd9d-0cce9dcea7bf"
      },
      "outputs": [
        {
          "output_type": "stream",
          "name": "stdout",
          "text": [
            "[10, 30, 50, 70, 90]\n"
          ]
        }
      ],
      "source": [
        "lst = [10, 30, 50, 70]\n",
        "\n",
        "# Element to append\n",
        "new_num = 90\n",
        "\n",
        "# Append the new element to the end of the list\n",
        "lst.append(new_num)\n",
        "print(lst)"
      ]
    },
    {
      "cell_type": "markdown",
      "source": [
        "4. Insert an element at a specific index in a list."
      ],
      "metadata": {
        "id": "4HEVTZqmatQH"
      }
    },
    {
      "cell_type": "code",
      "source": [
        "lst = [10, 20, 30, 40]\n",
        "\n",
        "# Element to insert\n",
        "new_element = 50\n",
        "\n",
        "# Index at which to insert the element\n",
        "index_insert = 5\n",
        "\n",
        "# Insert the new element at the specified index\n",
        "lst.insert(index_insert, new_element)\n",
        "print(lst)\n"
      ],
      "metadata": {
        "colab": {
          "base_uri": "https://localhost:8080/"
        },
        "id": "VMn9AacLawZw",
        "outputId": "c445fb4d-f4b1-41d0-d8ec-1b0b12be3370"
      },
      "execution_count": null,
      "outputs": [
        {
          "output_type": "stream",
          "name": "stdout",
          "text": [
            "[10, 20, 30, 40, 50]\n"
          ]
        }
      ]
    },
    {
      "cell_type": "markdown",
      "source": [
        "\n",
        "5. Remove an element from a list by its value.\n"
      ],
      "metadata": {
        "id": "_4IPm7UjcG_4"
      }
    },
    {
      "cell_type": "code",
      "source": [
        "lst = [10,20,30,40]\n",
        "\n",
        "# Element to remove\n",
        "element_remove = 40\n",
        "\n",
        "# Remove the element by its value\n",
        "lst.remove(element_remove)\n",
        "print(lst)"
      ],
      "metadata": {
        "colab": {
          "base_uri": "https://localhost:8080/"
        },
        "id": "zWYsQKgwbVag",
        "outputId": "4d5209d7-0915-4fa8-c6b8-b6538175a596"
      },
      "execution_count": null,
      "outputs": [
        {
          "output_type": "stream",
          "name": "stdout",
          "text": [
            "[10, 20, 30]\n"
          ]
        }
      ]
    },
    {
      "cell_type": "code",
      "source": [],
      "metadata": {
        "id": "OcN-Ej3DceDR"
      },
      "execution_count": null,
      "outputs": []
    },
    {
      "cell_type": "markdown",
      "source": [
        "6. Remove an element from a list by its index."
      ],
      "metadata": {
        "id": "yydJYdm5chEI"
      }
    },
    {
      "cell_type": "code",
      "source": [
        "lst = [10,20,30,40]\n",
        "\n",
        "# Index of the element to remove\n",
        "index_remove = 3\n",
        "\n",
        "# Remove the element at the specified index\n",
        "remove_element = lst.pop(index_remove)\n",
        "print(remove_element)\n",
        "lst"
      ],
      "metadata": {
        "colab": {
          "base_uri": "https://localhost:8080/"
        },
        "id": "1ql4lE1NcjVx",
        "outputId": "9458c6ad-552d-4255-fade-d5170d1dbd99"
      },
      "execution_count": null,
      "outputs": [
        {
          "output_type": "stream",
          "name": "stdout",
          "text": [
            "40\n"
          ]
        },
        {
          "output_type": "execute_result",
          "data": {
            "text/plain": [
              "[10, 20, 30]"
            ]
          },
          "metadata": {},
          "execution_count": 9
        }
      ]
    },
    {
      "cell_type": "markdown",
      "source": [
        "7. Check if an element exists in a list.\n"
      ],
      "metadata": {
        "id": "heO4cE5pdQbG"
      }
    },
    {
      "cell_type": "code",
      "source": [
        "lst = [10,20,30,40]\n",
        "\n",
        "# Element to check\n",
        "element_check = int(input(\"Enter the number\"))\n",
        "\n",
        "# Check if the element exists in the list\n",
        "if element_check in lst:\n",
        "  print(f\"{element_check} elment exist in list\")\n",
        "else:\n",
        "  print(f\"{element_check} doesnot elment exist in list\")"
      ],
      "metadata": {
        "colab": {
          "base_uri": "https://localhost:8080/"
        },
        "id": "SnwHc8_odCLd",
        "outputId": "ac56cc6b-5d7f-46d4-d95e-ff047bd3535a"
      },
      "execution_count": null,
      "outputs": [
        {
          "output_type": "stream",
          "name": "stdout",
          "text": [
            "Enter the number5\n",
            "5 doesnot elment exist in list\n"
          ]
        }
      ]
    },
    {
      "cell_type": "markdown",
      "source": [
        "8. Find the index of the first occurrence of an element in a list.\n"
      ],
      "metadata": {
        "id": "La1Ayfz1f-cY"
      }
    },
    {
      "cell_type": "code",
      "source": [
        "lst = [10,20,30,40,50]\n",
        "\n",
        "# Element to find the index of\n",
        "element_find = 40\n",
        "\n",
        "# Find the index of the first occurrence of the element\n",
        "index = lst.index(element_find)\n",
        "\n",
        "# Print the index\n",
        "print(f\"the index of {element_find} is {index}\")"
      ],
      "metadata": {
        "colab": {
          "base_uri": "https://localhost:8080/"
        },
        "id": "HhX43Jw-eH_O",
        "outputId": "3c4ac9c1-12a6-486b-854e-c809d3af0bbc"
      },
      "execution_count": null,
      "outputs": [
        {
          "output_type": "stream",
          "name": "stdout",
          "text": [
            "the index of 40 is 3\n"
          ]
        }
      ]
    },
    {
      "cell_type": "code",
      "source": [],
      "metadata": {
        "id": "v_6i9pwqgnge"
      },
      "execution_count": null,
      "outputs": []
    },
    {
      "cell_type": "markdown",
      "source": [
        "9. Count the occurrences of an element in a list.\n"
      ],
      "metadata": {
        "id": "sSRpE7t1gupn"
      }
    },
    {
      "cell_type": "code",
      "source": [
        "lst = [10,20,30,20,30,20,20,40,50]\n",
        "\n",
        "# Element to count occurrences of\n",
        "element_count = 20\n",
        "\n",
        "# Count the occurrences of the element\n",
        "count = lst.count(element_count)\n",
        "\n",
        "# Print the count\n",
        "print(f\"The element{element_count} occurs {count} times in the list\")"
      ],
      "metadata": {
        "colab": {
          "base_uri": "https://localhost:8080/"
        },
        "id": "dX3T0iUqgvxZ",
        "outputId": "cbecd4bf-1b79-4ff3-db8d-28813adbff2a"
      },
      "execution_count": null,
      "outputs": [
        {
          "output_type": "stream",
          "name": "stdout",
          "text": [
            "The element20 occurs 4 times in the list\n"
          ]
        }
      ]
    },
    {
      "cell_type": "markdown",
      "source": [
        "10. Reverse the order of elements in a list."
      ],
      "metadata": {
        "id": "hTS36Ha-h0eL"
      }
    },
    {
      "cell_type": "code",
      "source": [
        "lst = [10,20,30,40,50]\n",
        "\n",
        "# Reverse the order of elements in the list\n",
        "lst.reverse()\n",
        "print(lst)"
      ],
      "metadata": {
        "colab": {
          "base_uri": "https://localhost:8080/"
        },
        "id": "Tv-2US0ahxr6",
        "outputId": "efda91c6-9b35-4718-fc1d-834b5f09fbe2"
      },
      "execution_count": null,
      "outputs": [
        {
          "output_type": "stream",
          "name": "stdout",
          "text": [
            "[50, 40, 30, 20, 10]\n"
          ]
        }
      ]
    },
    {
      "cell_type": "markdown",
      "source": [
        "11. Sort a list in ascending order."
      ],
      "metadata": {
        "id": "H3jP5yReiJ2W"
      }
    },
    {
      "cell_type": "code",
      "source": [],
      "metadata": {
        "id": "MyiiLu6KioD2"
      },
      "execution_count": null,
      "outputs": []
    },
    {
      "cell_type": "code",
      "source": [
        "lst = [50, 10, 30, 40, 20]\n",
        "\n",
        "# Sort the list in ascending order\n",
        "lst.sort()\n",
        "\n",
        "# Print the sorted list\n",
        "print(lst)"
      ],
      "metadata": {
        "colab": {
          "base_uri": "https://localhost:8080/"
        },
        "id": "OGgymaXmiGeA",
        "outputId": "30734059-c200-4210-b598-9e6d5a2b2f51"
      },
      "execution_count": null,
      "outputs": [
        {
          "output_type": "stream",
          "name": "stdout",
          "text": [
            "[10, 20, 30, 40, 50]\n"
          ]
        }
      ]
    },
    {
      "cell_type": "markdown",
      "source": [
        "12. Sort a list in descending order."
      ],
      "metadata": {
        "id": "VWRjhFDViqrq"
      }
    },
    {
      "cell_type": "code",
      "source": [
        "lst = [50, 10, 30, 40, 20]\n",
        "\n",
        "# Sort the list in descending order\n",
        "lst.sort(reverse = True)\n",
        "\n",
        "# Print the sorted list\n",
        "print(lst)"
      ],
      "metadata": {
        "colab": {
          "base_uri": "https://localhost:8080/"
        },
        "id": "vxouKeU0ixVV",
        "outputId": "8a6a0841-d86f-4ed4-cf74-16e329da2db5"
      },
      "execution_count": null,
      "outputs": [
        {
          "output_type": "stream",
          "name": "stdout",
          "text": [
            "[50, 40, 30, 20, 10]\n"
          ]
        }
      ]
    },
    {
      "cell_type": "markdown",
      "source": [
        "13. Create a list of even numbers from 1 to 20."
      ],
      "metadata": {
        "id": "H-iuPInQjPrj"
      }
    },
    {
      "cell_type": "code",
      "source": [
        "# Use a list comprehension to create a list of even numbers from 1 to 20\n",
        "even_num = [x for x in range(2,21,2)]\n",
        "\n",
        "# Print the list of even numbers\n",
        "print(\"List of even numbers : \", even_num)"
      ],
      "metadata": {
        "colab": {
          "base_uri": "https://localhost:8080/"
        },
        "id": "NkhyMIZOi_zy",
        "outputId": "d4b7c3be-b2c4-4c79-a1ef-b7023c1388a9"
      },
      "execution_count": null,
      "outputs": [
        {
          "output_type": "stream",
          "name": "stdout",
          "text": [
            "List of even numbers :  [2, 4, 6, 8, 10, 12, 14, 16, 18, 20]\n"
          ]
        }
      ]
    },
    {
      "cell_type": "markdown",
      "source": [
        "14. Create a list of odd numbers from 1 to 20"
      ],
      "metadata": {
        "id": "T3GXeF1ojr6B"
      }
    },
    {
      "cell_type": "code",
      "source": [
        "# Use a list comprehension to create a list of odd numbers from 1 to 20\n",
        "odd_num = [x for x in range(1,21,2)]\n",
        "\n",
        "# Print the list of odd numbers\n",
        "print(\"List of even numbers : \", odd_num)"
      ],
      "metadata": {
        "colab": {
          "base_uri": "https://localhost:8080/"
        },
        "id": "p7X8hbPejq4p",
        "outputId": "1f4ec212-ac0d-4367-e4d0-26f5b9d0b717"
      },
      "execution_count": null,
      "outputs": [
        {
          "output_type": "stream",
          "name": "stdout",
          "text": [
            "List of even numbers :  [1, 3, 5, 7, 9, 11, 13, 15, 17, 19]\n"
          ]
        }
      ]
    },
    {
      "cell_type": "markdown",
      "source": [
        "15. Find the sum of all elements in a list."
      ],
      "metadata": {
        "id": "ja7chw-UkO0I"
      }
    },
    {
      "cell_type": "code",
      "source": [
        "lst = [10, 20, 30, 40, 50]\n",
        "\n",
        "# Calculate the sum of all elements in the list\n",
        "sum = sum(lst)\n",
        "\n",
        "# Print the sum\n",
        "print(sum)"
      ],
      "metadata": {
        "colab": {
          "base_uri": "https://localhost:8080/"
        },
        "id": "KPhUkIKmjoCi",
        "outputId": "32280d69-7f60-4b58-ac40-5a3e79d8c705"
      },
      "execution_count": null,
      "outputs": [
        {
          "output_type": "stream",
          "name": "stdout",
          "text": [
            "150\n"
          ]
        }
      ]
    },
    {
      "cell_type": "markdown",
      "source": [
        "16. Find the maximum value in a list."
      ],
      "metadata": {
        "id": "cAdicJBukg3N"
      }
    },
    {
      "cell_type": "code",
      "source": [
        "lst = [10, 20, 30, 40, 50]\n",
        "\n",
        "# Find the maximum value in the list\n",
        "max_num = max(lst)\n",
        "\n",
        "# Print the maximum value\n",
        "print(\"Maximum value:\", max_num)"
      ],
      "metadata": {
        "colab": {
          "base_uri": "https://localhost:8080/"
        },
        "id": "RuNx4oDKkdIl",
        "outputId": "0d57a182-3ddd-45ff-f024-c48952eac2a9"
      },
      "execution_count": null,
      "outputs": [
        {
          "output_type": "stream",
          "name": "stdout",
          "text": [
            "Maximum value: 50\n"
          ]
        }
      ]
    },
    {
      "cell_type": "markdown",
      "source": [
        "17. Find the minimum value in a list.\n"
      ],
      "metadata": {
        "id": "-4Bc_9rlk7hp"
      }
    },
    {
      "cell_type": "code",
      "source": [
        "lst = [10, 20, 30, 40, 50]\n",
        "\n",
        "# Find the minimum value in the list\n",
        "min_num = min(lst)\n",
        "\n",
        "# Print the minimum value\n",
        "print(\"Minimum value:\", min_num)\n"
      ],
      "metadata": {
        "colab": {
          "base_uri": "https://localhost:8080/"
        },
        "id": "KLuG02Ixk6Qz",
        "outputId": "aca701b5-d632-4535-fdb3-c149eab04b9e"
      },
      "execution_count": null,
      "outputs": [
        {
          "output_type": "stream",
          "name": "stdout",
          "text": [
            "Minimum value: 10\n"
          ]
        }
      ]
    },
    {
      "cell_type": "markdown",
      "source": [
        "18. Create a list of squares of numbers from 1 to 10."
      ],
      "metadata": {
        "id": "DfKNxnKllR4T"
      }
    },
    {
      "cell_type": "code",
      "source": [
        "# Use a list comprehension to create a list of squares of numbers from 1 to 10\n",
        "squ_num = [x** 2 for x in range(1,11)]\n",
        "\n",
        "# Print the list of squares\n",
        "print(\"List of squares:\", squ_num)\n"
      ],
      "metadata": {
        "colab": {
          "base_uri": "https://localhost:8080/"
        },
        "id": "9t07_86YlWUi",
        "outputId": "87e118c0-4e88-4ab4-c4ae-f24b7c9360a0"
      },
      "execution_count": null,
      "outputs": [
        {
          "output_type": "stream",
          "name": "stdout",
          "text": [
            "List of squares: [1, 4, 9, 16, 25, 36, 49, 64, 81, 100]\n"
          ]
        }
      ]
    },
    {
      "cell_type": "code",
      "source": [],
      "metadata": {
        "id": "Q3NWh0HPlPvK"
      },
      "execution_count": null,
      "outputs": []
    },
    {
      "cell_type": "markdown",
      "source": [
        "19. Create a list of random numbers."
      ],
      "metadata": {
        "id": "Rkjmd6EGltY2"
      }
    },
    {
      "cell_type": "code",
      "source": [
        "import random\n",
        "\n",
        "# Create a list of random integers between 1 and 100\n",
        "random_num = [random.randint(1,100) for i in range(10)]\n",
        "\n",
        "# Print the list of random integers\n",
        "print(\"List of random integers:\", random_num)"
      ],
      "metadata": {
        "colab": {
          "base_uri": "https://localhost:8080/"
        },
        "id": "WULxkC5Hl0ut",
        "outputId": "8ae6c270-bab5-4d9b-d9c5-3ce7be9d425e"
      },
      "execution_count": null,
      "outputs": [
        {
          "output_type": "stream",
          "name": "stdout",
          "text": [
            "List of random integers: [6, 33, 2, 77, 39, 43, 29, 60, 76, 46]\n"
          ]
        }
      ]
    },
    {
      "cell_type": "markdown",
      "source": [
        "20. Remove duplicates from a list."
      ],
      "metadata": {
        "id": "Z8ovMH_hmR76"
      }
    },
    {
      "cell_type": "code",
      "source": [
        "lst =  [10, 20, 30, 20, 40, 10, 50, 30]\n",
        "\n",
        "# Remove duplicates by converting to a set and back to a list\n",
        "duplicate_list = list(set(lst))\n",
        "\n",
        "# Print the list without duplicates\n",
        "print(\"List Without duplicate_list\", duplicate_list)"
      ],
      "metadata": {
        "colab": {
          "base_uri": "https://localhost:8080/"
        },
        "id": "OafQuqhAmKSO",
        "outputId": "7cd88e2f-948b-4fea-8235-fa18f9274ae8"
      },
      "execution_count": null,
      "outputs": [
        {
          "output_type": "stream",
          "name": "stdout",
          "text": [
            "duplicate_list [40, 10, 50, 20, 30]\n"
          ]
        }
      ]
    },
    {
      "cell_type": "markdown",
      "source": [
        "21. Find the common elements between two lists."
      ],
      "metadata": {
        "id": "ByoayXvem8M1"
      }
    },
    {
      "cell_type": "code",
      "source": [
        "lst1 = [10, 20, 30, 20, 40, 10, 50, 30]\n",
        "lst2 = [10,90,80,50,30]\n",
        "common_lst = list(set(lst1) & set(lst2))\n",
        "print(common_lst)"
      ],
      "metadata": {
        "colab": {
          "base_uri": "https://localhost:8080/"
        },
        "id": "ytV1DE9mmwUz",
        "outputId": "a08d6915-ea08-44c3-ab73-a2390937127b"
      },
      "execution_count": null,
      "outputs": [
        {
          "output_type": "stream",
          "name": "stdout",
          "text": [
            "[10, 50, 30]\n"
          ]
        }
      ]
    },
    {
      "cell_type": "markdown",
      "source": [
        "22. Find the difference between two lists."
      ],
      "metadata": {
        "id": "0uyXdVZSn8zB"
      }
    },
    {
      "cell_type": "code",
      "source": [
        "lst1 = [10, 20, 30, 40, 50]\n",
        "lst2 = [30, 40, 50, 60, 70]\n",
        "\n",
        "# Find the difference between lists using the difference() method\n",
        "difference = list(set(lst1).difference(lst2))\n",
        "\n",
        "# Print the difference\n",
        "print(\"Difference between lists:\", difference)"
      ],
      "metadata": {
        "colab": {
          "base_uri": "https://localhost:8080/"
        },
        "id": "3SW629u3nhDc",
        "outputId": "2cf40841-7698-4ad6-c41f-faac0681b13a"
      },
      "execution_count": null,
      "outputs": [
        {
          "output_type": "stream",
          "name": "stdout",
          "text": [
            "Difference between lists: [20, 10]\n"
          ]
        }
      ]
    },
    {
      "cell_type": "markdown",
      "source": [
        "23. Merge two lists."
      ],
      "metadata": {
        "id": "YqYPDouEpb1S"
      }
    },
    {
      "cell_type": "code",
      "source": [
        "list1 = [10, 20, 30]\n",
        "list2 = [40, 50, 60]\n",
        "\n",
        "# Merge lists using the + operator\n",
        "merged_list = list1 + list2\n",
        "\n",
        "# Print the merged list\n",
        "print(\"Merged list:\", merged_list)"
      ],
      "metadata": {
        "colab": {
          "base_uri": "https://localhost:8080/"
        },
        "id": "zYpLatoYpK8u",
        "outputId": "671f7a14-5c93-412f-af02-3b1af8e07967"
      },
      "execution_count": null,
      "outputs": [
        {
          "output_type": "stream",
          "name": "stdout",
          "text": [
            "Merged list: [10, 20, 30, 40, 50, 60]\n"
          ]
        }
      ]
    },
    {
      "cell_type": "markdown",
      "source": [
        "24. Multiply all elements in a list by 2."
      ],
      "metadata": {
        "id": "nRgyyYLTpk-7"
      }
    },
    {
      "cell_type": "code",
      "source": [
        "my_list = [10, 20, 30, 40, 50]\n",
        "\n",
        "# Multiply all elements by 2 using a list comprehension\n",
        "mul_list = [x * 2 for x in my_list]\n",
        "\n",
        "# Print the multiplied list\n",
        "print(\"Multiplied list: \", mul_list)\n"
      ],
      "metadata": {
        "colab": {
          "base_uri": "https://localhost:8080/"
        },
        "id": "vRu2I7Lqpjts",
        "outputId": "caffe6c9-1954-450c-b5a7-8a849d0a3844"
      },
      "execution_count": null,
      "outputs": [
        {
          "output_type": "stream",
          "name": "stdout",
          "text": [
            "Multiplied list:  [20, 40, 60, 80, 100]\n"
          ]
        }
      ]
    },
    {
      "cell_type": "markdown",
      "source": [
        "25. Filter out all even numbers from a list."
      ],
      "metadata": {
        "id": "ti8CXwK_qNeI"
      }
    },
    {
      "cell_type": "code",
      "source": [
        "original_list = [1, 2, 3, 4, 5, 6, 7, 8, 9, 10]\n",
        "filtered_list = [num for num in original_list if num % 2 != 0]\n",
        "print(\"Original list:\", original_list)\n",
        "print(\"Filtered list (without even numbers):\", filtered_list)\n"
      ],
      "metadata": {
        "colab": {
          "base_uri": "https://localhost:8080/"
        },
        "id": "sAgzTMD3p833",
        "outputId": "31799a4b-48d1-4a5e-da31-7c9db9d1a49e"
      },
      "execution_count": null,
      "outputs": [
        {
          "output_type": "stream",
          "name": "stdout",
          "text": [
            "Original list: [1, 2, 3, 4, 5, 6, 7, 8, 9, 10]\n",
            "Filtered list (without even numbers): [1, 3, 5, 7, 9]\n"
          ]
        }
      ]
    },
    {
      "cell_type": "markdown",
      "source": [
        "26. Convert a list of strings to a list of integers."
      ],
      "metadata": {
        "id": "K5NRqykHr_IE"
      }
    },
    {
      "cell_type": "code",
      "source": [
        "string_list = [\"10\", \"20\", \"30\", \"40\", \"50\"]\n",
        "\n",
        "# Convert list of strings to list of integers using a list comprehension\n",
        "integer_list = [int(x) for x in string_list]\n",
        "\n",
        "# Print the list of integers\n",
        "print(\"List of integers:\", integer_list)"
      ],
      "metadata": {
        "colab": {
          "base_uri": "https://localhost:8080/"
        },
        "id": "r4YoDUILr_3E",
        "outputId": "00c80a60-360f-4a20-a35c-930ee1e77ca7"
      },
      "execution_count": null,
      "outputs": [
        {
          "output_type": "stream",
          "name": "stdout",
          "text": [
            "List of integers: [10, 20, 30, 40, 50]\n"
          ]
        }
      ]
    },
    {
      "cell_type": "markdown",
      "source": [
        "27. Convert a list of integers to a list of strings."
      ],
      "metadata": {
        "id": "pq00nvAu2Roq"
      }
    },
    {
      "cell_type": "code",
      "source": [
        "integer_list = [10, 20, 30, 40, 50]\n",
        "\n",
        "# Convert list of integers to list of strings using a list comprehension\n",
        "integer_list = [int(x) for x in integer_list]\n",
        "\n",
        "# Print the list of strings\n",
        "print(integer_list)"
      ],
      "metadata": {
        "id": "vlboaBJesVxI",
        "colab": {
          "base_uri": "https://localhost:8080/"
        },
        "outputId": "6dbcd461-6287-405f-93f7-83578cde2639"
      },
      "execution_count": null,
      "outputs": [
        {
          "output_type": "stream",
          "name": "stdout",
          "text": [
            "[10, 20, 30, 40, 50]\n"
          ]
        }
      ]
    },
    {
      "cell_type": "markdown",
      "source": [
        "28. Flatten a nested list.\n",
        "\n",
        "\n"
      ],
      "metadata": {
        "id": "aWKLzcitIfk9"
      }
    },
    {
      "cell_type": "code",
      "source": [
        "nested_list = [[1,2,3], [4,5], [6,7,8,9], ['abhi']]\n",
        "\n",
        "# Function to flatten a nested list\n",
        "def flatten_list(nested):\n",
        "  flattened = []\n",
        "  for sublist in nested:\n",
        "    if isinstance(sublist, list):\n",
        "      flattened.extend(flatten_list(sublist))\n",
        "    else:\n",
        "      flattened.append(sublist)\n",
        "  return flattened\n",
        "\n",
        "# Flatten the nested list\n",
        "flattened_list = flatten_list(nested_list)\n",
        "print(flattened_list)\n",
        "\n",
        "\n",
        "\n"
      ],
      "metadata": {
        "colab": {
          "base_uri": "https://localhost:8080/"
        },
        "id": "IlqFCnqPHxfe",
        "outputId": "e4ee09be-38ba-4829-a322-9d2afa2d26a3"
      },
      "execution_count": null,
      "outputs": [
        {
          "output_type": "stream",
          "name": "stdout",
          "text": [
            "[1, 2, 3, 4, 5, 6, 7, 8, 9, 'abhi']\n"
          ]
        }
      ]
    },
    {
      "cell_type": "markdown",
      "source": [
        "\n",
        "29. Create a list of the first 10 Fibonacci numbers.\n"
      ],
      "metadata": {
        "id": "PcWaKhw7NiKf"
      }
    },
    {
      "cell_type": "code",
      "source": [
        "# Function to generate the first n Fibonacci numbers\n",
        "def fibonacci(n):\n",
        "\n",
        "  # Initialize the list with the first two Fibonacci numbers\n",
        "  fibonacci_list = [0, 1]\n",
        "\n",
        "  for i in range(2, 10):\n",
        "    next_fibonacci = fibonacci_list[i - 1] + fibonacci_list[i - 2]\n",
        "    fibonacci_list.append(next_fibonacci)\n",
        "\n",
        "  return fibonacci_list\n",
        "\n",
        "# Generate the first 10 Fibonacci numbers\n",
        "fibonacci_numbers = fibonacci(2)\n",
        "print(fibonacci_numbers)"
      ],
      "metadata": {
        "colab": {
          "base_uri": "https://localhost:8080/"
        },
        "id": "dGSQ__KEM-ro",
        "outputId": "9cf2acb9-d1b2-4df8-e718-78daf79d705e"
      },
      "execution_count": null,
      "outputs": [
        {
          "output_type": "stream",
          "name": "stdout",
          "text": [
            "[0, 1, 1, 2, 3, 5, 8, 13, 21, 34]\n"
          ]
        }
      ]
    },
    {
      "cell_type": "markdown",
      "source": [],
      "metadata": {
        "id": "674ak8ygqGRb"
      }
    },
    {
      "cell_type": "markdown",
      "source": [
        "30. Check if a list is sorted."
      ],
      "metadata": {
        "id": "IYAmKMGcR8ym"
      }
    },
    {
      "cell_type": "code",
      "source": [
        "# Function to check if a list is sorted in ascending order\n",
        "def list_sorted(lst):\n",
        "  for i   in range(1, len(lst)):\n",
        "    if lst[i] < lst[i - 1]:\n",
        "      return False\n",
        "  return True\n",
        "\n",
        "given_list = [10, 45, 47, 67, 87]\n",
        "\n",
        "# Check if the list is sorted in ascending order\n",
        "if list_sorted(given_list):\n",
        "  print(\"The list is sorted in assending ordered \")\n",
        "else :\n",
        "  print(\"The list is not sorted in assending oredered\")\n"
      ],
      "metadata": {
        "colab": {
          "base_uri": "https://localhost:8080/"
        },
        "id": "nDlOF8EwMa7v",
        "outputId": "b935b14b-b4de-469d-d7c2-7eeb781ada7b"
      },
      "execution_count": null,
      "outputs": [
        {
          "output_type": "stream",
          "name": "stdout",
          "text": [
            "The list is sorted in assending ordered \n"
          ]
        }
      ]
    },
    {
      "cell_type": "markdown",
      "source": [
        "31. Rotate a list to the left by `n` positions"
      ],
      "metadata": {
        "id": "AxXs2ywNTfoK"
      }
    },
    {
      "cell_type": "code",
      "source": [
        "# Function to rotate a list to the left by n positions\n",
        "def rotate(lst, n):\n",
        "  n = n % len(lst) # Normalize n to handle cases where n is larger than the list length\n",
        "  rotated = lst[n:] + lst[:n]\n",
        "  return rotated\n",
        "\n",
        "lst = [1, 2, 3, 4, 5, 6]\n",
        "\n",
        "# Number of positions to rotate by\n",
        "n = 2\n",
        "# Rotate the list to the left by n positions\n",
        "rotated_list = rotate(lst, n)\n",
        "print(\"Rotated list:\", rotated_list)\n"
      ],
      "metadata": {
        "colab": {
          "base_uri": "https://localhost:8080/"
        },
        "id": "eZlDz4VVTbAw",
        "outputId": "8c5eee11-965f-4127-d605-86bb3c71493b"
      },
      "execution_count": null,
      "outputs": [
        {
          "output_type": "stream",
          "name": "stdout",
          "text": [
            "Rotated list: [3, 4, 5, 6, 1, 2]\n"
          ]
        }
      ]
    },
    {
      "cell_type": "markdown",
      "source": [
        "32. Rotate a list to the right by n positions."
      ],
      "metadata": {
        "id": "Q_KBtNgxZHit"
      }
    },
    {
      "cell_type": "code",
      "source": [
        "# Function to rotate a list to the right by n positions\n",
        "def rotate_right(lst, n):\n",
        "    n = n % len(lst)  # Normalize n to handle cases where n is larger than the list length\n",
        "    # print(n)\n",
        "    rotated = lst[-n:] + lst[:-n]\n",
        "    return rotated\n",
        "\n",
        "# Example list\n",
        "my_list = [1, 2, 3, 4, 5, 6]\n",
        "\n",
        "# Number of positions to rotate by\n",
        "n = 2\n",
        "\n",
        "# Rotate the list to the right by n positions\n",
        "rotated_list = rotate_right(my_list, n)\n",
        "\n",
        "# Print the rotated list\n",
        "print(\"Rotated list:\", rotated_list)"
      ],
      "metadata": {
        "id": "cvlDw1L4ZQEf"
      },
      "execution_count": null,
      "outputs": []
    },
    {
      "cell_type": "markdown",
      "source": [
        "33. Create a list of prime numbers up to 50."
      ],
      "metadata": {
        "id": "qQv7wuooVs3R"
      }
    },
    {
      "cell_type": "code",
      "source": [
        "# Function to check if a number is prime\n",
        "def prime_num(num):\n",
        "  if num <= 1:\n",
        "    return False\n",
        "  elif n == 2:\n",
        "    return True\n",
        "  elif n % 2 == 0:\n",
        "    return False\n",
        "  else:\n",
        "    for i in range(3, int(n**0.5) + 1, 2):\n",
        "      if n % i == 0:\n",
        "        return False\n",
        "\n",
        "    return True\n",
        "\n",
        "# Driver code\n",
        "prime_num = [num for num in range(2, 51) if prime_num(num)]\n",
        "print(prime_num)"
      ],
      "metadata": {
        "colab": {
          "base_uri": "https://localhost:8080/"
        },
        "id": "BkboTeCyUabY",
        "outputId": "de84b9d2-d8df-4a9e-e31d-28597fca2762"
      },
      "execution_count": null,
      "outputs": [
        {
          "output_type": "stream",
          "name": "stdout",
          "text": [
            "[2, 3, 4, 5, 6, 7, 8, 9, 10, 11, 12, 13, 14, 15, 16, 17, 18, 19, 20, 21, 22, 23, 24, 25, 26, 27, 28, 29, 30, 31, 32, 33, 34, 35, 36, 37, 38, 39, 40, 41, 42, 43, 44, 45, 46, 47, 48, 49, 50]\n"
          ]
        }
      ]
    },
    {
      "cell_type": "markdown",
      "source": [
        "34. Split a list into chunks of size n."
      ],
      "metadata": {
        "id": "cbUmELxXZSju"
      }
    },
    {
      "cell_type": "code",
      "source": [
        "# Create a list of prime numbers up to 50 using Sieve of Eratosthenes algorithm\n",
        "def sieve_of_eratosthenes(limit):\n",
        "    primes = []\n",
        "    is_prime = [True] * (limit + 1)\n",
        "    is_prime[0] = is_prime[1] = False\n",
        "\n",
        "    for num in range(2, int(limit ** 0.5) + 1):\n",
        "        if is_prime[num]:\n",
        "            primes.append(num)\n",
        "            for multiple in range(num * num, limit + 1, num):\n",
        "                is_prime[multiple] = False\n",
        "\n",
        "    for num in range(int(limit ** 0.5) + 1, limit + 1):\n",
        "        if is_prime[num]:\n",
        "            primes.append(num)\n",
        "\n",
        "    return primes\n",
        "\n",
        "# Create a list of prime numbers up to 50\n",
        "prime_numbers = sieve_of_eratosthenes(50)\n",
        "\n",
        "# Print the list of prime numbers\n",
        "print(\"List of prime numbers up to 50:\", prime_numbers)"
      ],
      "metadata": {
        "id": "MHTieoCdU4lG",
        "colab": {
          "base_uri": "https://localhost:8080/"
        },
        "outputId": "b78b3090-217d-4611-ad46-e610019728a9"
      },
      "execution_count": null,
      "outputs": [
        {
          "output_type": "stream",
          "name": "stdout",
          "text": [
            "List of prime numbers up to 50: [2, 3, 5, 7, 11, 13, 17, 19, 23, 29, 31, 37, 41, 43, 47]\n"
          ]
        }
      ]
    },
    {
      "cell_type": "markdown",
      "source": [
        " 35. Find the second largest number in a list."
      ],
      "metadata": {
        "id": "g9N4Oom3ZhLL"
      }
    },
    {
      "cell_type": "code",
      "source": [
        "my_list = [10, 5, 20, 15, 30, 25]\n",
        "\n",
        "# Remove duplicates and sort the list in ascending order\n",
        "sorted_list = sorted(set(my_list))\n",
        "\n",
        "# Find the second largest number\n",
        "if len(sorted_list) >= 2:\n",
        "  second_largest = sorted_list[-2]\n",
        "  print(\"second largest number\", second_largest)"
      ],
      "metadata": {
        "colab": {
          "base_uri": "https://localhost:8080/"
        },
        "id": "iMhXk-x6Zip8",
        "outputId": "ebd1fa1d-8dc0-4392-9f4f-25d7c57a3cf4"
      },
      "execution_count": null,
      "outputs": [
        {
          "output_type": "stream",
          "name": "stdout",
          "text": [
            "second largest number 25\n"
          ]
        }
      ]
    },
    {
      "cell_type": "code",
      "source": [],
      "metadata": {
        "id": "EmLtP6t_aK9D"
      },
      "execution_count": null,
      "outputs": []
    },
    {
      "cell_type": "markdown",
      "source": [
        "36. Replace every element in a list with its square."
      ],
      "metadata": {
        "id": "cK8oUGcSCCDT"
      }
    },
    {
      "cell_type": "code",
      "source": [
        "my_list = [2,4,6,7,8,20]\n",
        "\n",
        "# Replace every element with its square using a list comprehension\n",
        "squared_list = [x ** 2 for x in my_list]\n",
        "\n",
        "# Print the squared list\n",
        "print(\"Square List are : \", squared_list)\n"
      ],
      "metadata": {
        "colab": {
          "base_uri": "https://localhost:8080/"
        },
        "id": "CHUYfWFhCNEc",
        "outputId": "d81abc24-4abc-48c4-a44b-ba50bd0f74af"
      },
      "execution_count": null,
      "outputs": [
        {
          "output_type": "stream",
          "name": "stdout",
          "text": [
            "Square List are :  [4, 16, 36, 49, 64, 400]\n"
          ]
        }
      ]
    },
    {
      "cell_type": "markdown",
      "source": [
        "37. Convert a list to a dictionary where list elements become keys and their indices become values."
      ],
      "metadata": {
        "id": "D_95L-ZICytf"
      }
    },
    {
      "cell_type": "code",
      "source": [
        "my_list = ['apple', 'banana', 'cherry', 'date', 'elderberry']\n",
        "\n",
        "# Convert list to dictionary using dictionary comprehension\n",
        "mydict = {element: index for index, element in enumerate(my_list)}\n",
        "\n",
        "# Print the resulting dictionary\n",
        "print(\"Converted dictionary : \", mydict)"
      ],
      "metadata": {
        "colab": {
          "base_uri": "https://localhost:8080/"
        },
        "id": "VYvk9sfPCs-4",
        "outputId": "1bedc8fc-1c39-4576-a22b-bb54d8ff7587"
      },
      "execution_count": null,
      "outputs": [
        {
          "output_type": "stream",
          "name": "stdout",
          "text": [
            "Converted dictionary :  {'apple': 0, 'banana': 1, 'cherry': 2, 'date': 3, 'elderberry': 4}\n"
          ]
        }
      ]
    },
    {
      "cell_type": "markdown",
      "source": [
        "38. Shuffle the elements of a list randomly."
      ],
      "metadata": {
        "id": "ZX1qPg2JGVgS"
      }
    },
    {
      "cell_type": "code",
      "source": [
        "import random\n",
        "my_list = [1, 2, 3, 4, 5, 6, 7, 8, 9, 10]\n",
        "\n",
        "# Shuffle the list randomly\n",
        "random.shuffle(my_list)\n",
        "\n",
        "# Print the shuffled list\n",
        "print(\"Shuffle list :\", my_list)\n",
        "\n"
      ],
      "metadata": {
        "colab": {
          "base_uri": "https://localhost:8080/"
        },
        "id": "cXDVPeInFvHS",
        "outputId": "5fa38cdc-a215-4f5b-f959-728c3ba3c9b0"
      },
      "execution_count": null,
      "outputs": [
        {
          "output_type": "stream",
          "name": "stdout",
          "text": [
            "Shuffle list : [7, 9, 3, 8, 4, 10, 5, 6, 2, 1]\n"
          ]
        }
      ]
    },
    {
      "cell_type": "markdown",
      "source": [
        "39. Create a list of the first 10 factorial numbers."
      ],
      "metadata": {
        "id": "G_kBaZQ4HgRW"
      }
    },
    {
      "cell_type": "code",
      "source": [
        "# Function to calculate factorial\n",
        "def factorial(n):\n",
        "  if n == 0 or n == 1:\n",
        "    return 1\n",
        "  else:\n",
        "    return n * factorial(n-1)\n",
        "\n",
        "# Create a list of the first 10 factorial numbers\n",
        "factorial_number = [factorial(i) for i in range(10)]\n",
        "\n",
        "# Print the list of factorial numbers\n",
        "print(factorial_number)"
      ],
      "metadata": {
        "colab": {
          "base_uri": "https://localhost:8080/"
        },
        "id": "Dt6jszO8HJb6",
        "outputId": "7a6a699e-7801-4c80-f3c2-f84b27d19f83"
      },
      "execution_count": null,
      "outputs": [
        {
          "output_type": "stream",
          "name": "stdout",
          "text": [
            "[1, 1, 2, 6, 24, 120, 720, 5040, 40320, 362880]\n"
          ]
        }
      ]
    },
    {
      "cell_type": "markdown",
      "source": [
        "40. Check if two lists have at least one element in common."
      ],
      "metadata": {
        "id": "OjCqMur2Jkt1"
      }
    },
    {
      "cell_type": "code",
      "source": [
        "# Function to check if two lists have at least one element in common\n",
        "def common_element(list1, list2):\n",
        "  for item in list1:\n",
        "    if item in list2:\n",
        "      return True\n",
        "  return False\n",
        "\n",
        "list1 = [1, 2, 3, 4, 5]\n",
        "list2 = [4, 5, 6, 7, 8]\n",
        "\n",
        "# Check if the two lists have at least one element in common\n",
        "\n",
        "if common_element(list1, list2):\n",
        "  print(\"The lists have at least one common element.\")\n",
        "else:\n",
        "  print(\"The lists have at least one common element.\")\n"
      ],
      "metadata": {
        "colab": {
          "base_uri": "https://localhost:8080/"
        },
        "id": "FbH95d8WIV7v",
        "outputId": "9dd1f291-8b13-483a-fbed-66382f7a5c4b"
      },
      "execution_count": null,
      "outputs": [
        {
          "output_type": "stream",
          "name": "stdout",
          "text": [
            "The lists have at least one common element.\n"
          ]
        }
      ]
    },
    {
      "cell_type": "markdown",
      "source": [
        "41. Remove all elements from a list."
      ],
      "metadata": {
        "id": "YJCjpzbmKr6J"
      }
    },
    {
      "cell_type": "code",
      "source": [
        "my_list = [1, 2, 3, 4, 5]\n",
        "\n",
        "# Clear all elements from the list\n",
        "my_list.clear()\n",
        "\n",
        "# Print the empty list\n",
        "print(\"Empty list : \", my_list)"
      ],
      "metadata": {
        "colab": {
          "base_uri": "https://localhost:8080/"
        },
        "id": "9IJzbcj0KmeB",
        "outputId": "3ad9e0de-250a-4f4d-9b53-9a533ba6b834"
      },
      "execution_count": null,
      "outputs": [
        {
          "output_type": "stream",
          "name": "stdout",
          "text": [
            "Empty list :  []\n"
          ]
        }
      ]
    },
    {
      "cell_type": "markdown",
      "source": [
        "42. Replace negative numbers in a list with 0."
      ],
      "metadata": {
        "id": "vlzKmitJLFhB"
      }
    },
    {
      "cell_type": "code",
      "source": [
        "my_list = [10, 7, -9, 8, -4, -1, 45]\n",
        "\n",
        "# Iterate through the list and replace negative numbers with 0\n",
        "for i in range(len(my_list)):\n",
        "  if my_list[i] < 0 :\n",
        "    my_list[i] = 0\n",
        "\n",
        "# Print the list after replacing negative numbers with 0\n",
        "print(\"List after replaceing negative number with 0 : \", my_list)"
      ],
      "metadata": {
        "colab": {
          "base_uri": "https://localhost:8080/"
        },
        "id": "pwgkdhX7K8-P",
        "outputId": "167284fd-64eb-4b6f-abf1-96dfa0554c51"
      },
      "execution_count": null,
      "outputs": [
        {
          "output_type": "stream",
          "name": "stdout",
          "text": [
            "List after replaceing negative number with 0 :  [10, 7, 0, 8, 0, 0, 45]\n"
          ]
        }
      ]
    },
    {
      "cell_type": "markdown",
      "source": [
        "43. Convert a string into a list of words."
      ],
      "metadata": {
        "id": "LCwiFHp4MWgw"
      }
    },
    {
      "cell_type": "code",
      "source": [
        "my_string = \"Hello, this is a sample sentence.\"\n",
        "\n",
        "# Convert the string into a list of words\n",
        "word_list = my_string.split()\n",
        "\n",
        "# Print the list of words\n",
        "print(\"List of words : \", word_list)"
      ],
      "metadata": {
        "colab": {
          "base_uri": "https://localhost:8080/"
        },
        "id": "GU0wbh7ML81_",
        "outputId": "3d5d87c3-7982-43b4-abcc-01d53a1da7e0"
      },
      "execution_count": null,
      "outputs": [
        {
          "output_type": "stream",
          "name": "stdout",
          "text": [
            "List of words :  ['Hello,', 'this', 'is', 'a', 'sample', 'sentence.']\n"
          ]
        }
      ]
    },
    {
      "cell_type": "markdown",
      "source": [
        "44. Convert a list of words into a string."
      ],
      "metadata": {
        "id": "r1-ODZqsNFvI"
      }
    },
    {
      "cell_type": "code",
      "source": [
        "word_list = [\"Hello,\", \"this\", \"is\", \"a\", \"sample\", \"sentence.\"]\n",
        "\n",
        "# Convert the list of words into a string\n",
        "my_string = \" \".join(word_list)\n",
        "\n",
        "# Print the resulting string\n",
        "print(\"Convert string :\", my_string)"
      ],
      "metadata": {
        "colab": {
          "base_uri": "https://localhost:8080/"
        },
        "id": "1Usb_ixZM8_4",
        "outputId": "7e2af4a4-b1df-4f9f-b6a0-1eab3b4d09ab"
      },
      "execution_count": null,
      "outputs": [
        {
          "output_type": "stream",
          "name": "stdout",
          "text": [
            "Convert string : Hello, this is a sample sentence.\n"
          ]
        }
      ]
    },
    {
      "cell_type": "markdown",
      "source": [
        "45. Create a list of the first n powers of 2."
      ],
      "metadata": {
        "id": "vc14mEQHOiFM"
      }
    },
    {
      "cell_type": "code",
      "source": [
        "# Specify the value of n\n",
        "n = 5\n",
        "\n",
        "# Create a list of the first n powers of 2 using a loop\n",
        "power_list = [2 ** i for i in range(n)]\n",
        "\n",
        "# Print the list of powers of 2\n",
        "print(\"List of the first\", n, \"powers of 2:\", power_list)"
      ],
      "metadata": {
        "colab": {
          "base_uri": "https://localhost:8080/"
        },
        "id": "BNGwiYyHOcyT",
        "outputId": "84573d4f-ffa8-4370-d82e-c21a2b32866e"
      },
      "execution_count": null,
      "outputs": [
        {
          "output_type": "stream",
          "name": "stdout",
          "text": [
            "List of the first 5 powers of 2: [1, 2, 4, 8, 16]\n"
          ]
        }
      ]
    },
    {
      "cell_type": "markdown",
      "source": [
        "46. Find the longest string in a list of strings."
      ],
      "metadata": {
        "id": "uyftO2WpQIh9"
      }
    },
    {
      "cell_type": "code",
      "source": [
        "string_list = [\"apple\", \"banana\", \"cherry\", \"date\", \"elderberry\"]\n",
        "\n",
        "# Find the longest string in the list\n",
        "longest_string = \" \"\n",
        "for s in string_list:\n",
        "  if len(s) > len(longest_string):\n",
        "    longest_string = s\n",
        "\n",
        "# Print the longest string\n",
        "print(\"Longest string :\", longest_string)"
      ],
      "metadata": {
        "colab": {
          "base_uri": "https://localhost:8080/"
        },
        "id": "_U5LdTzDPrLl",
        "outputId": "7fa3d783-1c8f-42e9-a3a0-1fa29922e87e"
      },
      "execution_count": null,
      "outputs": [
        {
          "output_type": "stream",
          "name": "stdout",
          "text": [
            "Longest string : elderberry\n"
          ]
        }
      ]
    },
    {
      "cell_type": "markdown",
      "source": [
        "47. Find the shortest string in a list of strings."
      ],
      "metadata": {
        "id": "5F-R-65iSbbk"
      }
    },
    {
      "cell_type": "code",
      "source": [
        "string_list = [\"apple\", \"banana\", \"cherry\", \"date\", \"elderberry\"]\n",
        "\n",
        "# Find the shortest string in the list\n",
        "Shortest_string = string_list[0] # Initialize with the first string\n",
        "\n",
        "for s in string_list:\n",
        "  if len(s) < len(Shortest_string):\n",
        "    Shortest_string = s\n",
        "\n",
        "# Print the shortest string\n",
        "print(\"Shortest string :\", Shortest_string)"
      ],
      "metadata": {
        "colab": {
          "base_uri": "https://localhost:8080/"
        },
        "id": "5p0J1aNMQECT",
        "outputId": "4873da13-728c-4032-dd36-eac41dbd0011"
      },
      "execution_count": null,
      "outputs": [
        {
          "output_type": "stream",
          "name": "stdout",
          "text": [
            "Shortest string : date\n"
          ]
        }
      ]
    },
    {
      "cell_type": "markdown",
      "source": [
        "48. Create a list of the first n triangular numbers."
      ],
      "metadata": {
        "id": "2sn8PJZ0WCpq"
      }
    },
    {
      "cell_type": "code",
      "source": [
        "# Function to calculate triangular numbers\n",
        "def triangular_number(n):\n",
        "  return [i * (i + 1) // 2 for i in range(1, n+1)]\n",
        "\n",
        "# Specify the value of n\n",
        "n = 5\n",
        "\n",
        "# Create a list of the first n triangular numbers\n",
        "triangular_list = triangular_number(n)\n",
        "\n",
        "# Print the list of triangular numbers\n",
        "print(\"List of the first\", n, \"triangular numbers:\", triangular_list)"
      ],
      "metadata": {
        "colab": {
          "base_uri": "https://localhost:8080/"
        },
        "id": "sUSzHB2-Vv1K",
        "outputId": "ba363229-4ae2-494b-e728-1d04192e4f79"
      },
      "execution_count": null,
      "outputs": [
        {
          "output_type": "stream",
          "name": "stdout",
          "text": [
            "List of the first 5 triangular numbers: [1, 3, 6, 10, 15]\n"
          ]
        }
      ]
    },
    {
      "cell_type": "markdown",
      "source": [
        "49. Check if a list contains another list as a subsequence."
      ],
      "metadata": {
        "id": "e29-mqMdZoLP"
      }
    },
    {
      "cell_type": "code",
      "source": [
        "# Function to check if a list contains another list as a subsequence\n",
        "def subsequence_list(subsequence, main_list):\n",
        "  subseq_index = 0  # Index for the subsequence elements\n",
        "  for element in main_list:\n",
        "    if element == subsequence[subseq_index]:\n",
        "      subseq_index += 1\n",
        "      if subseq_index == len(subsequence):\n",
        "        return True\n",
        "  return False\n",
        "\n",
        "# Driver Code\n",
        "main_list = [1, 2, 3, 4, 5, 6, 7, 8, 9, 10]\n",
        "subsequence = [3, 5, 8]\n",
        "\n",
        "# Check if the main list contains the subsequence\n",
        "if subsequence_list(subsequence, main_list):\n",
        "  print(\"Main list contain the subsequence. \")\n",
        "else:\n",
        "  print(\"Main list doesnot contain the subsequence\")\n",
        "\n"
      ],
      "metadata": {
        "colab": {
          "base_uri": "https://localhost:8080/"
        },
        "id": "aJhOr44cZ6Ai",
        "outputId": "1942636b-0b4c-4474-f4cd-588fb88e763d"
      },
      "execution_count": null,
      "outputs": [
        {
          "output_type": "stream",
          "name": "stdout",
          "text": [
            "Main list contain the subsequence. \n"
          ]
        }
      ]
    },
    {
      "cell_type": "markdown",
      "source": [
        "50. Swap two elements in a list by their indices."
      ],
      "metadata": {
        "id": "njO7hJRqb9iR"
      }
    },
    {
      "cell_type": "code",
      "source": [
        "my_list = [1, 2, 3, 4, 5]\n",
        "\n",
        "# Indices of elements to swap\n",
        "index1 = 1\n",
        "index2 = 3\n",
        "\n",
        "# Swap the elements at the specified indices\n",
        "temp = my_list[index1]\n",
        "my_list[index1] = my_list[index2]\n",
        "my_list[index2] = temp\n",
        "\n",
        "# Print the list after swapping\n",
        "print(\"List after swapping elements : \", my_list)\n"
      ],
      "metadata": {
        "colab": {
          "base_uri": "https://localhost:8080/"
        },
        "id": "9pfzbhrLbylQ",
        "outputId": "8add2c7a-baf5-43c9-b97d-9cdec3c04e72"
      },
      "execution_count": null,
      "outputs": [
        {
          "output_type": "stream",
          "name": "stdout",
          "text": [
            "List after swapping elements :  [1, 4, 3, 2, 5]\n"
          ]
        }
      ]
    },
    {
      "cell_type": "code",
      "source": [],
      "metadata": {
        "id": "bKKdnFVEclIU"
      },
      "execution_count": null,
      "outputs": []
    },
    {
      "cell_type": "code",
      "source": [],
      "metadata": {
        "id": "9bWkI8fTc9SU"
      },
      "execution_count": null,
      "outputs": []
    },
    {
      "cell_type": "markdown",
      "source": [
        "Tuple based practice problem :"
      ],
      "metadata": {
        "id": "8zrFfy2mc6dn"
      }
    },
    {
      "cell_type": "markdown",
      "source": [
        "1. Create a tuple with integers from 1 to 5."
      ],
      "metadata": {
        "id": "eDQvmUyBc-rH"
      }
    },
    {
      "cell_type": "code",
      "source": [
        "t = (1,2,3,4,5)\n",
        "\n",
        "# Step 2: Access the third element of the tuple\n",
        "third_element = my_tuple[2]\n",
        "\n",
        "# Explanation: In this line, we use indexing to access the third element of the tuple.\n",
        "# Since indexing is 0-based, the third element is at index 2.\n",
        "\n",
        "# Step 3: Print the third element\n",
        "print(\"The third element of the tuple is : \", IInd_element)\n",
        "\n"
      ],
      "metadata": {
        "colab": {
          "base_uri": "https://localhost:8080/"
        },
        "id": "QVIfVFFBc8oK",
        "outputId": "76a2cc4b-5cba-45ff-b3cf-858f56a0e34f"
      },
      "execution_count": null,
      "outputs": [
        {
          "output_type": "stream",
          "name": "stdout",
          "text": [
            "The third element of the tuple is :  2\n"
          ]
        }
      ]
    },
    {
      "cell_type": "markdown",
      "source": [
        "2. Access the third element of a tuple."
      ],
      "metadata": {
        "id": "ho9U_v9xePde"
      }
    },
    {
      "cell_type": "code",
      "source": [
        "my_tuple = (10, 20, 30, 40, 50)\n",
        "\n",
        "# Step 2: Access the third element (index 2) of the tuple\n",
        "third_element = my_tuple[2]\n",
        "\n",
        "# Step 3: Print the third element\n",
        "print(\"The third element of the tuple is:\", third_element)"
      ],
      "metadata": {
        "colab": {
          "base_uri": "https://localhost:8080/"
        },
        "id": "YJYIam1UeIVM",
        "outputId": "59eb4966-2541-4ef1-bae9-1a87c0f4c56a"
      },
      "execution_count": null,
      "outputs": [
        {
          "output_type": "stream",
          "name": "stdout",
          "text": [
            "The third element of the tuple is: 30\n"
          ]
        }
      ]
    },
    {
      "cell_type": "markdown",
      "source": [
        "3. Find the length of a tuple without using the len() function.\n"
      ],
      "metadata": {
        "id": "QVS9iRNPeXDM"
      }
    },
    {
      "cell_type": "code",
      "source": [
        "t = (1,2,34,5,6,78,9)\n",
        "\n",
        "# Initialize a variable to count the elements\n",
        "count = 0\n",
        "\n",
        "# Iterate through the tuple and increment the count for each element\n",
        "\n",
        "for i in t:\n",
        "  count += 1\n",
        "  # Print the length of the tuple\n",
        "print(\"The length of the tuple is :\", count)"
      ],
      "metadata": {
        "colab": {
          "base_uri": "https://localhost:8080/"
        },
        "id": "iqLuA8EpekTo",
        "outputId": "ff3fc9dc-0f7b-4607-a2a4-9b9d7509917a"
      },
      "execution_count": null,
      "outputs": [
        {
          "output_type": "stream",
          "name": "stdout",
          "text": [
            "The length of the tuple is : 7\n"
          ]
        }
      ]
    },
    {
      "cell_type": "markdown",
      "source": [
        "4. Count the occurrences of an element in a tuple."
      ],
      "metadata": {
        "id": "QtBAAOwofLVx"
      }
    },
    {
      "cell_type": "code",
      "source": [
        "my_tuple = (10, 20, 30, 20, 40, 50, 20)\n",
        "\n",
        "# Choose the element to count occurrences of\n",
        "element = 20\n",
        "\n",
        "# Initialize a variable to keep track of the count\n",
        "count = 0\n",
        "\n",
        "# Iterate through the tuple and count occurrences of the chosen element\n",
        "for item in my_tuple:\n",
        "  if item == element:\n",
        "    count += 1\n",
        "# Print the count of occurrences\n",
        "print(f\"The element {element} appears {count} times in the tuple.\")"
      ],
      "metadata": {
        "colab": {
          "base_uri": "https://localhost:8080/"
        },
        "id": "sGgOZRNnekP-",
        "outputId": "621a0954-9eb2-4b40-800f-be8a6f32b66e"
      },
      "execution_count": null,
      "outputs": [
        {
          "output_type": "stream",
          "name": "stdout",
          "text": [
            "The element 20 appears 3 times in the tuple.\n"
          ]
        }
      ]
    },
    {
      "cell_type": "markdown",
      "source": [
        "5. Find the index of the first occurrence of an element in a tuple.\n"
      ],
      "metadata": {
        "id": "aEBncyGnhQcY"
      }
    },
    {
      "cell_type": "code",
      "source": [
        "my_tuple = (10, 20, 30, 20, 40, 50)\n",
        "\n",
        "# Choose the element to find the index of\n",
        "find_element = 20\n",
        "\n",
        "#Initialize with -1 to indicate that the element was not found\n",
        "# Initialize a variable to keep track of the index\n",
        "index = -1\n",
        "\n",
        "# Iterate through the tuple and find the index of the chosen element\n",
        "for i, item in enumerate(my_tuple):\n",
        "  if item == find_element:\n",
        "    index = i\n",
        "    break # Exit the loop once the first occurrence is found\n",
        "\n",
        "    # Print the index of the first occurrence\n",
        "if index != -1:\n",
        "  print(f\"The first occurrence of {find_element} is at index {index}.\")\n",
        "else:\n",
        "    print(f\"{find_element} is not found in the tuple.\")"
      ],
      "metadata": {
        "colab": {
          "base_uri": "https://localhost:8080/"
        },
        "id": "TR0qE-MEekMt",
        "outputId": "5a6eba35-d793-4cea-80ad-0f7fbedab05d"
      },
      "execution_count": null,
      "outputs": [
        {
          "output_type": "stream",
          "name": "stdout",
          "text": [
            "The first occurrence of 20 is at index 1.\n"
          ]
        }
      ]
    },
    {
      "cell_type": "markdown",
      "source": [
        " 6. Check if an element exists in a tuple."
      ],
      "metadata": {
        "id": "694Bk8Q6jDwt"
      }
    },
    {
      "cell_type": "code",
      "source": [
        "my_tuple = (10, 20, 30, 40, 50)\n",
        "element_to_check = 30\n",
        "\n",
        "# Step 3: Check if the element exists in the tuple using the 'in' operator\n",
        "if element_to_check in my_tuple:\n",
        "    print(f\"{element_to_check} exists in the tuple.\")\n",
        "else:\n",
        "    print(f\"{element_to_check} does not exist in the tuple.\")"
      ],
      "metadata": {
        "colab": {
          "base_uri": "https://localhost:8080/"
        },
        "id": "zylHxNiAekH0",
        "outputId": "9fa6fb14-dd89-4119-8bba-baf9a9fa6109"
      },
      "execution_count": null,
      "outputs": [
        {
          "output_type": "stream",
          "name": "stdout",
          "text": [
            "30 exists in the tuple.\n"
          ]
        }
      ]
    },
    {
      "cell_type": "markdown",
      "source": [
        "7. Convert a tuple to a list."
      ],
      "metadata": {
        "id": "KCCdM4RSjXws"
      }
    },
    {
      "cell_type": "code",
      "source": [
        "my_tuple = (10, 20, 30, 40, 50)\n",
        "\n",
        "# Step 2: Convert the tuple to a list\n",
        "my_list = list(my_tuple)\n",
        "\n",
        "# Step 3: Print the resulting list\n",
        "print(\"Tuple:\", my_tuple)\n",
        "print(\"List:\", my_list)"
      ],
      "metadata": {
        "colab": {
          "base_uri": "https://localhost:8080/"
        },
        "id": "_68_xeaEekFB",
        "outputId": "7cd69afc-e521-4589-967d-0784fbc2f775"
      },
      "execution_count": null,
      "outputs": [
        {
          "output_type": "stream",
          "name": "stdout",
          "text": [
            "Tuple: (10, 20, 30, 40, 50)\n",
            "List: [10, 20, 30, 40, 50]\n"
          ]
        }
      ]
    },
    {
      "cell_type": "markdown",
      "source": [
        "8. Convert a list to a tuple."
      ],
      "metadata": {
        "id": "XDty_6IljkhE"
      }
    },
    {
      "cell_type": "code",
      "source": [
        "my_list = [10, 20, 30, 40, 50]\n",
        "\n",
        "# Step 2: Convert the list to a tuple\n",
        "my_tuple = tuple(my_list)\n",
        "\n",
        "# Step 3: Print the resulting tuple\n",
        "print(\"List:\", my_list)\n",
        "print(\"Tuple:\", my_tuple)"
      ],
      "metadata": {
        "colab": {
          "base_uri": "https://localhost:8080/"
        },
        "id": "NQPIRg-hjcdd",
        "outputId": "7e009316-90d7-4c7d-8f17-13e74218971a"
      },
      "execution_count": null,
      "outputs": [
        {
          "output_type": "stream",
          "name": "stdout",
          "text": [
            "List: [10, 20, 30, 40, 50]\n",
            "Tuple: (10, 20, 30, 40, 50)\n"
          ]
        }
      ]
    },
    {
      "cell_type": "markdown",
      "source": [
        "9. Unpack the elements of a tuple into variables."
      ],
      "metadata": {
        "id": "O9jrrDBsj13K"
      }
    },
    {
      "cell_type": "code",
      "source": [
        "my_tuple = (10, 20, 30)\n",
        "\n",
        "# Step 2: Unpack the elements of the tuple into variables\n",
        "var1, var2, var3 = my_tuple\n",
        "\n",
        "# Step 3: Print the variables\n",
        "print(\"var1:\", var1)\n",
        "print(\"var2:\", var2)\n",
        "print(\"var3:\", var3)"
      ],
      "metadata": {
        "colab": {
          "base_uri": "https://localhost:8080/"
        },
        "id": "3LNd9x_8jtHE",
        "outputId": "bcd69c89-4ddc-42db-e3ce-7ce9dfd61c8f"
      },
      "execution_count": null,
      "outputs": [
        {
          "output_type": "stream",
          "name": "stdout",
          "text": [
            "var1: 10\n",
            "var2: 20\n",
            "var3: 30\n"
          ]
        }
      ]
    },
    {
      "cell_type": "markdown",
      "source": [
        "10. Create a tuple of even numbers from 1 to 10.\n"
      ],
      "metadata": {
        "id": "W9S1vA6SkEU5"
      }
    },
    {
      "cell_type": "code",
      "source": [
        "# Step 1: Create a list of even numbers using a list comprehension\n",
        "even_numbers_list = [num for num in range(2, 11, 2)]  # Start from 2, step by 2, end at 10\n",
        "\n",
        "# Step 2: Convert the list to a tuple\n",
        "even_numbers_tuple = tuple(even_numbers_list)\n",
        "\n",
        "# Step 3: Print the resulting tuple\n",
        "print(\"Tuple of even numbers:\", even_numbers_tuple)"
      ],
      "metadata": {
        "colab": {
          "base_uri": "https://localhost:8080/"
        },
        "id": "6b8Bjrbbj6MG",
        "outputId": "e59f8d49-568b-45d5-dac1-1fa9b6c1ea6a"
      },
      "execution_count": null,
      "outputs": [
        {
          "output_type": "stream",
          "name": "stdout",
          "text": [
            "Tuple of even numbers: (2, 4, 6, 8, 10)\n"
          ]
        }
      ]
    },
    {
      "cell_type": "markdown",
      "source": [
        "11. Create a tuple of odd numbers from 1 to 10."
      ],
      "metadata": {
        "id": "T2ll3S78kZk-"
      }
    },
    {
      "cell_type": "code",
      "source": [
        "even_numbers_list = [num for num in range(2, 11, 2)]  # Start from 2, step by 2, end at 10\n",
        "\n",
        "# Step 2: Convert the list to a tuple\n",
        "even_numbers_tuple = tuple(even_numbers_list)\n",
        "\n",
        "# Step 3: Print the resulting tuple\n",
        "print(\"Tuple of even numbers:\", even_numbers_tuple)"
      ],
      "metadata": {
        "colab": {
          "base_uri": "https://localhost:8080/"
        },
        "id": "qAiMSQt3kVRR",
        "outputId": "9e6b69cf-afbc-4d85-ac73-e4e6c85e77cf"
      },
      "execution_count": null,
      "outputs": [
        {
          "output_type": "stream",
          "name": "stdout",
          "text": [
            "Tuple of even numbers: (2, 4, 6, 8, 10)\n"
          ]
        }
      ]
    },
    {
      "cell_type": "code",
      "source": [],
      "metadata": {
        "id": "lajcccM9kgHS"
      },
      "execution_count": null,
      "outputs": []
    },
    {
      "cell_type": "markdown",
      "source": [
        "12. Concatenate two tuples."
      ],
      "metadata": {
        "id": "TUqGVTVzkl9K"
      }
    },
    {
      "cell_type": "code",
      "source": [
        "# Step 1: Create two tuples\n",
        "tuple1 = (1, 2, 3)\n",
        "tuple2 = (4, 5, 6)\n",
        "\n",
        "# Step 2: Concatenate the two tuples\n",
        "concatenated_tuple = tuple1 + tuple2\n",
        "\n",
        "# Step 3: Print the concatenated tuple\n",
        "print(\"Concatenated tuple:\", concatenated_tuple)"
      ],
      "metadata": {
        "colab": {
          "base_uri": "https://localhost:8080/"
        },
        "id": "3HaTEFO_km-W",
        "outputId": "2c25c2ee-5266-4ea0-b12c-f7f2838acbf3"
      },
      "execution_count": null,
      "outputs": [
        {
          "output_type": "stream",
          "name": "stdout",
          "text": [
            "Concatenated tuple: (1, 2, 3, 4, 5, 6)\n"
          ]
        }
      ]
    },
    {
      "cell_type": "markdown",
      "source": [
        "\n",
        "13. Repeat a tuple three times."
      ],
      "metadata": {
        "id": "ThuCYoH-kypc"
      }
    },
    {
      "cell_type": "code",
      "source": [
        "# Step 1: Create a tuple\n",
        "original_tuple = (1, 2, 3)\n",
        "\n",
        "# Step 2: Repeat the tuple three times\n",
        "repeated_tuple = original_tuple * 3\n",
        "\n",
        "# Step 3: Print the repeated tuple\n",
        "print(\"Repeated tuple:\", repeated_tuple)"
      ],
      "metadata": {
        "colab": {
          "base_uri": "https://localhost:8080/"
        },
        "id": "_VMjRfHVkqiY",
        "outputId": "4a850286-c17d-46e7-9602-ecdd1dd205fc"
      },
      "execution_count": null,
      "outputs": [
        {
          "output_type": "stream",
          "name": "stdout",
          "text": [
            "Repeated tuple: (1, 2, 3, 1, 2, 3, 1, 2, 3)\n"
          ]
        }
      ]
    },
    {
      "cell_type": "markdown",
      "source": [
        "14. Check if a tuple is empty."
      ],
      "metadata": {
        "id": "_oUcf1Lwk8L1"
      }
    },
    {
      "cell_type": "code",
      "source": [
        "empty_tuple = ()\n",
        "non_empty_tuple = (1, 2, 3)\n",
        "\n",
        "# Step 2: Check if the tuples are empty\n",
        "if not empty_tuple:\n",
        "    print(\"The empty_tuple is empty.\")\n",
        "else:\n",
        "    print(\"The empty_tuple is not empty.\")\n",
        "\n",
        "if not non_empty_tuple:\n",
        "    print(\"The non_empty_tuple is empty.\")\n",
        "else:\n",
        "    print(\"The non_empty_tuple is not empty.\")"
      ],
      "metadata": {
        "colab": {
          "base_uri": "https://localhost:8080/"
        },
        "id": "V9LGZ2q1k15a",
        "outputId": "7e2c0372-49b1-468c-ebee-796fc876b620"
      },
      "execution_count": null,
      "outputs": [
        {
          "output_type": "stream",
          "name": "stdout",
          "text": [
            "The empty_tuple is empty.\n",
            "The non_empty_tuple is not empty.\n"
          ]
        }
      ]
    },
    {
      "cell_type": "markdown",
      "source": [
        "15. Create a nested tuple."
      ],
      "metadata": {
        "id": "UzxsXxDglUCw"
      }
    },
    {
      "cell_type": "code",
      "source": [
        "nested_tuple = ((1, 2, 3), ('a', 'b', 'c'), (True, False))\n",
        "print(\"Nested tuple:\", nested_tuple)\n"
      ],
      "metadata": {
        "colab": {
          "base_uri": "https://localhost:8080/"
        },
        "id": "lPeKkNmYk_kR",
        "outputId": "8d1a625f-cd3d-48de-ea88-69ba41c74d1e"
      },
      "execution_count": null,
      "outputs": [
        {
          "output_type": "stream",
          "name": "stdout",
          "text": [
            "Nested tuple: ((1, 2, 3), ('a', 'b', 'c'), (True, False))\n"
          ]
        }
      ]
    },
    {
      "cell_type": "markdown",
      "source": [
        "16. Access the first element of a nested tuple."
      ],
      "metadata": {
        "id": "dH-u3FKRljSd"
      }
    },
    {
      "cell_type": "code",
      "source": [
        "# Step 1: Create a nested tuple\n",
        "nested_tuple = ((1, 2, 3), ('a', 'b', 'c'), (True, False))\n",
        "\n",
        "# Step 2: Access the first element of the nested tuple\n",
        "first_element = nested_tuple[0]\n",
        "\n",
        "# Step 3: Print the first element\n",
        "print(\"First element of the nested tuple:\", first_element)"
      ],
      "metadata": {
        "colab": {
          "base_uri": "https://localhost:8080/"
        },
        "id": "Li2qGn9rlcCp",
        "outputId": "2b913168-296b-4240-97b7-c3351229b6eb"
      },
      "execution_count": null,
      "outputs": [
        {
          "output_type": "stream",
          "name": "stdout",
          "text": [
            "First element of the nested tuple: (1, 2, 3)\n"
          ]
        }
      ]
    },
    {
      "cell_type": "markdown",
      "source": [
        "17. Create a tuple with a single element.\n",
        "\n"
      ],
      "metadata": {
        "id": "j6L7OFggmaaT"
      }
    },
    {
      "cell_type": "code",
      "source": [
        "# Step 1: Create a tuple with a single element\n",
        "single_element_tuple = (42,)  # Note the trailing comma\n",
        "\n",
        "# Step 2: Print the single element tuple\n",
        "print(\"Single element tuple:\", single_element_tuple)"
      ],
      "metadata": {
        "colab": {
          "base_uri": "https://localhost:8080/"
        },
        "id": "mKspqy13lmwM",
        "outputId": "62dd0252-ae01-4998-a896-6000dafdb723"
      },
      "execution_count": null,
      "outputs": [
        {
          "output_type": "stream",
          "name": "stdout",
          "text": [
            "Single element tuple: (42,)\n"
          ]
        }
      ]
    },
    {
      "cell_type": "markdown",
      "source": [
        "18. Compare two tuples."
      ],
      "metadata": {
        "id": "AhdxkZAXm2JP"
      }
    },
    {
      "cell_type": "code",
      "source": [
        "tuple1 = (1, 2, 3)\n",
        "tuple2 = (1, 2, 4)\n",
        "\n",
        "# Step 2: Compare the two tuples using comparison operators\n",
        "print(\"tuple1 == tuple2:\", tuple1 == tuple2)  # Equality check\n",
        "print(\"tuple1 != tuple2:\", tuple1 != tuple2)  # Inequality check\n",
        "print(\"tuple1 < tuple2:\", tuple1 < tuple2)    # Less than check\n",
        "print(\"tuple1 <= tuple2:\", tuple1 <= tuple2)  # Less than or equal to check\n",
        "print(\"tuple1 > tuple2:\", tuple1 > tuple2)    # Greater than check\n",
        "print(\"tuple1 >= tuple2:\", tuple1 >= tuple2)  # Greater than or equal to check"
      ],
      "metadata": {
        "colab": {
          "base_uri": "https://localhost:8080/"
        },
        "id": "H2PVUIh1mzlT",
        "outputId": "d390a486-3d97-480c-a891-3eee8ba581d4"
      },
      "execution_count": null,
      "outputs": [
        {
          "output_type": "stream",
          "name": "stdout",
          "text": [
            "tuple1 == tuple2: False\n",
            "tuple1 != tuple2: True\n",
            "tuple1 < tuple2: True\n",
            "tuple1 <= tuple2: True\n",
            "tuple1 > tuple2: False\n",
            "tuple1 >= tuple2: False\n"
          ]
        }
      ]
    },
    {
      "cell_type": "markdown",
      "source": [
        "19. Delete a tuple."
      ],
      "metadata": {
        "id": "EiCn0Pn2nlXR"
      }
    },
    {
      "cell_type": "code",
      "source": [
        "my_tuple = (1, 2, 3, 4, 5)\n",
        "\n",
        "# Step 2: Delete the tuple using the 'del' statement\n",
        "del my_tuple\n",
        "\n",
        "# Step 3: Try to access the tuple (will raise a NameError)\n",
        "print(my_tuple)\n",
        "\n"
      ],
      "metadata": {
        "colab": {
          "base_uri": "https://localhost:8080/",
          "height": 228
        },
        "id": "7D4dIif4nfoo",
        "outputId": "924ec907-434e-45d8-8d11-26927af0fcab"
      },
      "execution_count": null,
      "outputs": [
        {
          "output_type": "error",
          "ename": "NameError",
          "evalue": "name 'my_tuple' is not defined",
          "traceback": [
            "\u001b[0;31m---------------------------------------------------------------------------\u001b[0m",
            "\u001b[0;31mNameError\u001b[0m                                 Traceback (most recent call last)",
            "\u001b[0;32m<ipython-input-9-8ed5727b5142>\u001b[0m in \u001b[0;36m<cell line: 7>\u001b[0;34m()\u001b[0m\n\u001b[1;32m      5\u001b[0m \u001b[0;34m\u001b[0m\u001b[0m\n\u001b[1;32m      6\u001b[0m \u001b[0;31m# Step 3: Try to access the tuple (will raise a NameError)\u001b[0m\u001b[0;34m\u001b[0m\u001b[0;34m\u001b[0m\u001b[0m\n\u001b[0;32m----> 7\u001b[0;31m \u001b[0mprint\u001b[0m\u001b[0;34m(\u001b[0m\u001b[0mmy_tuple\u001b[0m\u001b[0;34m)\u001b[0m\u001b[0;34m\u001b[0m\u001b[0;34m\u001b[0m\u001b[0m\n\u001b[0m\u001b[1;32m      8\u001b[0m \u001b[0;34m\u001b[0m\u001b[0m\n",
            "\u001b[0;31mNameError\u001b[0m: name 'my_tuple' is not defined"
          ]
        }
      ]
    },
    {
      "cell_type": "markdown",
      "source": [
        "20. Slice a tuple."
      ],
      "metadata": {
        "id": "cjPlBkqvoCIf"
      }
    },
    {
      "cell_type": "code",
      "source": [
        "my_tuple = (1, 2, 3, 4, 5, 6, 7, 8, 9, 10)\n",
        "\n",
        "# Step 2: Slice the tuple to get a portion of it\n",
        "sliced_tuple = my_tuple[2:6]  # Elements from index 2 to 5 (end index is exclusive)\n",
        "\n",
        "# Step 3: Print the sliced tuple\n",
        "print(\"Sliced tuple:\", sliced_tuple)"
      ],
      "metadata": {
        "colab": {
          "base_uri": "https://localhost:8080/"
        },
        "id": "g6_TK-NZns8x",
        "outputId": "56cbe5e9-dea7-45e8-a66c-32bfaaee93a0"
      },
      "execution_count": null,
      "outputs": [
        {
          "output_type": "stream",
          "name": "stdout",
          "text": [
            "Sliced tuple: (3, 4, 5, 6)\n"
          ]
        }
      ]
    },
    {
      "cell_type": "markdown",
      "source": [
        "21. Find the maximum value in a tuple."
      ],
      "metadata": {
        "id": "YpQoxaYNoVOW"
      }
    },
    {
      "cell_type": "code",
      "source": [
        "# Step 1: Create a tuple\n",
        "my_tuple = (10, 20, 5, 45, 30)\n",
        "\n",
        "# Step 2: Find the maximum value in the tuple using the 'max()' function\n",
        "max_value = max(my_tuple)\n",
        "\n",
        "# Step 3: Print the maximum value\n",
        "print(\"Maximum value:\", max_value)\n"
      ],
      "metadata": {
        "colab": {
          "base_uri": "https://localhost:8080/"
        },
        "id": "vZEHn0Q8oGl6",
        "outputId": "686031da-d0c8-4c52-c2f3-68d49a1e7b96"
      },
      "execution_count": null,
      "outputs": [
        {
          "output_type": "stream",
          "name": "stdout",
          "text": [
            "Maximum value: 45\n"
          ]
        }
      ]
    },
    {
      "cell_type": "markdown",
      "source": [
        "22. Find the minimum value in a tuple."
      ],
      "metadata": {
        "id": "Jl9AhWu_odb_"
      }
    },
    {
      "cell_type": "code",
      "source": [
        "# Step 1: Create a tuple\n",
        "my_tuple = (10, 20, 5, 45, 30)\n",
        "\n",
        "# Step 2: Find the minimum value in the tuple using the 'min()' function\n",
        "min_value = min(my_tuple)\n",
        "\n",
        "# Step 3: Print the minimum value\n",
        "print(\"Minimum value:\", min_value)"
      ],
      "metadata": {
        "colab": {
          "base_uri": "https://localhost:8080/"
        },
        "id": "BA561AQTobDm",
        "outputId": "d33cbbaf-6fdc-4af3-ff50-b0e5af1d9ee9"
      },
      "execution_count": null,
      "outputs": [
        {
          "output_type": "stream",
          "name": "stdout",
          "text": [
            "Minimum value: 5\n"
          ]
        }
      ]
    },
    {
      "cell_type": "markdown",
      "source": [
        "23. Convert a string to a tuple of characters.\n"
      ],
      "metadata": {
        "id": "6lXh_sqZomvV"
      }
    },
    {
      "cell_type": "code",
      "source": [
        "# Step 1: Create a string\n",
        "my_string = \"Hello, World!\"\n",
        "\n",
        "# Step 2: Convert the string to a tuple of characters\n",
        "tuple_of_characters = tuple(my_string)\n",
        "\n",
        "# Step 3: Print the tuple of characters\n",
        "print(\"Tuple of characters:\", tuple_of_characters)"
      ],
      "metadata": {
        "colab": {
          "base_uri": "https://localhost:8080/"
        },
        "id": "MYD-BsZeoi0d",
        "outputId": "0d59b957-4523-47ac-b421-0e636996ffe8"
      },
      "execution_count": null,
      "outputs": [
        {
          "output_type": "stream",
          "name": "stdout",
          "text": [
            "Tuple of characters: ('H', 'e', 'l', 'l', 'o', ',', ' ', 'W', 'o', 'r', 'l', 'd', '!')\n"
          ]
        }
      ]
    },
    {
      "cell_type": "markdown",
      "source": [
        "24. Convert a tuple of characters to a string."
      ],
      "metadata": {
        "id": "TKjHz_pFo0eQ"
      }
    },
    {
      "cell_type": "code",
      "source": [
        "tuple_of_characters = ('H', 'e', 'l', 'l', 'o', ' ', 'W', 'o', 'r', 'l', 'd', '!')\n",
        "\n",
        "#Convert the tuple of characters to a string using the 'join()' method\n",
        "string_from_tuple = ''.join(tuple_of_characters)\n",
        "\n",
        "#Print the resulting string\n",
        "print(\"String from tuple :\", string_from_tuple)"
      ],
      "metadata": {
        "colab": {
          "base_uri": "https://localhost:8080/"
        },
        "id": "T53P5nEFop75",
        "outputId": "6e53ca84-03b0-4af2-b32e-03c900bc0d54"
      },
      "execution_count": null,
      "outputs": [
        {
          "output_type": "stream",
          "name": "stdout",
          "text": [
            "String from tuple : Hello World!\n"
          ]
        }
      ]
    },
    {
      "cell_type": "markdown",
      "source": [
        "25. Create a tuple from multiple data types."
      ],
      "metadata": {
        "id": "zc6q4RKwpUHt"
      }
    },
    {
      "cell_type": "code",
      "source": [
        "# Creating a tuple with elements of different data types\n",
        "mixed_tuple = (1, \"hello\", 3.14, True)\n",
        "\n",
        "# Printing the tuple\n",
        "print(mixed_tuple)"
      ],
      "metadata": {
        "colab": {
          "base_uri": "https://localhost:8080/"
        },
        "id": "LSRhj7yypNbT",
        "outputId": "235e860f-b83f-4e46-ee64-21078475997a"
      },
      "execution_count": null,
      "outputs": [
        {
          "output_type": "stream",
          "name": "stdout",
          "text": [
            "(1, 'hello', 3.14, True)\n"
          ]
        }
      ]
    },
    {
      "cell_type": "markdown",
      "source": [
        "26.  Check if two tuples are identical."
      ],
      "metadata": {
        "id": "fhtF2ovGpqw4"
      }
    },
    {
      "cell_type": "code",
      "source": [
        "tuple1 = (1, 2, 3)\n",
        "tuple2 = (1, 2, 3)\n",
        "tuple3 = (4, 5, 6)\n",
        "\n",
        "# compare the tuples for identity using the equality operator\n",
        "identical1 = tuple1 == tuple2\n",
        "identical2 = tuple1 == tuple3\n",
        "\n",
        "# Print the results\n",
        "print(\"tuple1 and tuple2 are identical:\", identical1)\n",
        "print(\"tuple1 and tuple3 are identical:\", identical2)\n",
        "\n"
      ],
      "metadata": {
        "colab": {
          "base_uri": "https://localhost:8080/"
        },
        "id": "-EX26PztpmjE",
        "outputId": "62559dc7-82f5-4127-abaa-ba8c259ef7b4"
      },
      "execution_count": null,
      "outputs": [
        {
          "output_type": "stream",
          "name": "stdout",
          "text": [
            "tuple1 and tuple2 are identical: True\n",
            "tuple1 and tuple3 are identical: False\n"
          ]
        }
      ]
    },
    {
      "cell_type": "markdown",
      "source": [
        "27. Sort the elements of a tuple."
      ],
      "metadata": {
        "id": "MC0r5URIqJ_u"
      }
    },
    {
      "cell_type": "code",
      "source": [
        "my_tuple = (5, 2, 8, 1, 3)\n",
        "\n",
        "# Step 2: Convert the tuple to a list, sort the list, and convert it back to a tuple\n",
        "sorted_tuple = tuple(sorted(my_tuple))\n",
        "\n",
        "# Step 3: Print the sorted tuple\n",
        "print(\"Sorted tuple:\", sorted_tuple)\n"
      ],
      "metadata": {
        "colab": {
          "base_uri": "https://localhost:8080/"
        },
        "id": "jbmwExhSqFKm",
        "outputId": "d8b3df03-fb8b-47ac-f3e9-8208b24dffa5"
      },
      "execution_count": null,
      "outputs": [
        {
          "output_type": "stream",
          "name": "stdout",
          "text": [
            "Sorted tuple: (1, 2, 3, 5, 8)\n"
          ]
        }
      ]
    },
    {
      "cell_type": "markdown",
      "source": [
        "28. Convert a tuple of integers to a tuple of strings."
      ],
      "metadata": {
        "id": "wG7ciwYBqeLv"
      }
    },
    {
      "cell_type": "code",
      "source": [
        "tuple_of_integers = (1, 2, 3, 4, 5)\n",
        "\n",
        "# Step 2: Convert the tuple of integers to a tuple of strings using a list comprehension\n",
        "tuple_of_strings = tuple(str(item) for item in tuple_of_integers)\n",
        "\n",
        "# Step 3: Print the tuple of strings\n",
        "print(\"Tuple of strings:\", tuple_of_strings)"
      ],
      "metadata": {
        "colab": {
          "base_uri": "https://localhost:8080/"
        },
        "id": "J4DTqaf2qNhl",
        "outputId": "da999a06-ec45-45fc-fae1-90dca22864dc"
      },
      "execution_count": null,
      "outputs": [
        {
          "output_type": "stream",
          "name": "stdout",
          "text": [
            "Tuple of strings: ('1', '2', '3', '4', '5')\n"
          ]
        }
      ]
    },
    {
      "cell_type": "markdown",
      "source": [
        "29. Convert a tuple of strings to a tuple of integers."
      ],
      "metadata": {
        "id": "4K06DTCrqxCj"
      }
    },
    {
      "cell_type": "code",
      "source": [
        "tuple_of_strings = ('10', '20', '30', '40', '50')\n",
        "\n",
        "# Step 2: Convert the tuple of strings to a tuple of integers using a list comprehension\n",
        "tuple_of_integers = tuple(int(item) for item in tuple_of_strings)\n",
        "\n",
        "# Step 3: Print the tuple of integers\n",
        "print(\"Tuple of integers:\", tuple_of_integers)"
      ],
      "metadata": {
        "colab": {
          "base_uri": "https://localhost:8080/"
        },
        "id": "dhlQs-0lqivP",
        "outputId": "04bd7d8b-cffc-4507-fd9c-01b49d06c48b"
      },
      "execution_count": null,
      "outputs": [
        {
          "output_type": "stream",
          "name": "stdout",
          "text": [
            "Tuple of integers: (10, 20, 30, 40, 50)\n"
          ]
        }
      ]
    },
    {
      "cell_type": "markdown",
      "source": [
        "30. Merge two tuples."
      ],
      "metadata": {
        "id": "zBTvBbTLrAz8"
      }
    },
    {
      "cell_type": "code",
      "source": [
        "tuple1 = (1, 2, 3)\n",
        "tuple2 = (4, 5, 6)\n",
        "\n",
        "#Merge the two tuples using the '+' operator\n",
        "merged_tuple = tuple1 + tuple2\n",
        "print(\"Merged : \", merged_tuple)"
      ],
      "metadata": {
        "colab": {
          "base_uri": "https://localhost:8080/"
        },
        "id": "K8NFJkiMq3b3",
        "outputId": "ecd59183-7967-463e-e428-b1480f6750e5"
      },
      "execution_count": null,
      "outputs": [
        {
          "output_type": "stream",
          "name": "stdout",
          "text": [
            "Merged :  (1, 2, 3, 4, 5, 6)\n"
          ]
        }
      ]
    },
    {
      "cell_type": "markdown",
      "source": [
        "31. Flatten a nested tuple."
      ],
      "metadata": {
        "id": "BSwjDFGKrbjc"
      }
    },
    {
      "cell_type": "code",
      "source": [
        "# Recursive function to flatten a nested tuple\n",
        "def flatten_tuple(nested_tuple):\n",
        "  flattened = []\n",
        "  for item in nested_tuple:\n",
        "    if isinstance(item, tuple):\n",
        "      flattened.extend(flatten_tuple(item))\n",
        "    else:\n",
        "      flattened.append(item)\n",
        "  return flattened\n",
        "\n",
        "# Create a nested tuple\n",
        "nested_tuple = ((1,2), (3,4,5), (6, (7,8)))\n",
        "\n",
        "# Flatten the nested tuple\n",
        "flattened_tuple = tuple(flatten_tuple(nested_tuple))\n",
        "#Print the flattened tuple\n",
        "print(flattened_tuple)"
      ],
      "metadata": {
        "id": "MUOvuMierWUF",
        "colab": {
          "base_uri": "https://localhost:8080/"
        },
        "outputId": "a0429a95-f28b-4b12-c201-131f81043047"
      },
      "execution_count": null,
      "outputs": [
        {
          "output_type": "stream",
          "name": "stdout",
          "text": [
            "(1, 2, 3, 4, 5, 6, 7, 8)\n"
          ]
        }
      ]
    },
    {
      "cell_type": "markdown",
      "source": [
        "32. Create a tuple of the first 5 prime numbers."
      ],
      "metadata": {
        "id": "pYEoSveGbz77"
      }
    },
    {
      "cell_type": "code",
      "source": [
        "def is_prime(num):\n",
        "  if num <= 1:\n",
        "    return False\n",
        "  for i in range(2, int(num**0.5) + 1):\n",
        "    if num % i == 0:\n",
        "      return False\n",
        "  return True\n",
        "\n",
        "# Generate the first 5 prime numbers\n",
        "prime_num_list = [num for num in range(2, 100) if is_prime(num)][:5]\\\n",
        "\n",
        "# Flatten the nested tuple\n",
        "prime_number_tuple = tuple(prime_num_list)\n",
        "\n",
        "# Print the flattened tuple\n",
        "print(\"Tuple of the first 5 prime numbers: \", prime_number_tuple)"
      ],
      "metadata": {
        "colab": {
          "base_uri": "https://localhost:8080/"
        },
        "id": "jysdeYHDbW5Q",
        "outputId": "0f486b4a-d70e-423a-98ce-667c312ce27b"
      },
      "execution_count": null,
      "outputs": [
        {
          "output_type": "stream",
          "name": "stdout",
          "text": [
            "Tuple of the first 5 prime numbers:  (2, 3, 5, 7, 11)\n"
          ]
        }
      ]
    },
    {
      "cell_type": "markdown",
      "source": [
        "33. Check if a tuple is a palindrome."
      ],
      "metadata": {
        "id": "3a8_IOmweq4P"
      }
    },
    {
      "cell_type": "code",
      "source": [
        "def is_palindrom(tups):\n",
        "  return tups == tups[::-1]\n",
        "\n",
        "# Create tuples for testing\n",
        "palindrome_tuple = (1, 2, 3, 2, 1)\n",
        "non_palindrome_tuple = (1, 2, 3, 4, 5)\n",
        "\n",
        "# Check if the tuples are palindromes\n",
        "is_palindrom1 = is_palindrom(palindrome_tuple)\n",
        "is_palindrom2 = is_palindrom(non_palindrome_tuple)\n",
        "\n",
        "# Print the results\n",
        "print(\"palindrome_tuple is a palindrome :\", is_palindrom1)\n",
        "print(\"non_palindrome_tuple is a palindrome :\", is_palindrom2)"
      ],
      "metadata": {
        "colab": {
          "base_uri": "https://localhost:8080/"
        },
        "id": "Q6B2gLlkdb3Q",
        "outputId": "b48daf42-dcc2-4925-ebf5-87dceb3b69d5"
      },
      "execution_count": null,
      "outputs": [
        {
          "output_type": "stream",
          "name": "stdout",
          "text": [
            "palindrome_tuple is a palindrome : True\n",
            "non_palindrome_tuple is a palindrome : False\n"
          ]
        }
      ]
    },
    {
      "cell_type": "markdown",
      "source": [
        "34. Create a tuple of squares of numbers from 1 to 5."
      ],
      "metadata": {
        "id": "zWqUWJLJicDE"
      }
    },
    {
      "cell_type": "code",
      "source": [
        "# Create a tuple of squares using a list comprehension\n",
        "squares_tuple = tuple(x ** 2 for x in range(1, 6))\n",
        "\n",
        "# Print the tuple of squares\n",
        "print(\"Tuple of squares : \", squares_tuple)"
      ],
      "metadata": {
        "colab": {
          "base_uri": "https://localhost:8080/"
        },
        "id": "fBs4VBD_hr86",
        "outputId": "3b9a3dcb-2416-44d2-9078-f58480169cba"
      },
      "execution_count": null,
      "outputs": [
        {
          "output_type": "stream",
          "name": "stdout",
          "text": [
            "Tuple of squares :  (1, 4, 9, 16, 25)\n"
          ]
        }
      ]
    },
    {
      "cell_type": "markdown",
      "source": [
        "35. Filter out all even numbers from a tuple."
      ],
      "metadata": {
        "id": "7L0xy5Zai82g"
      }
    },
    {
      "cell_type": "code",
      "source": [
        "original_tuple = (1, 2, 3, 4, 5, 6, 7, 8, 9, 10)\n",
        "\n",
        "# Filter out even numbers using a list comprehension\n",
        "filtered_tuple = tuple(num for num in original_tuple if num % 2 != 0)\n",
        "print(\"Filtered tuple:\", filtered_tuple)"
      ],
      "metadata": {
        "colab": {
          "base_uri": "https://localhost:8080/"
        },
        "id": "jqDyygDMi2JJ",
        "outputId": "021c28a0-744e-43f3-fc3c-2c4bbc7ea70c"
      },
      "execution_count": null,
      "outputs": [
        {
          "output_type": "stream",
          "name": "stdout",
          "text": [
            "Filtered tuple: (1, 3, 5, 7, 9)\n"
          ]
        }
      ]
    },
    {
      "cell_type": "markdown",
      "source": [
        "36. Multiply all elements in a tuple by 2."
      ],
      "metadata": {
        "id": "hdWtBXP3j5U_"
      }
    },
    {
      "cell_type": "code",
      "source": [
        "original_tuple = (1, 2, 3, 4, 5)\n",
        "\n",
        "# Multiply all elements by 2 using a list comprehension and convert to a tuple\n",
        "doubled_tuple = tuple(num * 2 for num in original_tuple)\n",
        "\n",
        "# Print the doubled tuple\n",
        "print(\"Double tuple : \", doubled_tuple)"
      ],
      "metadata": {
        "colab": {
          "base_uri": "https://localhost:8080/"
        },
        "id": "P-_7grRjjvdz",
        "outputId": "4b423e89-58ec-48c4-c488-7900eae8580c"
      },
      "execution_count": null,
      "outputs": [
        {
          "output_type": "stream",
          "name": "stdout",
          "text": [
            "Double tuple :  (2, 4, 6, 8, 10)\n"
          ]
        }
      ]
    },
    {
      "cell_type": "markdown",
      "source": [
        "37. Create a tuple of random numbers."
      ],
      "metadata": {
        "id": "OrKN6X-rkkEq"
      }
    },
    {
      "cell_type": "code",
      "source": [
        "import random\n",
        "\n",
        "# Create a tuple of random numbers using a list comprehension\n",
        " # Generating 10 random numbers between 1 and 100\n",
        "random_tuple = tuple(random.randint(1,100) for i in range(10))\n",
        "\n",
        "# Print the tuple of random numbers\n",
        "print(random_tuple)"
      ],
      "metadata": {
        "colab": {
          "base_uri": "https://localhost:8080/"
        },
        "id": "ff-0hqxhkdR6",
        "outputId": "33ae0670-e883-4d02-af01-7499f0edb155"
      },
      "execution_count": null,
      "outputs": [
        {
          "output_type": "stream",
          "name": "stdout",
          "text": [
            "(20, 52, 39, 64, 53, 35, 46, 88, 45, 83)\n"
          ]
        }
      ]
    },
    {
      "cell_type": "markdown",
      "source": [
        "38. Check if a tuple is sorted."
      ],
      "metadata": {
        "id": "wvOfA2wGk86q"
      }
    },
    {
      "cell_type": "code",
      "source": [
        "def is_sorted(tup):\n",
        "  for i in range(len(tup) - 1):\n",
        "    if tup[i] > tup[i+1]:\n",
        "      return False\n",
        "  return True\n",
        "\n",
        "# Create tuples for testing\n",
        "sorted_tuple = (1, 2, 3, 4, 5)\n",
        "unsorted_tuple = (5, 3, 1, 4, 2)\n",
        "\n",
        "# Check if the tuples are sorted\n",
        "is_sorted1 = is_sorted(sorted_tuple)\n",
        "is_sorted2 = is_sorted(unsorted_tuple)\n",
        "\n",
        "# Print the results\n",
        "print(\"sorted_tuple is sorted:\", is_sorted1)\n",
        "print(\"unsorted_tuple is sorted:\", is_sorted2)"
      ],
      "metadata": {
        "colab": {
          "base_uri": "https://localhost:8080/"
        },
        "id": "9eZ1nLGrk3A7",
        "outputId": "90265019-5f7d-46f5-b553-308f0c45a22e"
      },
      "execution_count": null,
      "outputs": [
        {
          "output_type": "stream",
          "name": "stdout",
          "text": [
            "sorted_tuple is sorted: True\n",
            "unsorted_tuple is sorted: False\n"
          ]
        }
      ]
    },
    {
      "cell_type": "markdown",
      "source": [
        "39. Rotate a tuple to the left by n positions."
      ],
      "metadata": {
        "id": "mtq5RCElmFDr"
      }
    },
    {
      "cell_type": "code",
      "source": [
        "def rotated_tuple(tup, n):\n",
        "  n = n % len(tup) # Ensure n is within the range of tuple length\n",
        "\n",
        "  rotated_tuple = tup[n:] + tup[:n]  # Rotate the tuple\n",
        "  return rotated_tuple\n",
        "\n",
        "# Example tuple\n",
        "my_tuple = (1, 2, 3, 4, 5)\n",
        "n_positions = 2\n",
        "result = rotated_tuple(my_tuple, n_positions)\n",
        "print(result)"
      ],
      "metadata": {
        "colab": {
          "base_uri": "https://localhost:8080/"
        },
        "id": "VX7xWdjilhKk",
        "outputId": "87dfadf8-428b-4c1f-bca4-0a515bd7d290"
      },
      "execution_count": null,
      "outputs": [
        {
          "output_type": "stream",
          "name": "stdout",
          "text": [
            "(3, 4, 5, 1, 2)\n"
          ]
        }
      ]
    },
    {
      "cell_type": "markdown",
      "source": [
        "40. Rotate a tuple to the right by n positions."
      ],
      "metadata": {
        "id": "iXEFuUYvnORV"
      }
    },
    {
      "cell_type": "code",
      "source": [
        "def rotate_tuple_right(tup, n):\n",
        "  n = n % len(tup) # Ensure n is within the range of tuple length\n",
        "  rotated_tuple = tup[-n:] + tup[:-n] # Rotate the tuple\n",
        "  return rotated_tuple\n",
        "\n",
        "# Example tuple\n",
        "my_tuple = (1, 2, 3, 4, 5)\n",
        "n_positions = 2\n",
        "result = rotate_tuple_right(my_tuple, n_positions)\n",
        "print(result)"
      ],
      "metadata": {
        "colab": {
          "base_uri": "https://localhost:8080/"
        },
        "id": "i3nz-DXymISF",
        "outputId": "611acefc-d06d-4f26-b16f-a9a8890e6caf"
      },
      "execution_count": null,
      "outputs": [
        {
          "output_type": "stream",
          "name": "stdout",
          "text": [
            "(4, 5, 1, 2, 3)\n"
          ]
        }
      ]
    },
    {
      "cell_type": "markdown",
      "source": [
        "41. Create a tuple of the first 5 Fibonacci numbers."
      ],
      "metadata": {
        "id": "wI9DS6EinsWb"
      }
    },
    {
      "cell_type": "code",
      "source": [
        "def generated_fibonacci(n):\n",
        "\n",
        "   # Initialize the list with the first two Fibonacci numbers\n",
        "  fibonacci = [0, 1]\n",
        "\n",
        "# Continue generating Fibonacci numbers until the list has n elements\n",
        "  while len(fibonacci)<n:\n",
        "\n",
        "    # Calculate the next Fibonacci number\n",
        "    next_number = fibonacci[-1] + fibonacci[-2]\n",
        "\n",
        "    # Add the next Fibonacci number to the list\n",
        "    fibonacci.append(next_number)\n",
        "\n",
        "     # Convert the list to a tuple and return it\n",
        "  return tuple(fibonacci)\n",
        "\n",
        "fibonacci_tuple = generated_fibonacci(5)\n",
        "print(fibonacci_tuple)"
      ],
      "metadata": {
        "colab": {
          "base_uri": "https://localhost:8080/"
        },
        "id": "ZXxy88dVmIVj",
        "outputId": "8583a21e-eb61-48fe-e9b6-99304c9eaef3"
      },
      "execution_count": null,
      "outputs": [
        {
          "output_type": "stream",
          "name": "stdout",
          "text": [
            "(0, 1, 1, 2, 3)\n"
          ]
        }
      ]
    },
    {
      "cell_type": "markdown",
      "source": [
        "42. Create a tuple from user input."
      ],
      "metadata": {
        "id": "2V8MQCdwpAqS"
      }
    },
    {
      "cell_type": "code",
      "source": [
        "input_str = input(\"Enter elements separated by commas: \")\n",
        "\n",
        "# Splitting the input string into a list of strings\n",
        "input_list = input_str.split(',')\n",
        "\n",
        "# Converting the list of strings to a tuple\n",
        "user_tuple = tuple(input_list)\n",
        "\n",
        "# Printing the created tuple\n",
        "print(\"User input tuple:\", user_tuple)"
      ],
      "metadata": {
        "colab": {
          "base_uri": "https://localhost:8080/"
        },
        "id": "8xEouT8zmIY2",
        "outputId": "c94c0b14-84c6-4521-b600-ab803d8440d9"
      },
      "execution_count": null,
      "outputs": [
        {
          "output_type": "stream",
          "name": "stdout",
          "text": [
            "Enter elements separated by commas: d,u,b.a,i\n",
            "User input tuple: ('d', 'u', 'b.a', 'i')\n"
          ]
        }
      ]
    },
    {
      "cell_type": "markdown",
      "source": [
        "43. Swap two elements in a tuple"
      ],
      "metadata": {
        "id": "8_wYeOY-pTap"
      }
    },
    {
      "cell_type": "code",
      "source": [
        "my_tuple = (1, 2, 3, 4, 5)\n",
        "index1 = 1\n",
        "index2 = 3\n",
        "\n",
        "# Swap elements at indices 1 and 3\n",
        "swapped_tuple =tuple(\n",
        "    my_tuple[i] if i not in (index1, index2) else\n",
        "    my_tuple[index2] if i == index1 else\n",
        "    my_tuple[index1]\n",
        "    for i in range(len(my_tuple))\n",
        ")\n",
        "# Print the swapped tuple\n",
        "print(\"Swapped tuple:\", swapped_tuple)"
      ],
      "metadata": {
        "colab": {
          "base_uri": "https://localhost:8080/"
        },
        "id": "91kJtzRsmIb6",
        "outputId": "509387d6-cc5a-4878-f3a9-6d1feb5a5a2e"
      },
      "execution_count": null,
      "outputs": [
        {
          "output_type": "stream",
          "name": "stdout",
          "text": [
            "Swapped tuple: (1, 4, 3, 2, 5)\n"
          ]
        }
      ]
    },
    {
      "cell_type": "markdown",
      "source": [
        "44. Reverse the elements of a tuple."
      ],
      "metadata": {
        "id": "Se8zhL_Hq0TQ"
      }
    },
    {
      "cell_type": "code",
      "source": [
        "# Reverse the elements using slicing\n",
        "reversed_tuple = my_tuple[::-1]\n",
        "\n",
        "# Print the reversed tuple\n",
        "print(\"Reversed tuple:\", reversed_tuple)"
      ],
      "metadata": {
        "colab": {
          "base_uri": "https://localhost:8080/"
        },
        "id": "8faK1esJmIfI",
        "outputId": "28f8e368-e5df-4c4e-f8e0-2985a705c65b"
      },
      "execution_count": null,
      "outputs": [
        {
          "output_type": "stream",
          "name": "stdout",
          "text": [
            "Reversed tuple: (5, 4, 3, 2, 1)\n"
          ]
        }
      ]
    },
    {
      "cell_type": "markdown",
      "source": [
        "45. Create a tuple of the first n powers of 2."
      ],
      "metadata": {
        "id": "KYbv29QAq7D4"
      }
    },
    {
      "cell_type": "code",
      "source": [
        "n = 5\n",
        "# Create a tuple of the first n powers of 2 using a list comprehension\n",
        "powe_tuple = tuple(2 ** i for i in range(n))\n",
        "\n",
        "# Print the tuple of powers of 2\n",
        "print(\"Tuple of the first\", n, \"powers of 2: \", powe_tuple)"
      ],
      "metadata": {
        "colab": {
          "base_uri": "https://localhost:8080/"
        },
        "id": "kw6gcblLmIh8",
        "outputId": "fa754ac0-eb77-4147-ea1a-733876ee704f"
      },
      "execution_count": null,
      "outputs": [
        {
          "output_type": "stream",
          "name": "stdout",
          "text": [
            "Tuple of the first 5 powers of 2:  (1, 2, 4, 8, 16)\n"
          ]
        }
      ]
    },
    {
      "cell_type": "markdown",
      "source": [
        "46. Find the longest string in a tuple of strings."
      ],
      "metadata": {
        "id": "stEOV6qfrm-P"
      }
    },
    {
      "cell_type": "code",
      "source": [
        "string_tuple = (\"apple\", \"banana\", \"grape\", \"kiwi\", \"watermelon\")\n",
        "\n",
        "# Find the longest string in the tuple\n",
        "longest_string = max(string_tuple, key=len)\n",
        "\n",
        "# Print the longest string\n",
        "print(\"Longest string:\", longest_string)"
      ],
      "metadata": {
        "colab": {
          "base_uri": "https://localhost:8080/"
        },
        "id": "cTkWF9MFmIkz",
        "outputId": "50a79d05-c088-48f2-8caf-80c75ac59976"
      },
      "execution_count": null,
      "outputs": [
        {
          "output_type": "stream",
          "name": "stdout",
          "text": [
            "Longest string: watermelon\n"
          ]
        }
      ]
    },
    {
      "cell_type": "markdown",
      "source": [
        "47. Find the shortest string in a tuple of strings."
      ],
      "metadata": {
        "id": "4ObCh1jHsHbL"
      }
    },
    {
      "cell_type": "code",
      "source": [
        "string_tuple = (\"apple\", \"banana\", \"grape\", \"kiwi\", \"watermelon\")\n",
        "\n",
        "# Find the shortest string in the tuple\n",
        "shortest_string = min(string_tuple, key=len)\n",
        "\n",
        "# Print the shortest string\n",
        "print(\"Shortest string:\", shortest_string)"
      ],
      "metadata": {
        "colab": {
          "base_uri": "https://localhost:8080/"
        },
        "id": "nObXoM0amInf",
        "outputId": "ce604f90-0d78-4202-9546-7f173d8ac320"
      },
      "execution_count": null,
      "outputs": [
        {
          "output_type": "stream",
          "name": "stdout",
          "text": [
            "Shortest string: kiwi\n"
          ]
        }
      ]
    },
    {
      "cell_type": "markdown",
      "source": [
        "48. Create a tuple of the first n triangular numbers."
      ],
      "metadata": {
        "id": "NMP2zKKOsQ8K"
      }
    },
    {
      "cell_type": "code",
      "source": [
        "n = 5\n",
        "# Create a tuple of the first n triangular numbers using a list comprehension\n",
        "triangular_number_tuple = tuple((i * (i+1)) // 2 for i in range(1, n))\n",
        "\n",
        "# Print the tuple of triangular numbers\n",
        "print(\"Tuple of the first\", n, \"triangular numbers:\", triangular_number_tuple)"
      ],
      "metadata": {
        "colab": {
          "base_uri": "https://localhost:8080/"
        },
        "id": "Ftr8FK99mIqc",
        "outputId": "e98df377-1dd3-4490-edd7-3d92783dd568"
      },
      "execution_count": null,
      "outputs": [
        {
          "output_type": "stream",
          "name": "stdout",
          "text": [
            "Tuple of the first 5 triangular numbers: (1, 3, 6, 10)\n"
          ]
        }
      ]
    },
    {
      "cell_type": "markdown",
      "source": [
        "49. Check if a tuple contains another tuple as a subsequence."
      ],
      "metadata": {
        "id": "XQwJRUAys5AV"
      }
    },
    {
      "cell_type": "code",
      "source": [
        "def contains_subsequence(main_tuple, sub_tuple):\n",
        "  sub_length = len(sub_tuple)\n",
        "  for i in range(len(main_tuple) - sub_length + 1):\n",
        "    if main_tuple[i:i+sub_length] == sub_tuple:\n",
        "      return True\n",
        "  return False\n",
        "\n",
        "main_tuple = (1,2,3,4,5,6,7,8,9)\n",
        "\n",
        "# Subsequence tuple\n",
        "sub_tuple = (3,4,5)\n",
        "\n",
        "# Check if the main tuple contains the subsequence tuple\n",
        "contains_subseq = contains_subsequence(main_tuple, sub_tuple)\n",
        "\n",
        "# Print the result\n",
        "print(\"Main tuple contains subsequence tuple:\", contains_subseq)\n"
      ],
      "metadata": {
        "colab": {
          "base_uri": "https://localhost:8080/"
        },
        "id": "oVQTzAurmItx",
        "outputId": "4d66832f-9729-489f-a1fc-24df2f1500c4"
      },
      "execution_count": null,
      "outputs": [
        {
          "output_type": "stream",
          "name": "stdout",
          "text": [
            "Main tuple contains subsequence tuple: True\n"
          ]
        }
      ]
    },
    {
      "cell_type": "markdown",
      "source": [
        "50. Create a tuple of alternating 1s and 0s of length n."
      ],
      "metadata": {
        "id": "2gS2nTi1vfc9"
      }
    },
    {
      "cell_type": "code",
      "source": [
        "n = 10\n",
        "\n",
        "# Create a tuple of alternating 1s and 0s using a list comprehension\n",
        "alternative_tuple = tuple(i % 2 for i in range(n))\n",
        "\n",
        "# Print the tuple of alternating 1s and 0s\n",
        "print(\"Tuple of alternating 1s and 0s:\", alternative_tuple)"
      ],
      "metadata": {
        "colab": {
          "base_uri": "https://localhost:8080/"
        },
        "id": "_vxBkKWGmIxE",
        "outputId": "f4fab315-2424-4b70-dc1b-5a04888e739b"
      },
      "execution_count": null,
      "outputs": [
        {
          "output_type": "stream",
          "name": "stdout",
          "text": [
            "Tuple of alternating 1s and 0s: (0, 1, 0, 1, 0, 1, 0, 1, 0, 1)\n"
          ]
        }
      ]
    },
    {
      "cell_type": "markdown",
      "source": [
        "**Set based problems:**"
      ],
      "metadata": {
        "id": "szvugY1Pv-4v"
      }
    },
    {
      "cell_type": "markdown",
      "source": [
        "1. Create a set with integers from 1 to 5"
      ],
      "metadata": {
        "id": "JiB9t_PpwA2u"
      }
    },
    {
      "cell_type": "code",
      "source": [
        "#Create an empty set\n",
        "my_set = set()\n",
        "\n",
        "#Add integers from 1 to 5 to the set\n",
        "my_set.add(1)\n",
        "my_set.add(2)\n",
        "my_set.add(3)\n",
        "my_set.add(4)\n",
        "my_set.add(5)\n",
        "\n",
        "# Print the final set\n",
        "print(my_set)"
      ],
      "metadata": {
        "colab": {
          "base_uri": "https://localhost:8080/"
        },
        "id": "1v7uSnCtmIzv",
        "outputId": "7a14ec44-0eac-4fea-f558-83ae6bf79b67"
      },
      "execution_count": null,
      "outputs": [
        {
          "output_type": "stream",
          "name": "stdout",
          "text": [
            "{1, 2, 3, 4, 5}\n"
          ]
        }
      ]
    },
    {
      "cell_type": "markdown",
      "source": [
        "2. Add an element to a set\n"
      ],
      "metadata": {
        "id": "XadZGBAmwwmh"
      }
    },
    {
      "cell_type": "code",
      "source": [
        "my_set = {1, 2, 3, 4, 5}\n",
        "\n",
        "# Display the original set\n",
        "print(\"original set :\", my_set)\n",
        "\n",
        "# Add an element to the set\n",
        "add_element = 6\n",
        "my_set.add(add_element)\n",
        "\n",
        "#Display the modified set\n",
        "print(\"Set after adding element:\", my_set)"
      ],
      "metadata": {
        "colab": {
          "base_uri": "https://localhost:8080/"
        },
        "id": "ESV3Snk8mI3t",
        "outputId": "41043cf4-7f36-4390-86bb-9a3cd50e16c4"
      },
      "execution_count": null,
      "outputs": [
        {
          "output_type": "stream",
          "name": "stdout",
          "text": [
            "original set : {1, 2, 3, 4, 5}\n",
            "Set after adding element: {1, 2, 3, 4, 5, 6}\n"
          ]
        }
      ]
    },
    {
      "cell_type": "markdown",
      "source": [
        "3. Remove an element from a set."
      ],
      "metadata": {
        "id": "geyCER0cxWDc"
      }
    },
    {
      "cell_type": "code",
      "source": [
        "my_set = {1, 2, 3, 4, 5}\n",
        "#Print the original set\n",
        "print(\"Original Set:\", my_set)\n",
        "\n",
        "#Choose an element to remove\n",
        "remove_element = 3\n",
        "\n",
        "# Step 4: Use the remove() method to remove the chosen element\n",
        "# Note: If the element is not present in the set, remove() raises a KeyError.\n",
        "my_set.remove(remove_element)\n",
        "\n",
        "print(\"Set after removing\", my_set.remove, \":\", my_set)"
      ],
      "metadata": {
        "colab": {
          "base_uri": "https://localhost:8080/"
        },
        "id": "9fLyrhnrmI6d",
        "outputId": "b971c59b-437e-4ac2-d30b-1f43fa54ffe5"
      },
      "execution_count": null,
      "outputs": [
        {
          "output_type": "stream",
          "name": "stdout",
          "text": [
            "Original Set: {1, 2, 3, 4, 5}\n",
            "Set after removing <built-in method remove of set object at 0x79fd047ff5a0> : {1, 2, 4, 5}\n"
          ]
        }
      ]
    },
    {
      "cell_type": "markdown",
      "source": [
        "4. Check if an element exists in a set."
      ],
      "metadata": {
        "id": "F_dkCf5Cxrwt"
      }
    },
    {
      "cell_type": "code",
      "source": [
        "my_set = {1, 3, 5, 7, 9}\n",
        "\n",
        "# Ask the user for the element they want to check\n",
        "check_element = int(input(\"Enter the element to check : \"))\n",
        "\n",
        "# Use the \"in\" keyword to check if the element exists in the set\n",
        "if check_element in my_set:\n",
        "\n",
        "  #If the element exists in the set, print a message\n",
        "  print(f\"{check_element} exists in the set.\")\n",
        "else:\n",
        "  # If the element does not exist in the set, print a message\n",
        "  print(f\"{check_element} doesnot exist in my string\")"
      ],
      "metadata": {
        "colab": {
          "base_uri": "https://localhost:8080/"
        },
        "id": "jjJfA7FhmI9r",
        "outputId": "fdf0b8d5-ddab-4814-baa8-b457ce73f87f"
      },
      "execution_count": null,
      "outputs": [
        {
          "output_type": "stream",
          "name": "stdout",
          "text": [
            "Enter the element to check : 11\n",
            "11 doesnot exist in my string\n"
          ]
        }
      ]
    },
    {
      "cell_type": "markdown",
      "source": [
        "5. Find the length of a set without using the len() function\n",
        "\n"
      ],
      "metadata": {
        "id": "Arlqshd5yoUg"
      }
    },
    {
      "cell_type": "code",
      "source": [
        "my_set = {1, 2, 3, 4, 5}\n",
        "\n",
        "# Initialize a variable to count the elements in the set\n",
        "count = 0\n",
        "\n",
        "# Iterate through each element in the set\n",
        "for i in my_set:\n",
        "  # Increase the count by 1 for each element\n",
        "  count += 1\n",
        "\n",
        "# Print the count, which is the length of the set\n",
        "print(\"Length of the set : \", count)"
      ],
      "metadata": {
        "colab": {
          "base_uri": "https://localhost:8080/"
        },
        "id": "7oW3SxkDmJAS",
        "outputId": "2946537a-b12a-49a4-b249-2bc8be9d899f"
      },
      "execution_count": null,
      "outputs": [
        {
          "output_type": "stream",
          "name": "stdout",
          "text": [
            "Length of the set :  5\n"
          ]
        }
      ]
    },
    {
      "cell_type": "markdown",
      "source": [
        "6. Clear all elements from a set.|"
      ],
      "metadata": {
        "id": "4xuyUhE1zQUl"
      }
    },
    {
      "cell_type": "code",
      "source": [
        "my_set = {1, 2, 3, 4, 5}\n",
        "\n",
        "# Step 2: Display the original set\n",
        "print(\"Original set:\", my_set)\n",
        "\n",
        "# Step 3: Clear all elements from the set using the clear() method\n",
        "my_set.clear()\n",
        "\n",
        "# Step 4: Display the set after clearing\n",
        "print(\"Set after clearing:\", my_set)"
      ],
      "metadata": {
        "colab": {
          "base_uri": "https://localhost:8080/"
        },
        "id": "QR7h9bXzmJDX",
        "outputId": "c2fefb14-40f1-4137-8dd6-a5bc3863077c"
      },
      "execution_count": null,
      "outputs": [
        {
          "output_type": "stream",
          "name": "stdout",
          "text": [
            "Original set: {1, 2, 3, 4, 5}\n",
            "Set after clearing: set()\n"
          ]
        }
      ]
    },
    {
      "cell_type": "markdown",
      "source": [
        "7. Create a set of even numbers from 1 to 10"
      ],
      "metadata": {
        "id": "bM0FlheazYUc"
      }
    },
    {
      "cell_type": "code",
      "source": [
        "even_num_set = set()\n",
        "\n",
        "# Iterate through numbers from 1 to 10\n",
        "for num in range(1,11):\n",
        "\n",
        "  # Check if the number is even\n",
        "  if num % 2 == 0:\n",
        "\n",
        "    # Add the even number to the set\n",
        "    even_num_set.add(num)\n",
        "\n",
        "    # Print the set of even numbers\n",
        "print(even_num_set)"
      ],
      "metadata": {
        "colab": {
          "base_uri": "https://localhost:8080/"
        },
        "id": "iAtcZgGTmJF9",
        "outputId": "9af27a84-388c-40af-c547-7a45a47fbd61"
      },
      "execution_count": null,
      "outputs": [
        {
          "output_type": "stream",
          "name": "stdout",
          "text": [
            "{2, 4, 6, 8, 10}\n"
          ]
        }
      ]
    },
    {
      "cell_type": "markdown",
      "source": [
        "8. Create a set of odd numbers from 1 to 10"
      ],
      "metadata": {
        "id": "8tx0Oe0yz5hG"
      }
    },
    {
      "cell_type": "code",
      "source": [
        "# Initialize an empty set to store odd numbers.\n",
        "odd_num_set = set()\n",
        "\n",
        "# Iterate through numbers from 1 to 10.\n",
        "for num in range(1, 11):\n",
        "\n",
        "# Check if the current number is odd.\n",
        "  if num % 2 != 0:\n",
        "    odd_num_set.add(num)\n",
        "\n",
        "# Print the final set of odd numbers.\n",
        "print(odd_num_set)"
      ],
      "metadata": {
        "colab": {
          "base_uri": "https://localhost:8080/"
        },
        "id": "oOEXTeBXmJJT",
        "outputId": "b66e2c46-36d4-4e3e-955a-4ebb04aabda6"
      },
      "execution_count": null,
      "outputs": [
        {
          "output_type": "stream",
          "name": "stdout",
          "text": [
            "{1, 3, 5, 7, 9}\n"
          ]
        }
      ]
    },
    {
      "cell_type": "markdown",
      "source": [
        "9. Find the union of two sets"
      ],
      "metadata": {
        "id": "Q2cZhjVl0e4v"
      }
    },
    {
      "cell_type": "code",
      "source": [
        "set1 = {1, 2, 3, 4, 5}\n",
        "set2 = {4, 5, 6, 7, 8}\n",
        "\n",
        "# Find the union of the two sets using the `union()` method\n",
        "union_set = set1.union(set2)\n",
        "\n",
        "# Print the original sets and their union\n",
        "print(\"Set 1:\", set1)\n",
        "print(\"Set 2:\", set2)\n",
        "print(\"Union of Set 1 and Set 2:\", union_set)"
      ],
      "metadata": {
        "colab": {
          "base_uri": "https://localhost:8080/"
        },
        "id": "7YIjFaOQmJMO",
        "outputId": "cadc9c25-e0d5-4066-e6f2-9b925d875907"
      },
      "execution_count": null,
      "outputs": [
        {
          "output_type": "stream",
          "name": "stdout",
          "text": [
            "Set 1: {1, 2, 3, 4, 5}\n",
            "Set 2: {4, 5, 6, 7, 8}\n",
            "Union of Set 1 and Set 2: {1, 2, 3, 4, 5, 6, 7, 8}\n"
          ]
        }
      ]
    },
    {
      "cell_type": "markdown",
      "source": [
        "10. Find the intersection of two sets"
      ],
      "metadata": {
        "id": "Fz7G1M4l04ku"
      }
    },
    {
      "cell_type": "code",
      "source": [
        "set1 = {1, 2, 3, 4, 5}\n",
        "set2 = {3, 4, 5, 6, 7}\n",
        "\n",
        "# Find the intersection using the intersection() method\n",
        "intersect_set = set1.intersection(set2)\n",
        "\n",
        "# Print the original sets and the intersection\n",
        "print(\"Set 1: \", set1)\n",
        "print(\"Set 2: \", set2)\n",
        "print(\"Intersection :\", intersect_set)"
      ],
      "metadata": {
        "colab": {
          "base_uri": "https://localhost:8080/"
        },
        "id": "nX014rEfmJPp",
        "outputId": "8e72f6b1-1509-41aa-c953-bffe4c6dcf44"
      },
      "execution_count": null,
      "outputs": [
        {
          "output_type": "stream",
          "name": "stdout",
          "text": [
            "Set 1:  {1, 2, 3, 4, 5}\n",
            "Set 2:  {3, 4, 5, 6, 7}\n",
            "Intersection : {3, 4, 5}\n"
          ]
        }
      ]
    },
    {
      "cell_type": "markdown",
      "source": [
        "11. Find the difference between two sets."
      ],
      "metadata": {
        "id": "4TNvnxe41b_u"
      }
    },
    {
      "cell_type": "code",
      "source": [
        "set1 = {1, 2, 3, 4, 5}\n",
        "set2 = {3, 4, 5, 6, 7}\n",
        "\n",
        "# Find the difference between the sets using the difference() method\n",
        "deff_set = set1.difference(set2)\n",
        "\n",
        "# Print the original sets and the difference set\n",
        "print(f\"Set1 : {set1}, Set2 : {set2}, Difference : {deff_set}\")"
      ],
      "metadata": {
        "colab": {
          "base_uri": "https://localhost:8080/"
        },
        "id": "P3R68lHQ1YJR",
        "outputId": "5357d833-4b0d-4945-a75c-a98d87f0155b"
      },
      "execution_count": null,
      "outputs": [
        {
          "output_type": "stream",
          "name": "stdout",
          "text": [
            "Set1 : {1, 2, 3, 4, 5}, Set2 : {3, 4, 5, 6, 7}, Difference : {1, 2}\n"
          ]
        }
      ]
    },
    {
      "cell_type": "markdown",
      "source": [
        "12. Check if a set is a subset of another set."
      ],
      "metadata": {
        "id": "GWItnKv52G5C"
      }
    },
    {
      "cell_type": "code",
      "source": [
        "set1 = {1, 2, 3}\n",
        "set2 = {1, 2, 3, 4, 5}\n",
        "\n",
        "# Use the \"issubset()\" method to check if set1 is a subset of set2\n",
        "is_subset = set1.issubset(set2)\n",
        "\n",
        "# Print the result\n",
        "print(\"Is set1 a subset of set2:\", is_subset)"
      ],
      "metadata": {
        "colab": {
          "base_uri": "https://localhost:8080/"
        },
        "id": "BZ_Efbsh2CQY",
        "outputId": "e585f21d-53f2-4f16-aa5d-cd806cbd3f6e"
      },
      "execution_count": null,
      "outputs": [
        {
          "output_type": "stream",
          "name": "stdout",
          "text": [
            "Is set1 a subset of set2: True\n"
          ]
        }
      ]
    },
    {
      "cell_type": "markdown",
      "source": [
        "13. Check if a set is a superset of another set.\n"
      ],
      "metadata": {
        "id": "sblqpseY2YHE"
      }
    },
    {
      "cell_type": "code",
      "source": [
        "set1 = {1, 2, 3, 4, 5, 6}\n",
        "set2 = {3, 4}\n",
        "\n",
        "# Check if set1 is a superset of set2\n",
        "is_superset = set1.issuperset(set2)\n",
        "\n",
        "# Print the result\n",
        "if is_superset:\n",
        "  print(\"Set1 is a superset of set2\")\n",
        "else:\n",
        "  print(\"Set1 is not a superset of set2\")"
      ],
      "metadata": {
        "colab": {
          "base_uri": "https://localhost:8080/"
        },
        "id": "N0CQlLaw2dah",
        "outputId": "4c0b7527-9f20-467e-e03e-db30a12a6550"
      },
      "execution_count": null,
      "outputs": [
        {
          "output_type": "stream",
          "name": "stdout",
          "text": [
            "Set1 is a superset of set2\n"
          ]
        }
      ]
    },
    {
      "cell_type": "markdown",
      "source": [
        "14. Create a set from a list"
      ],
      "metadata": {
        "id": "7BqPwUqG3DNf"
      }
    },
    {
      "cell_type": "code",
      "source": [
        "my_list = [2, 4, 1, 4, 3, 2, 5]\n",
        "\n",
        "# Use the set() constructor to convert the list into a set\n",
        "# This automatically removes duplicates and creates a set with unique elements\n",
        "my_set = set(my_list)\n",
        "\n",
        "#Print the original list and the resulting set\n",
        "print(\"Original List : \", my_list)\n",
        "print(\"Set from List : \", my_set)"
      ],
      "metadata": {
        "colab": {
          "base_uri": "https://localhost:8080/"
        },
        "id": "LJRP53DP2_eu",
        "outputId": "ffc1a7fc-8e7f-470e-c58e-af3b1ab129a9"
      },
      "execution_count": null,
      "outputs": [
        {
          "output_type": "stream",
          "name": "stdout",
          "text": [
            "Original List :  [2, 4, 1, 4, 3, 2, 5]\n",
            "Set from List :  {1, 2, 3, 4, 5}\n"
          ]
        }
      ]
    },
    {
      "cell_type": "markdown",
      "source": [
        "15. Convert a set to a list."
      ],
      "metadata": {
        "id": "wdYm1C_g3fuw"
      }
    },
    {
      "cell_type": "code",
      "source": [
        "my_set = {3, 1, 4, 1, 44, 5,7,86}\n",
        "\n",
        "#Convert the set to a list using the list() function\n",
        "my_list = list(my_set)\n",
        "\n",
        "# Now, my_list contains the elements from my_set in list format\n",
        "# Print the original set and the converted list\n",
        "print(\"Original Set :\", my_set)\n",
        "print(\"Converted List :\", my_list)"
      ],
      "metadata": {
        "colab": {
          "base_uri": "https://localhost:8080/"
        },
        "id": "E2AjgJDh3b44",
        "outputId": "8201de73-1ef6-4498-9b44-2941be4bc625"
      },
      "execution_count": null,
      "outputs": [
        {
          "output_type": "stream",
          "name": "stdout",
          "text": [
            "Original Set : {1, 3, 4, 5, 86, 7, 44}\n",
            "Converted List : [1, 3, 4, 5, 86, 7, 44]\n"
          ]
        }
      ]
    },
    {
      "cell_type": "markdown",
      "source": [
        "16. Remove a random element from a set."
      ],
      "metadata": {
        "id": "WCK7X1uq4IdJ"
      }
    },
    {
      "cell_type": "code",
      "source": [
        "import random  # Import the random module\n",
        "\n",
        "# Create a set with some elements\n",
        "my_set = {1, 2, 3, 4, 5}\n",
        "\n",
        "# Display the original set\n",
        "print(\"Original set:\", my_set)\n",
        "\n",
        "# Choose a random element from the set using the random.choice() function\n",
        "random_element = random.choice(list(my_set))\n",
        "\n",
        "# Remove the chosen random element from the set using the remove() method\n",
        "my_set.remove(random_element)\n",
        "\n",
        "# Display the updated set after removing the random element\n",
        "print(\"Updated set after removing\", random_element, \":\", my_set)"
      ],
      "metadata": {
        "colab": {
          "base_uri": "https://localhost:8080/"
        },
        "id": "P_lIYIWp3-LE",
        "outputId": "3098430a-c7f6-46ee-d5c3-0221dbd86824"
      },
      "execution_count": null,
      "outputs": [
        {
          "output_type": "stream",
          "name": "stdout",
          "text": [
            "Original set: {1, 2, 3, 4, 5}\n",
            "Updated set after removing 2 : {1, 3, 4, 5}\n"
          ]
        }
      ]
    },
    {
      "cell_type": "markdown",
      "source": [
        "17. Pop an element from a set."
      ],
      "metadata": {
        "id": "f-OH_6tE6D90"
      }
    },
    {
      "cell_type": "code",
      "source": [
        "my_set = {1, 2, 3, 4, 5}\n",
        "\n",
        "# Print the original set\n",
        "print(\"Original set:\", my_set)\n",
        "\n",
        "# Pop an element from the set using the pop() method\n",
        "popped_element = my_set.pop()\n",
        "\n",
        "# Print the element that was popped\n",
        "print(\"Popped element:\", popped_element)\n",
        "\n",
        "# Print the set after popping an element\n",
        "print(\"Set after popping:\", my_set)"
      ],
      "metadata": {
        "colab": {
          "base_uri": "https://localhost:8080/"
        },
        "id": "n062XwUc5Ema",
        "outputId": "0c5b0ad2-2849-4da1-f6ac-fb8686b40b26"
      },
      "execution_count": null,
      "outputs": [
        {
          "output_type": "stream",
          "name": "stdout",
          "text": [
            "Original set: {1, 2, 3, 4, 5}\n",
            "Popped element: 1\n",
            "Set after popping: {2, 3, 4, 5}\n"
          ]
        }
      ]
    },
    {
      "cell_type": "markdown",
      "source": [
        "18. Check if two sets have no elements in common."
      ],
      "metadata": {
        "id": "5OOo0JCm6jzl"
      }
    },
    {
      "cell_type": "code",
      "source": [
        "set1 = {1, 2, 3, 4}\n",
        "set2 = {5, 6, 7, 8}\n",
        "\n",
        "# Check if the intersection of the two sets is empty\n",
        "# The intersection is the set of elements that are common to both sets\n",
        "\n",
        "common_element = set1.intersection(set2)\n",
        "\n",
        "\n",
        "# Check if the common_elements set is empty\n",
        "if not common_element:\n",
        "   print(\"The two sets have no elements in common.\")\n",
        "else:\n",
        "    print(\"The two sets have common elements:\", common_element)"
      ],
      "metadata": {
        "colab": {
          "base_uri": "https://localhost:8080/"
        },
        "id": "iza5nDr-6oC1",
        "outputId": "713ae357-8e59-4e6a-ff06-4f967bf3d609"
      },
      "execution_count": null,
      "outputs": [
        {
          "output_type": "stream",
          "name": "stdout",
          "text": [
            "The two sets have no elements in common.\n"
          ]
        }
      ]
    },
    {
      "cell_type": "markdown",
      "source": [
        "19. Find the symmetric difference between two sets."
      ],
      "metadata": {
        "id": "oKzXy48k7I1E"
      }
    },
    {
      "cell_type": "code",
      "source": [
        "set1 = {1, 2, 3, 4, 5}\n",
        "set2 = {4, 5, 6, 7, 8}\n",
        "\n",
        "# Calculate the symmetric difference using the ^ operator\n",
        "symmetric_diff = set1 ^ set2\n",
        "\n",
        "# Print the symmetric difference\n",
        "print(\"Symmetric Difference : \", symmetric_diff)"
      ],
      "metadata": {
        "colab": {
          "base_uri": "https://localhost:8080/"
        },
        "id": "AVIusgcr7DeW",
        "outputId": "2219ac20-bb85-478d-e1b4-6653381d71b2"
      },
      "execution_count": null,
      "outputs": [
        {
          "output_type": "stream",
          "name": "stdout",
          "text": [
            "Symmetric Difference :  {1, 2, 3, 6, 7, 8}\n"
          ]
        }
      ]
    },
    {
      "cell_type": "markdown",
      "source": [
        "20. Update a set with elements from another set."
      ],
      "metadata": {
        "id": "e0LmsW1c7lnE"
      }
    },
    {
      "cell_type": "code",
      "source": [
        "# Create the first set\n",
        "set1 = {1, 2, 3}\n",
        "print(\"Set 1 : \", set1)\n",
        "\n",
        "# Create the second set\n",
        "set2 = {4, 5, 6}\n",
        "print(\"Set 2 : \", set2)\n",
        "\n",
        "# Update set1 with elements from set2\n",
        "set1.update(set2)\n",
        "print(\"Updated Set 1:\", set1)"
      ],
      "metadata": {
        "colab": {
          "base_uri": "https://localhost:8080/"
        },
        "id": "LzqWM6si7iJ0",
        "outputId": "839b126f-8538-4097-a775-001812be8f9b"
      },
      "execution_count": null,
      "outputs": [
        {
          "output_type": "stream",
          "name": "stdout",
          "text": [
            "Set 1 :  {1, 2, 3}\n",
            "Set 2 :  {4, 5, 6}\n",
            "Updated Set 1: {1, 2, 3, 4, 5, 6}\n"
          ]
        }
      ]
    },
    {
      "cell_type": "markdown",
      "source": [
        "21. Create a set of the first 5 prime numbers."
      ],
      "metadata": {
        "id": "8Z8Sfcwj8LQy"
      }
    },
    {
      "cell_type": "code",
      "source": [
        "def is_prime(num):\n",
        "  if num <= 1:\n",
        "    return False\n",
        "  for i in range(2, int(num ** 0.5) + 1):\n",
        "    if num % i == 0:\n",
        "      return False\n",
        "  return True\n",
        "\n",
        "# Create an empty set to store the prime numbers\n",
        "prime_set = set()\n",
        "\n",
        "# Initialize the number to start checking for primes\n",
        "num = 2\n",
        "\n",
        "# Loop until we have found the first 5 prime numbers\n",
        "while len(prime_set) < 5:\n",
        "  if is_prime(num):\n",
        "    prime_set.add(num)\n",
        "\n",
        "# Move on to the next number for the next iteration\n",
        "  num += 1\n",
        "\n",
        "# Print the set of prime numbers\n",
        "print(\"Set of the first 5 prime numbers:\", prime_set)"
      ],
      "metadata": {
        "colab": {
          "base_uri": "https://localhost:8080/"
        },
        "id": "7Wy6Ymws8Kim",
        "outputId": "904dee0e-87fa-4332-fd2d-8cf228b5b0eb"
      },
      "execution_count": null,
      "outputs": [
        {
          "output_type": "stream",
          "name": "stdout",
          "text": [
            "Set of the first 5 prime numbers: {2, 3, 5, 7, 11}\n"
          ]
        }
      ]
    },
    {
      "cell_type": "markdown",
      "source": [
        "22. Check if two sets are identical."
      ],
      "metadata": {
        "id": "yODpYEA59fH6"
      }
    },
    {
      "cell_type": "code",
      "source": [
        "set1 = {1, 2, 3, 4, 5}\n",
        "set2 = {3, 1, 5, 2, 4} # The order of elements doesn't matter in sets\n",
        "\n",
        "# Step 2: Check if the sets are identical using the `==` operator\n",
        "# Sets are unordered collections, so the order of elements doesn't matter.\n",
        "# The `==` operator compares the content of the sets.\n",
        "\n",
        "if set1 == set2:\n",
        "  print(\"The sets are identical.\")\n",
        "else:\n",
        "  print(\"The sets are not identical\")"
      ],
      "metadata": {
        "colab": {
          "base_uri": "https://localhost:8080/"
        },
        "id": "775O0nK59X17",
        "outputId": "5abd3d7e-1436-4e9f-bf49-468c968d458e"
      },
      "execution_count": null,
      "outputs": [
        {
          "output_type": "stream",
          "name": "stdout",
          "text": [
            "The sets are identical.\n"
          ]
        }
      ]
    },
    {
      "cell_type": "markdown",
      "source": [
        "23. Create a frozen set"
      ],
      "metadata": {
        "id": "Z-LC-iseC8di"
      }
    },
    {
      "cell_type": "code",
      "source": [
        "# Define a list of elements that you want to include in the frozen set\n",
        "elements = [1, 2, 3, 4, 5]\n",
        "\n",
        "#Create a frozen set using the 'frozenset' constructor and passing the list of elements\n",
        "my_frozen_set = frozenset(elements)\n",
        "\n",
        "# Print the frozen set\n",
        "print(\"Frozen Set:\", my_frozen_set)"
      ],
      "metadata": {
        "id": "nwRHIr_b92dF",
        "colab": {
          "base_uri": "https://localhost:8080/"
        },
        "outputId": "c7c69648-1205-4adc-825e-cb49bfd34df2"
      },
      "execution_count": null,
      "outputs": [
        {
          "output_type": "stream",
          "name": "stdout",
          "text": [
            "Frozen Set: frozenset({1, 2, 3, 4, 5})\n"
          ]
        }
      ]
    },
    {
      "cell_type": "markdown",
      "source": [
        "24. Check if a set is disjoint with another set."
      ],
      "metadata": {
        "id": "WlFOg_l7DG8Q"
      }
    },
    {
      "cell_type": "code",
      "source": [
        "set1 = {1, 2, 3, 4}\n",
        "set2 = {5, 6, 7, 8}\n",
        "\n",
        "# Use the `isdisjoint()` method to check if the sets are disjoint\n",
        "# The `isdisjoint()` method returns True if the sets have no common elements,\n",
        "# and False if they have at least one common element.\n",
        "\n",
        "disjoint_status = set1.isdisjoint(set2)\n",
        "\n",
        "# Print the result\n",
        "print(\"Are the sets disjoint ?\", disjoint_status)"
      ],
      "metadata": {
        "colab": {
          "base_uri": "https://localhost:8080/"
        },
        "id": "owNDp87FDD1w",
        "outputId": "86594058-5afa-4e41-9c75-48d39179ba0d"
      },
      "execution_count": null,
      "outputs": [
        {
          "output_type": "stream",
          "name": "stdout",
          "text": [
            "Are the sets disjoint ? True\n"
          ]
        }
      ]
    },
    {
      "cell_type": "markdown",
      "source": [
        "25. Create a set of squares of numbers from 1 to 5."
      ],
      "metadata": {
        "id": "If7z9PJGDihI"
      }
    },
    {
      "cell_type": "code",
      "source": [
        "squares_set = set()\n",
        "\n",
        "# Use a loop to iterate through numbers from 1 to 5\n",
        "for num in range(1, 6):\n",
        "  #Calculate the square of the current number\n",
        "  square = num ** 2\n",
        "\n",
        "#Add the square to the set\n",
        "  squares_set.add(square)\n",
        "\n",
        "#Print the set of squares\n",
        "print(squares_set)"
      ],
      "metadata": {
        "colab": {
          "base_uri": "https://localhost:8080/"
        },
        "id": "ZyoyFa6wDZ0H",
        "outputId": "2e5ee126-7f9c-4ce7-ac7b-c7833a85aaae"
      },
      "execution_count": null,
      "outputs": [
        {
          "output_type": "stream",
          "name": "stdout",
          "text": [
            "{1, 4, 9, 16, 25}\n"
          ]
        }
      ]
    },
    {
      "cell_type": "markdown",
      "source": [
        "26. Filter out all even numbers from a set."
      ],
      "metadata": {
        "id": "fqTCbKPYD-Kr"
      }
    },
    {
      "cell_type": "code",
      "source": [
        "original_set = {1, 2, 3, 4, 5}\n",
        "\n",
        "#Initialize an empty set to store the filtered even numbers\n",
        "even_numbers_set = set()\n",
        "\n",
        "# Iterate through each element in the original set\n",
        "for num in original_set:\n",
        "  # Check if the current number is even (divisible by 2)\n",
        "  if num % 2 == 0:\n",
        "    # If even, add it to the even_numbers_set\n",
        "    even_numbers_set.add(num)\n",
        "\n",
        "# Print the original set and the set containing even numbers\n",
        "print(\"Original Set:\", original_set)\n",
        "print(\"Even Numbers Set:\", even_numbers_set)"
      ],
      "metadata": {
        "colab": {
          "base_uri": "https://localhost:8080/"
        },
        "id": "PIaF1aFKD1hI",
        "outputId": "4bfed861-f049-4027-b131-acc42d8a64b6"
      },
      "execution_count": null,
      "outputs": [
        {
          "output_type": "stream",
          "name": "stdout",
          "text": [
            "Original Set: {1, 2, 3, 4, 5}\n",
            "Even Numbers Set: {2, 4}\n"
          ]
        }
      ]
    },
    {
      "cell_type": "markdown",
      "source": [
        "27. Multiply all elements in a set by 2."
      ],
      "metadata": {
        "id": "ClP3-AljEnjb"
      }
    },
    {
      "cell_type": "code",
      "source": [
        "original_set = {1, 2, 3, 4, 5}\n",
        "\n",
        "# Initialize an empty set to store the multiplied elements\n",
        "multiplied_set = set()\n",
        "\n",
        "for num in original_set:\n",
        "    # Multiply the current element by 2\n",
        "    multiplied_num = num * 2\n",
        "\n",
        "    # Add the multiplied element to the multiplied_set\n",
        "    multiplied_set.add(multiplied_num)\n",
        "\n",
        "# The original_set remains unchanged\n",
        "print(\"Original Set:\", original_set)\n",
        "\n",
        "# Display the set with elements multiplied by 2\n",
        "print(\"Multiplied Set:\", multiplied_set)"
      ],
      "metadata": {
        "colab": {
          "base_uri": "https://localhost:8080/"
        },
        "id": "ME48iGDNEXUW",
        "outputId": "f53e1fd3-cbff-4b0c-bcd4-e6894c3ca5a7"
      },
      "execution_count": null,
      "outputs": [
        {
          "output_type": "stream",
          "name": "stdout",
          "text": [
            "Original Set: {1, 2, 3, 4, 5}\n",
            "Multiplied Set: {2, 4, 6, 8, 10}\n"
          ]
        }
      ]
    },
    {
      "cell_type": "markdown",
      "source": [
        "28. Create a set of random numbers."
      ],
      "metadata": {
        "id": "rtGCBP-KE18f"
      }
    },
    {
      "cell_type": "code",
      "source": [
        "import random\n",
        "\n",
        "# Step 2: Define the number of random numbers you want in the set\n",
        "num_random_numbers = 5\n",
        "\n",
        "# Step 3: Initialize an empty set to store the random numbers\n",
        "random_number_set = set()\n",
        "\n",
        "# Step 4: Use a loop to generate random numbers and add them to the set\n",
        "for _ in range(num_random_numbers):\n",
        "    # Generate a random integer using the `randint` function from the `random` module\n",
        "    random_num = random.randint(1, 100)  # Generate a random number between 1 and 100\n",
        "    # Add the random number to the set\n",
        "    random_number_set.add(random_num)\n",
        "\n",
        "# Step 5: Print the generated set of random numbers\n",
        "print(\"Generated set of random numbers:\", random_number_set)"
      ],
      "metadata": {
        "colab": {
          "base_uri": "https://localhost:8080/"
        },
        "id": "8_yM60jnEx-y",
        "outputId": "449487e3-058d-48e0-ce47-707429ade0b9"
      },
      "execution_count": null,
      "outputs": [
        {
          "output_type": "stream",
          "name": "stdout",
          "text": [
            "Generated set of random numbers: {69, 42, 76, 58, 28}\n"
          ]
        }
      ]
    },
    {
      "cell_type": "markdown",
      "source": [
        "29. Check if a set is empty."
      ],
      "metadata": {
        "id": "B4kaPBYixx5H"
      }
    },
    {
      "cell_type": "code",
      "source": [
        "# Create a set (you can replace this with your own set)\n",
        "my_set = set()\n",
        "\n",
        "# Check if the set is empty using the 'if' statement\n",
        "if not my_set :\n",
        "  print(\"The set is empty.\")\n",
        "else:\n",
        "  print(\"The set is not empty\")"
      ],
      "metadata": {
        "colab": {
          "base_uri": "https://localhost:8080/"
        },
        "id": "yHhRBcECx50B",
        "outputId": "15fb39a4-9e41-4835-f057-63e66249141c"
      },
      "execution_count": null,
      "outputs": [
        {
          "output_type": "stream",
          "name": "stdout",
          "text": [
            "The set is empty.\n"
          ]
        }
      ]
    },
    {
      "cell_type": "markdown",
      "source": [
        "30. Create a nested set (hint: use frozenset)"
      ],
      "metadata": {
        "id": "_pA8qXOQy6fX"
      }
    },
    {
      "cell_type": "code",
      "source": [
        "set1 = {1, 2, 3, 4, 5}\n",
        "set2 = {6, 7, 8, 9, 10}\n",
        "\n",
        "# Create frozensets from the inner sets\n",
        "frozen_set1 = frozenset(set1)\n",
        "frozen_set2 = frozenset(set2)\n",
        "\n",
        "# Create the nested set using the frozensets\n",
        "nested_set = {frozen_set1, frozen_set2}\n",
        "\n",
        "# Print the nested set\n",
        "print(\"Nested Set\", nested_set)"
      ],
      "metadata": {
        "colab": {
          "base_uri": "https://localhost:8080/"
        },
        "id": "h4eDIkbfysRq",
        "outputId": "c119be67-b767-4bc7-8e79-9b0713578fa6"
      },
      "execution_count": null,
      "outputs": [
        {
          "output_type": "stream",
          "name": "stdout",
          "text": [
            "Nested Set {frozenset({1, 2, 3, 4, 5}), frozenset({6, 7, 8, 9, 10})}\n"
          ]
        }
      ]
    },
    {
      "cell_type": "markdown",
      "source": [
        "31. Remove an element from a set using the discard method.\n"
      ],
      "metadata": {
        "id": "d6oRPw_Wzo3z"
      }
    },
    {
      "cell_type": "code",
      "source": [
        "my_set = {1, 2, 3, 4, 5}\n",
        "\n",
        "# Display the initial set\n",
        "print(\"Initial set:\", my_set)\n",
        "\n",
        "# Define the element to be removed\n",
        "element_remove = 3\n",
        "\n",
        "# Use the discard() method to remove the element from the set\n",
        "# If the element is not present in the set, discard() won't raise an error\n",
        "my_set.discard(element_remove)\n",
        "\n",
        "# Display the set after removing the element\n",
        "print(\"Set after removing\", element_remove, \":\", my_set)"
      ],
      "metadata": {
        "colab": {
          "base_uri": "https://localhost:8080/"
        },
        "id": "_GW2Na8jzhRt",
        "outputId": "82615414-d6e1-4ad7-b49e-40b16fe6f810"
      },
      "execution_count": null,
      "outputs": [
        {
          "output_type": "stream",
          "name": "stdout",
          "text": [
            "Initial set: {1, 2, 3, 4, 5}\n",
            "Set after removing 3 : {1, 2, 4, 5}\n"
          ]
        }
      ]
    },
    {
      "cell_type": "markdown",
      "source": [
        "32. Compare two sets."
      ],
      "metadata": {
        "id": "vyLxwdJ70RG1"
      }
    },
    {
      "cell_type": "code",
      "source": [
        "#Define two sets\n",
        "set1 = {1, 2, 3, 4, 5}\n",
        "set2 = {4, 5, 6, 7, 8}\n",
        "\n",
        "# Use set operations to compare the sets\n",
        "# Check if set1 is a subset of set2\n",
        "is_subset = set1.issubset(set2)\n",
        "\n",
        "# Check if set2 is a subset of set1\n",
        "is_superset = set1.issuperset(set2)\n",
        "\n",
        "# Find the intersection of the sets\n",
        "intersection = set1.intersection(set2)\n",
        "\n",
        "# Find the union of the sets\n",
        "union = set1.union(set2)\n",
        "\n",
        "# Find the elements that are in set1 but not in set2\n",
        "difference1 = set1.union(set2)\n",
        "\n",
        "# Find the elements that are in set2 but not in set1\n",
        "difference2 = set2.difference(set1)\n",
        "\n",
        "# Step 3: Print the results\n",
        "print(\"Set 1:\", set1)\n",
        "print(\"Set 2:\", set2)\n",
        "print(\"Is set1 a subset of set2?\", is_subset)\n",
        "print(\"Is set2 a subset of set1?\", is_superset)\n",
        "print(\"Intersection:\", intersection)\n",
        "print(\"Union:\", union)\n",
        "print(\"Elements in set1 but not in set2:\", difference1)\n",
        "print(\"Elements in set2 but not in set1:\", difference2)"
      ],
      "metadata": {
        "colab": {
          "base_uri": "https://localhost:8080/"
        },
        "id": "mzJCDQgv0SOx",
        "outputId": "0cd1ffd9-eebc-4890-d6f9-7eab74f3c049"
      },
      "execution_count": null,
      "outputs": [
        {
          "output_type": "stream",
          "name": "stdout",
          "text": [
            "Set 1: {1, 2, 3, 4, 5}\n",
            "Set 2: {4, 5, 6, 7, 8}\n",
            "Is set1 a subset of set2? False\n",
            "Is set2 a subset of set1? False\n",
            "Intersection: {4, 5}\n",
            "Union: {1, 2, 3, 4, 5, 6, 7, 8}\n",
            "Elements in set1 but not in set2: {1, 2, 3, 4, 5, 6, 7, 8}\n",
            "Elements in set2 but not in set1: {8, 6, 7}\n"
          ]
        }
      ]
    },
    {
      "cell_type": "markdown",
      "source": [
        "33. Create a set from a string."
      ],
      "metadata": {
        "id": "BX-OGkQO1l5y"
      }
    },
    {
      "cell_type": "code",
      "source": [
        "input_string = \"hello\"\n",
        "\n",
        "# Use the set() constructor to create a set from the characters in the string\n",
        "char_set = set(input_string)\n",
        "print(char_set)"
      ],
      "metadata": {
        "colab": {
          "base_uri": "https://localhost:8080/"
        },
        "id": "y4QBo9FI1f1E",
        "outputId": "ce3b1af9-b33d-4896-8331-502414480dc5"
      },
      "execution_count": null,
      "outputs": [
        {
          "output_type": "stream",
          "name": "stdout",
          "text": [
            "{'o', 'h', 'e', 'l'}\n"
          ]
        }
      ]
    },
    {
      "cell_type": "markdown",
      "source": [
        "34. Convert a set of strings to a set of integers."
      ],
      "metadata": {
        "id": "wugEFDou1_3C"
      }
    },
    {
      "cell_type": "code",
      "source": [
        "string_set = {\"123\", \"456\", \"789\"}\n",
        "\n",
        "#Initialize an empty set to store integers\n",
        "integer_set = set()\n",
        "\n",
        "#Iterate through each string in the string set\n",
        "for string in string_set:\n",
        "\n",
        "  #Convert the string to an integer using the int() function\n",
        "  integer_value = int(string)\n",
        "\n",
        "#Add the integer to the integer set\n",
        "  integer_set.add(integer_value)\n",
        "\n",
        "#Print the original string set and the converted integer set\n",
        "print(f\"Original String : {string_set} Coverted Integer Set : {integer_set}\")"
      ],
      "metadata": {
        "colab": {
          "base_uri": "https://localhost:8080/"
        },
        "id": "uEZ19tbk1zgg",
        "outputId": "1ea78a6d-4333-4353-eb93-42144931849b"
      },
      "execution_count": null,
      "outputs": [
        {
          "output_type": "stream",
          "name": "stdout",
          "text": [
            "Original String : {'456', '789', '123'} Coverted Integer Set : {456, 123, 789}\n"
          ]
        }
      ]
    },
    {
      "cell_type": "markdown",
      "source": [
        "35. Convert a set of integers to a set of strings."
      ],
      "metadata": {
        "id": "v_czYwtf3Sts"
      }
    },
    {
      "cell_type": "code",
      "source": [
        "integers_set = {1, 2, 3, 4, 5}\n",
        "\n",
        "#Initialize an empty set to store the strings\n",
        "strings_set = set()\n",
        "\n",
        "# Iterate through each integer in the integers_set\n",
        "for num in integer_set:\n",
        "\n",
        "  #Convert the integer to a string using the str() function\n",
        "  num_str = str(num)\n",
        "\n",
        "#Add the string representation to the strings_set\n",
        "  strings_set.add(num_str)\n",
        "\n",
        "print(\"Original integers_set:\", integers_set)\n",
        "print(\"Converted strings_set:\", strings_set)"
      ],
      "metadata": {
        "colab": {
          "base_uri": "https://localhost:8080/"
        },
        "id": "fnObbQ7-2zv5",
        "outputId": "c6a9bce5-d05f-469f-f0f6-a3941207e86a"
      },
      "execution_count": null,
      "outputs": [
        {
          "output_type": "stream",
          "name": "stdout",
          "text": [
            "Original integers_set: {1, 2, 3, 4, 5}\n",
            "Converted strings_set: {'456', '789', '123'}\n"
          ]
        }
      ]
    },
    {
      "cell_type": "markdown",
      "source": [
        "36. Create a set from a tuple."
      ],
      "metadata": {
        "id": "r72rCXm93xb1"
      }
    },
    {
      "cell_type": "code",
      "source": [
        "input_tuple = (1, 2, 3, 2, 4, 5, 1)\n",
        "output_set = set(input_tuple)\n",
        "print(output_set)"
      ],
      "metadata": {
        "colab": {
          "base_uri": "https://localhost:8080/"
        },
        "id": "Yhqs3NnR3z8W",
        "outputId": "6c118402-0619-4d28-9b9a-80759d18f8f1"
      },
      "execution_count": null,
      "outputs": [
        {
          "output_type": "stream",
          "name": "stdout",
          "text": [
            "{1, 2, 3, 4, 5}\n"
          ]
        }
      ]
    },
    {
      "cell_type": "markdown",
      "source": [],
      "metadata": {
        "id": "7XlVz3OQGHB8"
      }
    },
    {
      "cell_type": "markdown",
      "source": [
        "37. Convert a set to a tuple."
      ],
      "metadata": {
        "id": "gWpV4XXz4FPH"
      }
    },
    {
      "cell_type": "code",
      "source": [
        "input_set = (1, 2, 3, 2, 4, 5)\n",
        "\n",
        "#Convert the set to a tuple\n",
        "output_tuple = tuple(input_set)\n",
        "\n",
        "#Print the original set and the converted tuple\n",
        "print(\"Original set:\", input_set)\n",
        "print(\"Converted tuple:\", output_tuple)"
      ],
      "metadata": {
        "colab": {
          "base_uri": "https://localhost:8080/"
        },
        "id": "RM62Ppf_4DE4",
        "outputId": "03ae2597-00c0-4538-9021-2f1920a715df"
      },
      "execution_count": null,
      "outputs": [
        {
          "output_type": "stream",
          "name": "stdout",
          "text": [
            "Original set: (1, 2, 3, 2, 4, 5)\n",
            "Converted tuple: (1, 2, 3, 2, 4, 5)\n"
          ]
        }
      ]
    },
    {
      "cell_type": "markdown",
      "source": [
        "38. Find the maximum value in a set."
      ],
      "metadata": {
        "id": "Qg6PyqT44dbv"
      }
    },
    {
      "cell_type": "code",
      "source": [
        "my_set = {15, 7, 22, 13, 8}\n",
        "\n",
        "# Initialize a variable to store the maximum value\n",
        "max_value = None\n",
        "\n",
        "# Iterate through each element in the set\n",
        "for num in my_set:\n",
        "   # Check if max_value is None (first iteration) or if the current number is greater than max_value\n",
        "  if max_value is None or num > max_value: # Update max_value with the current number if it's greater\n",
        "    max_value = num\n",
        "\n",
        "# Update max_value with the current number if it's greater\n",
        "print(\"Maximum value \", max_value)"
      ],
      "metadata": {
        "colab": {
          "base_uri": "https://localhost:8080/"
        },
        "id": "4vwC0IWW4gSc",
        "outputId": "1a6d2aba-d9fc-413b-96f3-fb5aae350259"
      },
      "execution_count": null,
      "outputs": [
        {
          "output_type": "stream",
          "name": "stdout",
          "text": [
            "Maximum value  22\n"
          ]
        }
      ]
    },
    {
      "cell_type": "markdown",
      "source": [
        "39. Find the minimum value in a set."
      ],
      "metadata": {
        "id": "8hVNsr5Y5gxa"
      }
    },
    {
      "cell_type": "code",
      "source": [
        "my_set = {15, 8, 23, 4, 42, 11}\n",
        "\n",
        "# Initialize a variable to store the minimum value\n",
        "min_value = None\n",
        "\n",
        "# Iterate through each element in the set\n",
        "for num in my_set:\n",
        "\n",
        "  # Check if min_value is None (first iteration) or if num is smaller than the current min_value\n",
        "  if min_value is None or num < min_value:\n",
        "\n",
        "     # Update min_value to the current num since it's smaller\n",
        "    min_value = num\n",
        "\n",
        "print(\"The min value in the set is :\", min_value)"
      ],
      "metadata": {
        "colab": {
          "base_uri": "https://localhost:8080/"
        },
        "id": "kfrazlL35Kj1",
        "outputId": "3a84aa36-5b1d-4774-cd48-41e20fa7503a"
      },
      "execution_count": null,
      "outputs": [
        {
          "output_type": "stream",
          "name": "stdout",
          "text": [
            "The min value in the set is : 4\n"
          ]
        }
      ]
    },
    {
      "cell_type": "markdown",
      "source": [
        "40. Create a set from user input."
      ],
      "metadata": {
        "id": "kcsYyy2Q6VI4"
      }
    },
    {
      "cell_type": "code",
      "source": [
        "user_set = set()\n",
        "\n",
        "#Get input from the user\n",
        "print(\"Enter elements for the set (type 'done' to finish):\")\n",
        "while True:\n",
        "  user_input = input(\">\")  # Get input from the user\n",
        "\n",
        "  if user_input.lower() == 'done':\n",
        "    break # Exit the loop if the user enters 'done'\n",
        "\n",
        "    #Add the user input to the set\n",
        "  user_set.add(user_input)\n",
        "\n",
        "#Display the final set created from user input\n",
        "print(\"Final set :\", user_set)"
      ],
      "metadata": {
        "colab": {
          "base_uri": "https://localhost:8080/"
        },
        "id": "FKMH8cvt6FND",
        "outputId": "18d93fcc-3c69-4962-89c8-127ab4ec397e"
      },
      "execution_count": null,
      "outputs": [
        {
          "output_type": "stream",
          "name": "stdout",
          "text": [
            "Enter elements for the set (type 'done' to finish):\n",
            ">abhi\n",
            ">sinha\n",
            ">done\n",
            "Final set : {'abhi', 'sinha'}\n"
          ]
        }
      ]
    },
    {
      "cell_type": "markdown",
      "source": [
        "41. Check if the intersection of two sets is empty."
      ],
      "metadata": {
        "id": "Q5XIKlV9-wk4"
      }
    },
    {
      "cell_type": "code",
      "source": [
        "set1 = {1, 2, 3, 4, 5}\n",
        "set2 = {4, 5, 6, 7, 8}\n",
        "\n",
        "#Find the intersection of the two sets using the `intersection()` method\n",
        "intersection_result = set1.intersection(set2)\n",
        "\n",
        "# Check if the intersection result is empty\n",
        "if not intersection_result:\n",
        "    print(\"The intersection of the two sets is empty.\")\n",
        "else:\n",
        "    print(\"The intersection of the two sets is not empty.\")"
      ],
      "metadata": {
        "colab": {
          "base_uri": "https://localhost:8080/"
        },
        "id": "TVNB9JDB7Umg",
        "outputId": "8c2203e0-be34-4b02-decb-e096d589f8c1"
      },
      "execution_count": null,
      "outputs": [
        {
          "output_type": "stream",
          "name": "stdout",
          "text": [
            "The intersection of the two sets is not empty.\n"
          ]
        }
      ]
    },
    {
      "cell_type": "code",
      "source": [],
      "metadata": {
        "id": "xGiesV4E-7tt"
      },
      "execution_count": null,
      "outputs": []
    },
    {
      "cell_type": "markdown",
      "source": [
        "42. Create a set of the first 5 Fibonacci numbers."
      ],
      "metadata": {
        "id": "ORYiwTd8_BbZ"
      }
    },
    {
      "cell_type": "code",
      "source": [
        "# Create a set to store the first 5 Fibonacci numbers\n",
        "fibonacci_set = set()\n",
        "\n",
        "# Initialize the first two Fibonacci numbers\n",
        "a, b = 0, 1\n",
        "\n",
        "# Loop to generate the first 5 Fibonacci numbers\n",
        "for i in range(6):\n",
        "  # Add the current Fibonacci number to the set\n",
        "  fibonacci_set.add(a)\n",
        "\n",
        "# Calculate the next Fibonacci number\n",
        "  a,b = b, a+b\n",
        "\n",
        "# Print the set of Fibonacci numbers\n",
        "print(\"Set of the first 5 Fibonacci numbers:\", fibonacci_set)\n"
      ],
      "metadata": {
        "colab": {
          "base_uri": "https://localhost:8080/"
        },
        "id": "80FoaQaj_CWx",
        "outputId": "110c2a23-29ef-478e-9d0b-df0a17b1d46a"
      },
      "execution_count": null,
      "outputs": [
        {
          "output_type": "stream",
          "name": "stdout",
          "text": [
            "Set of the first 5 Fibonacci numbers: {0, 1, 2, 3, 5}\n"
          ]
        }
      ]
    },
    {
      "cell_type": "code",
      "source": [],
      "metadata": {
        "id": "ToO1MBTE_hSA"
      },
      "execution_count": null,
      "outputs": []
    },
    {
      "cell_type": "markdown",
      "source": [
        "43. Remove duplicates from a list using sets."
      ],
      "metadata": {
        "id": "XSAC41Ts_l33"
      }
    },
    {
      "cell_type": "code",
      "source": [
        "original_list = [2, 4, 6, 8, 4, 10, 6, 12, 14, 8]\n",
        "\n",
        "# Convert the list to a set\n",
        "unique_set = set(original_list)\n",
        "\n",
        "# Now, 'unique_set' contains only unique elements from 'original_list'\n",
        "# Convert the set back to a list\n",
        "unique_list = list(unique_set)\n",
        "\n",
        "# Now, 'unique_list' is a list containing only unique elements\n",
        "# Print the original list and the list with duplicates removed\n",
        "print(\"Original List:\", original_list)\n",
        "print(\"List with Duplicates Removed:\", unique_list)"
      ],
      "metadata": {
        "colab": {
          "base_uri": "https://localhost:8080/"
        },
        "id": "MYf0hn-1_mmo",
        "outputId": "72a14e99-9e14-421b-b645-14c752e31feb"
      },
      "execution_count": null,
      "outputs": [
        {
          "output_type": "stream",
          "name": "stdout",
          "text": [
            "Original List: [2, 4, 6, 8, 4, 10, 6, 12, 14, 8]\n",
            "List with Duplicates Removed: [2, 4, 6, 8, 10, 12, 14]\n"
          ]
        }
      ]
    },
    {
      "cell_type": "markdown",
      "source": [
        "44. Check if two sets have the same elements, regardless of their count."
      ],
      "metadata": {
        "id": "lZO9znu8_9hl"
      }
    },
    {
      "cell_type": "code",
      "source": [
        "def same_element(set1, set2):\n",
        "\n",
        "# Convert the sets to lists and sort them\n",
        "  sorted_list1 = sorted(list(set1))\n",
        "  sorted_list2 = sorted(list(set2))\n",
        "\n",
        "# Compare the sorted lists to check if they are equal\n",
        "  return sorted_list1 == sorted_list2\n",
        "\n",
        "set1 = set1 = {1, 2, 3, 2, 1}\n",
        "set2 = {3, 1, 2}\n",
        "\n",
        "# Check if the sets have the same elements\n",
        "result = same_element(set1, set2)\n",
        "\n",
        "# Print the result\n",
        "if result:\n",
        "  print(\"The set have the same elements\")\n",
        "else:\n",
        "  print(\"The set have the same elements\")"
      ],
      "metadata": {
        "colab": {
          "base_uri": "https://localhost:8080/"
        },
        "id": "v37ABtYG_v3n",
        "outputId": "dd675098-fd71-4b5e-a560-1be70e93edae"
      },
      "execution_count": null,
      "outputs": [
        {
          "output_type": "stream",
          "name": "stdout",
          "text": [
            "The set have the same elements\n"
          ]
        }
      ]
    },
    {
      "cell_type": "markdown",
      "source": [
        "45. Create a set of the first n powers of 2"
      ],
      "metadata": {
        "id": "fcYyTorZA1Bb"
      }
    },
    {
      "cell_type": "code",
      "source": [
        "def powers_of_2(n)\n",
        "\n",
        "# Initialize an empty set to store the powers of 2\n",
        "  powers_of_2 = set()\n",
        "\n",
        "# Loop from 0 to n-1\n",
        "  for i in range(n):\n",
        "\n",
        "    # Calculate the current power of 2 using the exponentiation operator **\n",
        "    power = 2 ** i\n",
        "\n",
        "    # Add the current power of 2 to the set\n",
        "    powers_of_2.add(power)\n",
        "\n",
        "# Return the set of powers of 2\n",
        "  return powers_of_2\n",
        "\n",
        "# Define the value of n\n",
        "n = 5\n",
        "\n",
        "# Call the function to generate the set of powers of 2\n",
        "power_set = powers_of_2(n)\n",
        "\n",
        "# Print the resulting set\n",
        "print(power_set)\n"
      ],
      "metadata": {
        "colab": {
          "base_uri": "https://localhost:8080/"
        },
        "id": "-nOq8u5bAANc",
        "outputId": "ca80742a-0d1e-431d-ef1f-67f81d13a861"
      },
      "execution_count": null,
      "outputs": [
        {
          "output_type": "stream",
          "name": "stdout",
          "text": [
            "{1, 2, 4, 8, 16}\n"
          ]
        }
      ]
    },
    {
      "cell_type": "markdown",
      "source": [
        "46. Find the common elements between a set and a list."
      ],
      "metadata": {
        "id": "GqxuTvHIEB1g"
      }
    },
    {
      "cell_type": "code",
      "source": [
        "my_set = {3, 7, 9, 12, 15}\n",
        "my_list = [7, 12, 5, 9]\n",
        "\n",
        "# Convert the list to a set for efficient comparison\n",
        "list_of_set = set(my_list)\n",
        "\n",
        "#Initialize an empty list to store common elements\n",
        "common_elements = []\n",
        "\n",
        "#Iterate through the elements in the set\n",
        "for element in my_set:\n",
        "\n",
        "  # Check if the element is present in the converted set (list_to_set)\n",
        "  if element in my_list:\n",
        "\n",
        "    #If the element is present in both the set and the list, add it to the common_elements list\n",
        "    common_elements.append(element)\n",
        "\n",
        "#Print the common elements\n",
        "print(\"Common element: \", common_elements)\n"
      ],
      "metadata": {
        "colab": {
          "base_uri": "https://localhost:8080/"
        },
        "id": "NETtG5R-AASd",
        "outputId": "7e259fa6-b849-42cd-a3c9-0fa1eae0412e"
      },
      "execution_count": null,
      "outputs": [
        {
          "output_type": "stream",
          "name": "stdout",
          "text": [
            "Common element:  [7, 9, 12]\n"
          ]
        }
      ]
    },
    {
      "cell_type": "markdown",
      "source": [
        "47. Create a set of the first `n` triangular numbers."
      ],
      "metadata": {
        "id": "ALXIxsKKJ0WA"
      }
    },
    {
      "cell_type": "code",
      "source": [
        "def generated_triangular_num(n):\n",
        "  triangular_numbers = set()  # Create an empty set to store the triangular numbers\n",
        "  for i in range(1, n+1):\n",
        "    triangular_number = i * (i+1)//2  # Calculate the ith triangular number using the formula\n",
        "    triangular_numbers.add(triangular_number) # Add the calculated triangular number to the set\n",
        "  return triangular_numbers\n",
        "\n",
        "# Input the value of 'n'\n",
        "n = int(input(\"Enter the value of n : \"))\n",
        "\n",
        "# Call the function to generate the set of first 'n' triangular numbers\n",
        "triangular_set = generated_triangular_num(n)\n",
        "\n",
        "# Display the set of triangular numbers\n",
        "print(f\"The set of the first {n} triangular numbers is:\", triangular_set)"
      ],
      "metadata": {
        "colab": {
          "base_uri": "https://localhost:8080/"
        },
        "id": "6sC0kXiXJ2e_",
        "outputId": "a7ddf506-478b-40de-8b09-276e56b7daaa"
      },
      "execution_count": null,
      "outputs": [
        {
          "output_type": "stream",
          "name": "stdout",
          "text": [
            "Enter the value of n : 5\n",
            "The set of the first 5 triangular numbers is: {1, 3, 6, 10, 15}\n"
          ]
        }
      ]
    },
    {
      "cell_type": "markdown",
      "source": [
        "48. Check if a set contains another set as a subset.\n",
        "\n"
      ],
      "metadata": {
        "id": "z331mBBLFsa6"
      }
    },
    {
      "cell_type": "code",
      "source": [
        "set1 = {1, 2, 3, 4, 5}\n",
        "set2 = {3, 4}\n",
        "\n",
        "# Check if set2 is a subset of set1\n",
        "is_subset = set2.issubset(set1)\n",
        "\n",
        "# Print the result\n",
        "if is_subset:\n",
        "  print(\"set2 is a subset of set1\")\n",
        "else:\n",
        "  print(\"set2 is not a subset of set1\")"
      ],
      "metadata": {
        "colab": {
          "base_uri": "https://localhost:8080/"
        },
        "id": "QiVzSVsiAAWO",
        "outputId": "a55769c8-75f8-44c1-ab9f-ef5d74b25284"
      },
      "execution_count": null,
      "outputs": [
        {
          "output_type": "stream",
          "name": "stdout",
          "text": [
            "set2 is a subset of set1\n"
          ]
        }
      ]
    },
    {
      "cell_type": "markdown",
      "source": [
        "49. Create a set of alternating 1s and 0s of length n."
      ],
      "metadata": {
        "id": "6qCFqE5XFGnN"
      }
    },
    {
      "cell_type": "code",
      "source": [
        "def create_alternating_set(n):\n",
        "  # Initialize an empty set to store the alternating sequence.\n",
        "  alternating_set = set()\n",
        "\n",
        "# Loop to generate alternating 1s and 0s.\n",
        "  for i in range(n):\n",
        "\n",
        "     # Alternate between adding 1 and 0 to the set based on whether i is even or odd.\n",
        "    if i % 2 == 0:\n",
        "      alternating_set.add(1) # Add 1 if i is even.\n",
        "    else:\n",
        "      alternating_set.add(0)  # Add 0 if i is odd.\n",
        "  return alternating_set\n",
        "\n",
        "# Define the desired length of the alternating set.\n",
        "length_n = 10\n",
        "\n",
        "# Call the function to create the alternating set of length 'length_n'.\n",
        "result = create_alternating_set(length_n)\n",
        "\n",
        "# Print the resulting set.\n",
        "print(result)"
      ],
      "metadata": {
        "colab": {
          "base_uri": "https://localhost:8080/"
        },
        "id": "G3-dGHIOAAZh",
        "outputId": "65553d54-c428-45bb-af63-2d20473af49e"
      },
      "execution_count": null,
      "outputs": [
        {
          "output_type": "stream",
          "name": "stdout",
          "text": [
            "{0, 1}\n"
          ]
        }
      ]
    },
    {
      "cell_type": "markdown",
      "source": [
        "50. Merge multiple sets into one."
      ],
      "metadata": {
        "id": "tj68ijgVIH_J"
      }
    },
    {
      "cell_type": "code",
      "source": [
        "set1 = {1, 2, 3}\n",
        "set2 = {3, 4, 5}\n",
        "set3 = {5, 6, 7}\n",
        "\n",
        "# Use the union() method to merge sets\n",
        "merged_set = set1.union(set2, set3)\n",
        "\n",
        "# Alternatively, you can use the | operator\n",
        "# merged_set = set1 | set2 | set3\n",
        "\n",
        "# Print the merged set\n",
        "print(\"Merged Set : \", merged_set)"
      ],
      "metadata": {
        "colab": {
          "base_uri": "https://localhost:8080/"
        },
        "id": "ILpD25KkAA_M",
        "outputId": "58fc7274-ebd7-4e61-f93c-55c2ee7f5bb5"
      },
      "execution_count": null,
      "outputs": [
        {
          "output_type": "stream",
          "name": "stdout",
          "text": [
            "Merged Set :  {1, 2, 3, 4, 5, 6, 7}\n",
            "Merged Set :  {1, 2, 3, 4, 5, 6, 7}\n"
          ]
        }
      ]
    },
    {
      "cell_type": "code",
      "source": [],
      "metadata": {
        "id": "o-hlplp2ABDa"
      },
      "execution_count": null,
      "outputs": []
    }
  ],
  "metadata": {
    "colab": {
      "provenance": []
    },
    "kernelspec": {
      "display_name": "Python 3",
      "name": "python3"
    },
    "language_info": {
      "name": "python"
    }
  },
  "nbformat": 4,
  "nbformat_minor": 0
}